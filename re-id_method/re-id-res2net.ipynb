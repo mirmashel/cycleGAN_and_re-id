{
 "cells": [
  {
   "cell_type": "code",
   "execution_count": 1,
   "metadata": {},
   "outputs": [],
   "source": [
    "import os\n",
    "import torch\n",
    "import numpy as np\n",
    "import torch.nn as nn\n",
    "import torch.nn.functional as F\n",
    "import torch.utils.model_zoo as model_zoo\n",
    "from skimage.io import imread\n",
    "from sklearn.model_selection import train_test_split\n",
    "from PIL import Image\n",
    "from torch.utils.data import Dataset, DataLoader\n",
    "from torchvision import transforms, utils"
   ]
  },
  {
   "cell_type": "markdown",
   "metadata": {},
   "source": [
    "## Res2Net"
   ]
  },
  {
   "cell_type": "code",
   "execution_count": 2,
   "metadata": {},
   "outputs": [],
   "source": [
    "import math\n",
    "\n",
    "class Bottle2neck(nn.Module):\n",
    "    expansion = 4\n",
    "\n",
    "    def __init__(self, inplanes, planes, stride=1, downsample=None, baseWidth=26, scale=4, stype='normal'):\n",
    "        \"\"\" Constructor\n",
    "        Args:\n",
    "            inplanes: input channel dimensionality\n",
    "            planes: output channel dimensionality\n",
    "            stride: conv stride. Replaces pooling layer.\n",
    "            downsample: None when stride = 1\n",
    "            baseWidth: basic width of conv3x3\n",
    "            scale: number of scale.\n",
    "            type: 'normal': normal set. 'stage': first block of a new stage.\n",
    "        \"\"\"\n",
    "        super(Bottle2neck, self).__init__()\n",
    "\n",
    "        width = int(math.floor(planes * (baseWidth / 64.0)))\n",
    "        self.conv1 = nn.Conv2d(inplanes, width * scale, kernel_size=1, bias=False)\n",
    "        self.bn1 = nn.BatchNorm2d(width * scale)\n",
    "\n",
    "        if scale == 1:\n",
    "            self.nums = 1\n",
    "        else:\n",
    "            self.nums = scale - 1\n",
    "        if stype == 'stage':\n",
    "            self.pool = nn.AvgPool2d(kernel_size=3, stride=stride, padding=1)\n",
    "        convs = []\n",
    "        bns = []\n",
    "        for i in range(self.nums):\n",
    "            convs.append(nn.Conv2d(width, width, kernel_size=3, stride=stride, padding=1, bias=False))\n",
    "            bns.append(nn.BatchNorm2d(width))\n",
    "        self.convs = nn.ModuleList(convs)\n",
    "        self.bns = nn.ModuleList(bns)\n",
    "\n",
    "        self.conv3 = nn.Conv2d(width * scale, planes * self.expansion, kernel_size=1, bias=False)\n",
    "        self.bn3 = nn.BatchNorm2d(planes * self.expansion)\n",
    "\n",
    "        self.relu = nn.ReLU(inplace=True)\n",
    "        self.downsample = downsample\n",
    "        self.stype = stype\n",
    "        self.scale = scale\n",
    "        self.width = width\n",
    "\n",
    "    def forward(self, x):\n",
    "        residual = x\n",
    "\n",
    "        out = self.conv1(x)\n",
    "        out = self.bn1(out)\n",
    "        out = self.relu(out)\n",
    "\n",
    "        spx = torch.split(out, self.width, 1)\n",
    "        for i in range(self.nums):\n",
    "            if i == 0 or self.stype == 'stage':\n",
    "                sp = spx[i]\n",
    "            else:\n",
    "                sp = sp + spx[i]\n",
    "            sp = self.convs[i](sp)\n",
    "            sp = self.relu(self.bns[i](sp))\n",
    "            if i == 0:\n",
    "                out = sp\n",
    "            else:\n",
    "                out = torch.cat((out, sp), 1)\n",
    "        if self.scale != 1 and self.stype == 'normal':\n",
    "            out = torch.cat((out, spx[self.nums]), 1)\n",
    "        elif self.scale != 1 and self.stype == 'stage':\n",
    "            out = torch.cat((out, self.pool(spx[self.nums])), 1)\n",
    "\n",
    "        out = self.conv3(out)\n",
    "        out = self.bn3(out)\n",
    "\n",
    "        if self.downsample is not None:\n",
    "            residual = self.downsample(x)\n",
    "\n",
    "        out += residual\n",
    "        out = self.relu(out)\n",
    "\n",
    "        return out\n",
    "\n",
    "\n",
    "class Res2Net(nn.Module):\n",
    "\n",
    "    def __init__(self, block, layers, baseWidth=26, scale=4, num_classes=1000):\n",
    "        self.inplanes = 64\n",
    "        super(Res2Net, self).__init__()\n",
    "        self.baseWidth = baseWidth\n",
    "        self.scale = scale\n",
    "        self.conv1 = nn.Conv2d(3, 64, kernel_size=7, stride=2, padding=3,\n",
    "                               bias=False)\n",
    "        self.bn1 = nn.BatchNorm2d(64)\n",
    "        self.relu = nn.ReLU(inplace=True)\n",
    "        self.maxpool = nn.MaxPool2d(kernel_size=3, stride=2, padding=1)\n",
    "        self.layer1 = self._make_layer(block, 64, layers[0])\n",
    "        self.layer2 = self._make_layer(block, 128, layers[1], stride=2)\n",
    "        self.layer3 = self._make_layer(block, 256, layers[2], stride=2)\n",
    "        self.layer4 = self._make_layer(block, 512, layers[3], stride=2)\n",
    "        self.avgpool = nn.AvgPool2d((7, 4), stride=1)\n",
    "        self.fc = nn.Linear(512 * block.expansion, num_classes)\n",
    "\n",
    "        for m in self.modules():\n",
    "            if isinstance(m, nn.Conv2d):\n",
    "                nn.init.kaiming_normal_(m.weight, mode='fan_out', nonlinearity='relu')\n",
    "            elif isinstance(m, nn.BatchNorm2d):\n",
    "                nn.init.constant_(m.weight, 1)\n",
    "                nn.init.constant_(m.bias, 0)\n",
    "\n",
    "    def _make_layer(self, block, planes, blocks, stride=1):\n",
    "        downsample = None\n",
    "        if stride != 1 or self.inplanes != planes * block.expansion:\n",
    "            downsample = nn.Sequential(\n",
    "                nn.Conv2d(self.inplanes, planes * block.expansion,\n",
    "                          kernel_size=1, stride=stride, bias=False),\n",
    "                nn.BatchNorm2d(planes * block.expansion),\n",
    "            )\n",
    "\n",
    "        layers = []\n",
    "        layers.append(block(self.inplanes, planes, stride, downsample=downsample,\n",
    "                            stype='stage', baseWidth=self.baseWidth, scale=self.scale))\n",
    "        self.inplanes = planes * block.expansion\n",
    "        for i in range(1, blocks):\n",
    "            layers.append(block(self.inplanes, planes, baseWidth=self.baseWidth, scale=self.scale))\n",
    "\n",
    "        return nn.Sequential(*layers)\n",
    "\n",
    "    def forward(self, x):\n",
    "        x = self.conv1(x)\n",
    "        x = self.bn1(x)\n",
    "        x = self.relu(x)\n",
    "        x = self.maxpool(x)\n",
    "\n",
    "        x = self.layer1(x)\n",
    "        x = self.layer2(x)\n",
    "        x = self.layer3(x)\n",
    "        x = self.layer4(x)\n",
    "        \n",
    "        x = self.avgpool(x)\n",
    "        x = x.view(x.size(0), x.size(1) * x.size(2), 1, 1) \n",
    "\n",
    "        return x"
   ]
  },
  {
   "cell_type": "code",
   "execution_count": 3,
   "metadata": {},
   "outputs": [],
   "source": [
    "path = './models_weights/res2net50_26w_4s-06e79181.pth'\n",
    "model_base = Res2Net(Bottle2neck, [3, 4, 6, 3], baseWidth = 26, scale = 4).to('cuda')\n",
    "# model_base.load_state_dict(torch.load(path, map_location=torch.device('cuda')))"
   ]
  },
  {
   "cell_type": "code",
   "execution_count": 6,
   "metadata": {},
   "outputs": [
    {
     "data": {
      "text/plain": [
       "torch.Size([32, 4096, 1, 1])"
      ]
     },
     "execution_count": 6,
     "metadata": {},
     "output_type": "execute_result"
    }
   ],
   "source": [
    "model_base(torch.randn(32, 3, 256, 128).cuda()).size()"
   ]
  },
  {
   "cell_type": "markdown",
   "metadata": {},
   "source": [
    "## Re-ID model"
   ]
  },
  {
   "cell_type": "code",
   "execution_count": 4,
   "metadata": {},
   "outputs": [],
   "source": [
    "class ReIDModel(nn.Module):\n",
    "    \"\"\"Basic neural network model for reidentification. Based on Res2Net\"\"\"\n",
    "    \n",
    "    def __init__(self, Res2Net_model, person_number=751):\n",
    "        super(ReIDModel, self).__init__()\n",
    "        self.backbone = Res2Net_model\n",
    "        self.conv1 = nn.Conv2d(4096, person_number, 1)\n",
    "        self.conv2 = nn.Conv2d(4096, person_number, 1)\n",
    "        self.conv3 = nn.Conv2d(4096, person_number, 1)\n",
    "        self.fc1 = nn.Linear(person_number, out_features=person_number)\n",
    "        self.fc2 = nn.Linear(person_number, out_features=person_number)\n",
    "        self.fc3 = nn.Linear(person_number, out_features=2)\n",
    "        \n",
    "    def forward(self, x, y):\n",
    "        f1 = self.backbone(x)\n",
    "        f2 = self.backbone(y)\n",
    "        \n",
    "        x = self.conv1(f1)\n",
    "        y = self.conv2(f2)\n",
    "        \n",
    "        z = (f1 - f2) ** 2\n",
    "        z = self.conv3(z)\n",
    "        z = z.view(z.size(0), -1)\n",
    "        verification = self.fc3(z)\n",
    "        \n",
    "        x = x.view(x.size(0), -1)\n",
    "        first_person_id = self.fc1(x)\n",
    "        y = y.view(y.size(0), -1)\n",
    "        second_person_id = self.fc2(y)\n",
    "        \n",
    "        return (f1, f2, verification, first_person_id, second_person_id)"
   ]
  },
  {
   "cell_type": "code",
   "execution_count": 5,
   "metadata": {},
   "outputs": [],
   "source": [
    "model = nn.DataParallel(ReIDModel(model_base, 702))\n",
    "model = model.to(torch.device('cuda'))"
   ]
  },
  {
   "cell_type": "markdown",
   "metadata": {},
   "source": [
    "## Market-1501 dataset"
   ]
  },
  {
   "cell_type": "code",
   "execution_count": 8,
   "metadata": {},
   "outputs": [],
   "source": [
    "class Market1501(Dataset):\n",
    "    \"\"\"Market-1501 dataset\"\"\"\n",
    "    \n",
    "    def __init__(self, root='', dataset_type='Train', transform=None):\n",
    "        self.dataset_type = dataset_type\n",
    "        if dataset_type == 'Train':\n",
    "            self.root_dir = os.path.join(root, 'bounding_box_train')\n",
    "        elif dataset_type == 'Test':\n",
    "            self.root_dir = os.path.join(root, 'bounding_box_test')\n",
    "        elif dataset_type == 'Query':\n",
    "            self.root_dir = os.path.join(root, 'query')\n",
    "        else:\n",
    "            raise Exception('Invalid dataset type')\n",
    "        self.transform = transform\n",
    "        self.img_names = [name for name in os.listdir(self.root_dir)]\n",
    "\n",
    "    def __len__(self):\n",
    "        return (len(self.img_names))\n",
    "    \n",
    "    def __getitem__(self, idx):\n",
    "        img = Image.open(os.path.join(self.root_dir, self.img_names[idx]))\n",
    "        person_id = self.img_names[idx].split('_')[0]\n",
    "        camera_id = self.img_names[idx].split('_')[1][1]\n",
    "        \n",
    "        if self.transform:\n",
    "            img = self.transform(img)\n",
    "            \n",
    "        return {'image': img, 'person_id': int(person_id), 'camera_id': int(camera_id)}"
   ]
  },
  {
   "cell_type": "markdown",
   "metadata": {},
   "source": [
    "## DukeMTMC-reID dataset"
   ]
  },
  {
   "cell_type": "code",
   "execution_count": 9,
   "metadata": {},
   "outputs": [],
   "source": [
    "class DukeMTMC(Dataset):\n",
    "    \"\"\"DukeMTMC-reID dataset\"\"\"\n",
    "    \n",
    "    def __init__(self, root='', dataset_type='Train', transform=None):\n",
    "        self.dataset_type = dataset_type\n",
    "        if dataset_type == 'Train':\n",
    "            self.root_dir = os.path.join(root, 'bounding_box_train')\n",
    "        elif dataset_type == 'Test':\n",
    "            self.root_dir = os.path.join(root, 'bounding_box_test')\n",
    "        elif dataset_type == 'Query':\n",
    "            self.root_dir = os.path.join(root, 'query')\n",
    "        else:\n",
    "            raise Exception('Invalid dataset type')\n",
    "        self.transform = transform\n",
    "        self.img_names = [name for name in os.listdir(self.root_dir)]\n",
    "\n",
    "    def __len__(self):\n",
    "        return (len(self.img_names))\n",
    "    \n",
    "    def __getitem__(self, idx):\n",
    "        img = Image.open(os.path.join(self.root_dir, self.img_names[idx]))\n",
    "        person_id = self.img_names[idx].split('_')[0]\n",
    "        camera_id = self.img_names[idx].split('_')[1][1]\n",
    "        \n",
    "        if self.transform:\n",
    "            img = self.transform(img)\n",
    "            \n",
    "        return {'image': img, 'person_id': int(person_id), 'camera_id': int(camera_id)}"
   ]
  },
  {
   "cell_type": "markdown",
   "metadata": {},
   "source": [
    "## Random Erasing and other augmentations"
   ]
  },
  {
   "cell_type": "code",
   "execution_count": 10,
   "metadata": {},
   "outputs": [],
   "source": [
    "from skimage.transform import resize, rotate\n",
    "from random import uniform, randint \n",
    "from math import sqrt\n",
    "\n",
    "class RandomErasing(object):\n",
    "    \"\"\"Random Erasing\"\"\"\n",
    "    \n",
    "    def __init__(self, probability=0.4, er_area_min=0.02, er_area_max=0.4, asp_ratio=0.3,er_color=[150, 142, 129]):\n",
    "        self.probability = probability\n",
    "        self.erasing_area_min = er_area_min\n",
    "        self.erasing_area_max = er_area_max\n",
    "        self.aspect_ratio = asp_ratio\n",
    "        self.erasing_color = er_color\n",
    "        \n",
    "    def __call__(self, img):\n",
    "        if uniform(0, 1) <= self.probability:\n",
    "            target_area = uniform(self.erasing_area_min, self.erasing_area_max) * img.shape[1] * img.shape[2]\n",
    "            aspect_ratio = uniform(self.aspect_ratio, 1 / self.aspect_ratio)\n",
    "            \n",
    "            h = round(sqrt(target_area * aspect_ratio))\n",
    "            w = round(sqrt(target_area / aspect_ratio))\n",
    "            \n",
    "            if h < img.shape[1] and w < img.shape[2]:\n",
    "                top_left = (randint(0, img.shape[1] - h), randint(0, img.shape[2] - w))\n",
    "                for i in range(3):\n",
    "                    img[i, top_left[0]:top_left[0] + h, top_left[1]:top_left[1] + w] = self.erasing_color[i] / 255\n",
    "        return img\n",
    "    \n",
    "class Resize(object):\n",
    "    \"\"\"Resize the input Image\"\"\"\n",
    "\n",
    "    def __init__(self, size):\n",
    "        self.size = size\n",
    "\n",
    "    def __call__(self, img):\n",
    "        return resize(img, self.size)\n",
    "    \n",
    "class RandomCrop(object):\n",
    "    \"\"\"Crop randomly the image In a sample\"\"\"\n",
    "\n",
    "    def __init__(self, output_size):\n",
    "        self.output_size = output_size\n",
    "\n",
    "    def __call__(self, img):\n",
    "        h, w = img.shape[:2]\n",
    "        new_h, new_w = self.output_size\n",
    "\n",
    "        top = np.random.randint(0, h - new_h)\n",
    "        left = 0 #np.random.randint(0, w - new_w)\n",
    "\n",
    "        img = img[top: top + new_h,\n",
    "                      left: left + new_w]\n",
    "\n",
    "        return img\n",
    "    \n",
    "class RandomRotation(object):\n",
    "    \"\"\"Random Image Rotations\"\"\"\n",
    "    \n",
    "    def __init__(self, angle_max):\n",
    "        self.angle_max = angle_max\n",
    "        \n",
    "    def __call__(self, img):\n",
    "        angle = np.random.randint(-self.angle_max, self.angle_max)\n",
    "        return rotate(img, angle)"
   ]
  },
  {
   "cell_type": "code",
   "execution_count": 11,
   "metadata": {},
   "outputs": [],
   "source": [
    "transform_train = transforms.Compose([\n",
    "    Resize((256, 128)),\n",
    "    RandomCrop((246, 128)),\n",
    "    RandomRotation(15),\n",
    "    transforms.ToTensor(),\n",
    "    transforms.Normalize(mean=[0.485, 0.456, 0.406],\n",
    "                         std=[0.229, 0.224, 0.225]),\n",
    "    RandomErasing()\n",
    "])\n",
    "\n",
    "transform_val = transforms.Compose([\n",
    "    Resize((256, 128)),\n",
    "    transforms.ToTensor(),\n",
    "    transforms.Normalize(mean=[0.485, 0.456, 0.406],\n",
    "                         std=[0.229, 0.224, 0.225]),\n",
    "])\n",
    "\n",
    "#market_train = Market1501('./datasets/Market-1501-v15.09.15', transform=transform)\n",
    "#dataloader_train = DataLoader(market_train, batch_size=32, shuffle=True)"
   ]
  },
  {
   "cell_type": "markdown",
   "metadata": {},
   "source": [
    "## Loading Training Data"
   ]
  },
  {
   "cell_type": "code",
   "execution_count": 12,
   "metadata": {
    "scrolled": true
   },
   "outputs": [],
   "source": [
    "images = []\n",
    "persons_id = []\n",
    "\n",
    "root_dir = '../datasets/DukeMTMC-reID/bounding_box_train'\n",
    "\n",
    "for name in os.listdir(root_dir):\n",
    "    images.append(imread(os.path.join(root_dir, name)))\n",
    "    persons_id.append(int(name.split('_')[0]))"
   ]
  },
  {
   "cell_type": "code",
   "execution_count": 11,
   "metadata": {},
   "outputs": [],
   "source": [
    "images = np.asarray(images)\n",
    "persons_id = np.asarray(persons_id)\n",
    "images_train, images_test, persons_id_train, persons_id_test = train_test_split(images, persons_id, test_size=0.11)"
   ]
  },
  {
   "cell_type": "code",
   "execution_count": 14,
   "metadata": {},
   "outputs": [
    {
     "name": "stderr",
     "output_type": "stream",
     "text": [
      "Clipping input data to the valid range for imshow with RGB data ([0..1] for floats or [0..255] for integers).\n"
     ]
    },
    {
     "data": {
      "text/plain": [
       "<matplotlib.image.AxesImage at 0x7f8671397d30>"
      ]
     },
     "execution_count": 14,
     "metadata": {},
     "output_type": "execute_result"
    },
    {
     "data": {
      "image/png": "[encoded data removed]",
      "text/plain": [
       "<Figure size 432x288 with 1 Axes>"
      ]
     },
     "metadata": {
      "needs_background": "light"
     },
     "output_type": "display_data"
    }
   ],
   "source": [
    "import matplotlib.pyplot as plt\n",
    "plt.imshow(np.transpose(transform_train(images_train[np.random.randint(1000)]), (1, 2, 0)))"
   ]
  },
  {
   "cell_type": "code",
   "execution_count": 15,
   "metadata": {},
   "outputs": [],
   "source": [
    "tmp = np.zeros((images_test.shape[0], 3, 256, 128))\n",
    "\n",
    "for i, img in enumerate(images_test):\n",
    "    tmp[i] = transform_val(img)\n",
    "    \n",
    "images_test = torch.from_numpy(tmp)\n",
    "persons_id_test = torch.from_numpy(persons_id_test)\n",
    "\n",
    "images_test = images_test.to(torch.device('cuda'), torch.float32)\n",
    "persons_id_test = persons_id_test.to(torch.device('cuda'), torch.long)"
   ]
  },
  {
   "cell_type": "markdown",
   "metadata": {},
   "source": [
    "## Loss Function, Optimizer and Warmup Learning Rate"
   ]
  },
  {
   "cell_type": "code",
   "execution_count": 16,
   "metadata": {},
   "outputs": [],
   "source": [
    "from scheduler import GradualWarmupScheduler\n",
    "\n",
    "optimizer = torch.optim.SGD(model.parameters(), lr=0.05)\n",
    "scheduler_lr_red = torch.optim.lr_scheduler.StepLR(optimizer, 40, 0.1)\n",
    "scheduler_warmup = GradualWarmupScheduler(optimizer, multiplier=10, total_epoch=5, after_scheduler=scheduler_lr_red)"
   ]
  },
  {
   "cell_type": "markdown",
   "metadata": {},
   "source": [
    "## Training"
   ]
  },
  {
   "cell_type": "code",
   "execution_count": 17,
   "metadata": {},
   "outputs": [
    {
     "data": {
      "application/vnd.jupyter.widget-view+json": {
       "model_id": "88a83b7e462a4a51ad051254d794d8bc",
       "version_major": 2,
       "version_minor": 0
      },
      "text/plain": [
       "HBox(children=(FloatProgress(value=0.0, max=919.0), HTML(value='')))"
      ]
     },
     "metadata": {},
     "output_type": "display_data"
    },
    {
     "ename": "RuntimeError",
     "evalue": "CUDA error: device-side assert triggered",
     "output_type": "error",
     "traceback": [
      "\u001b[0;31m---------------------------------------------------------------------------\u001b[0m",
      "\u001b[0;31mRuntimeError\u001b[0m                              Traceback (most recent call last)",
      "\u001b[0;32m<ipython-input-17-68c26a73df87>\u001b[0m in \u001b[0;36m<module>\u001b[0;34m\u001b[0m\n\u001b[1;32m     58\u001b[0m         \u001b[0mloss\u001b[0m \u001b[0;34m=\u001b[0m \u001b[0mloss_verification\u001b[0m \u001b[0;34m+\u001b[0m \u001b[0;36m0.5\u001b[0m \u001b[0;34m*\u001b[0m \u001b[0;34m(\u001b[0m\u001b[0mloss_first_id\u001b[0m \u001b[0;34m+\u001b[0m \u001b[0mloss_second_id\u001b[0m\u001b[0;34m)\u001b[0m\u001b[0;34m\u001b[0m\u001b[0;34m\u001b[0m\u001b[0m\n\u001b[1;32m     59\u001b[0m \u001b[0;34m\u001b[0m\u001b[0m\n\u001b[0;32m---> 60\u001b[0;31m         \u001b[0mloss\u001b[0m\u001b[0;34m.\u001b[0m\u001b[0mbackward\u001b[0m\u001b[0;34m(\u001b[0m\u001b[0;34m)\u001b[0m\u001b[0;34m\u001b[0m\u001b[0;34m\u001b[0m\u001b[0m\n\u001b[0m\u001b[1;32m     61\u001b[0m         \u001b[0moptimizer\u001b[0m\u001b[0;34m.\u001b[0m\u001b[0mstep\u001b[0m\u001b[0;34m(\u001b[0m\u001b[0;34m)\u001b[0m\u001b[0;34m\u001b[0m\u001b[0;34m\u001b[0m\u001b[0m\n\u001b[1;32m     62\u001b[0m         \u001b[0mscheduler_warmup\u001b[0m\u001b[0;34m.\u001b[0m\u001b[0mstep\u001b[0m\u001b[0;34m(\u001b[0m\u001b[0;34m)\u001b[0m\u001b[0;34m\u001b[0m\u001b[0;34m\u001b[0m\u001b[0m\n",
      "\u001b[0;32m/usr/local/lib/python3.6/dist-packages/torch/tensor.py\u001b[0m in \u001b[0;36mbackward\u001b[0;34m(self, gradient, retain_graph, create_graph)\u001b[0m\n\u001b[1;32m    193\u001b[0m                 \u001b[0mproducts\u001b[0m\u001b[0;34m.\u001b[0m \u001b[0mDefaults\u001b[0m \u001b[0mto\u001b[0m\u001b[0;31m \u001b[0m\u001b[0;31m`\u001b[0m\u001b[0;31m`\u001b[0m\u001b[0;32mFalse\u001b[0m\u001b[0;31m`\u001b[0m\u001b[0;31m`\u001b[0m\u001b[0;34m.\u001b[0m\u001b[0;34m\u001b[0m\u001b[0;34m\u001b[0m\u001b[0m\n\u001b[1;32m    194\u001b[0m         \"\"\"\n\u001b[0;32m--> 195\u001b[0;31m         \u001b[0mtorch\u001b[0m\u001b[0;34m.\u001b[0m\u001b[0mautograd\u001b[0m\u001b[0;34m.\u001b[0m\u001b[0mbackward\u001b[0m\u001b[0;34m(\u001b[0m\u001b[0mself\u001b[0m\u001b[0;34m,\u001b[0m \u001b[0mgradient\u001b[0m\u001b[0;34m,\u001b[0m \u001b[0mretain_graph\u001b[0m\u001b[0;34m,\u001b[0m \u001b[0mcreate_graph\u001b[0m\u001b[0;34m)\u001b[0m\u001b[0;34m\u001b[0m\u001b[0;34m\u001b[0m\u001b[0m\n\u001b[0m\u001b[1;32m    196\u001b[0m \u001b[0;34m\u001b[0m\u001b[0m\n\u001b[1;32m    197\u001b[0m     \u001b[0;32mdef\u001b[0m \u001b[0mregister_hook\u001b[0m\u001b[0;34m(\u001b[0m\u001b[0mself\u001b[0m\u001b[0;34m,\u001b[0m \u001b[0mhook\u001b[0m\u001b[0;34m)\u001b[0m\u001b[0;34m:\u001b[0m\u001b[0;34m\u001b[0m\u001b[0;34m\u001b[0m\u001b[0m\n",
      "\u001b[0;32m/usr/local/lib/python3.6/dist-packages/torch/autograd/__init__.py\u001b[0m in \u001b[0;36mbackward\u001b[0;34m(tensors, grad_tensors, retain_graph, create_graph, grad_variables)\u001b[0m\n\u001b[1;32m     97\u001b[0m     Variable._execution_engine.run_backward(\n\u001b[1;32m     98\u001b[0m         \u001b[0mtensors\u001b[0m\u001b[0;34m,\u001b[0m \u001b[0mgrad_tensors\u001b[0m\u001b[0;34m,\u001b[0m \u001b[0mretain_graph\u001b[0m\u001b[0;34m,\u001b[0m \u001b[0mcreate_graph\u001b[0m\u001b[0;34m,\u001b[0m\u001b[0;34m\u001b[0m\u001b[0;34m\u001b[0m\u001b[0m\n\u001b[0;32m---> 99\u001b[0;31m         allow_unreachable=True)  # allow_unreachable flag\n\u001b[0m\u001b[1;32m    100\u001b[0m \u001b[0;34m\u001b[0m\u001b[0m\n\u001b[1;32m    101\u001b[0m \u001b[0;34m\u001b[0m\u001b[0m\n",
      "\u001b[0;31mRuntimeError\u001b[0m: CUDA error: device-side assert triggered"
     ]
    }
   ],
   "source": [
    "from tqdm.notebook import tqdm\n",
    "from random import uniform, randint \n",
    "\n",
    "batch_size = 16\n",
    "epochs = 256\n",
    "result = open('./result.txt', 'w')\n",
    "\n",
    "for epoch in range(epochs):\n",
    "    \n",
    "    loss_list = []\n",
    "    acc_verification_list = []\n",
    "    acc_first_id_list = []\n",
    "    acc_second_id_list = []\n",
    "    acc_first_id_val_list = []\n",
    "    acc_second_id_val_list = []\n",
    "    \n",
    "    # scheduler_warmup.step()\n",
    "    for i in tqdm(range(0, len(images_train), batch_size)):\n",
    "        optimizer.zero_grad()\n",
    "        \n",
    "        images_first = np.zeros((batch_size, 3, 246, 128))\n",
    "        images_second = np.zeros((batch_size, 3, 246, 128))\n",
    "        persons_id_first = np.zeros((batch_size))\n",
    "        persons_id_second = np.zeros((batch_size))\n",
    "        verification = torch.zeros(batch_size, dtype=torch.long, device=torch.device('cuda'))\n",
    "        \n",
    "        for j, k in enumerate(range(i, i + batch_size)):\n",
    "            images_first[j] = transform_train(images_train[k])\n",
    "            persons_id_first[j] = persons_id_train[k]\n",
    "            \n",
    "            if uniform(0, 1) <= 0.4:\n",
    "                verification[j] = 1\n",
    "                idxs = np.where(persons_id_train == persons_id_train[k])[0]\n",
    "                idx = idxs[np.random.randint(idxs.shape[0])]\n",
    "                images_second[j] = transform_train(images_train[idx])\n",
    "                persons_id_second[j] = persons_id_train[idx]\n",
    "            else:\n",
    "                idxs = np.where(persons_id_train != persons_id_train[k])[0]\n",
    "                idx = idxs[np.random.randint(idxs.shape[0])]\n",
    "                images_second[j] = transform_train(images_train[idx])\n",
    "                persons_id_second[j] = persons_id_train[idx]\n",
    "                \n",
    "        images_first = torch.from_numpy(images_first, )  \n",
    "        persons_id_first = torch.from_numpy(persons_id_first)\n",
    "        images_second = torch.from_numpy(images_second)\n",
    "        persons_id_second = torch.from_numpy(persons_id_second)\n",
    "        images_first, persons_id_first, images_second, persons_id_second = (images_first.to(torch.device('cuda'), torch.float32),\n",
    "                                                                            persons_id_first.to(torch.device('cuda'), torch.long), \n",
    "                                                                            images_second.to(torch.device('cuda'), torch.float32),\n",
    "                                                                            persons_id_second.to(torch.device('cuda'), torch.long))\n",
    "        \n",
    "        output = model(images_first, images_second)\n",
    "        \n",
    "        loss_verification = F.cross_entropy(output[2], verification)\n",
    "        loss_first_id = F.cross_entropy(output[3], persons_id_first)\n",
    "        loss_second_id = F.cross_entropy(output[4], persons_id_second)\n",
    "   \n",
    "        loss = loss_verification + 0.5 * (loss_first_id + loss_second_id)\n",
    "        \n",
    "        loss.backward()\n",
    "        optimizer.step()\n",
    "        scheduler_warmup.step()\n",
    "        loss_list.append(loss)\n",
    "        \n",
    "        predicted = torch.argmax(output[2], 1)\n",
    "        correct = (predicted == verification).sum().item()\n",
    "        acc_verification_list.append(correct / verification.size()[0])\n",
    "        \n",
    "        predicted = torch.argmax(output[3], 1)\n",
    "        correct = (predicted == persons_id_first).sum().item()\n",
    "        acc_first_id_list.append(correct / persons_id_first.size()[0])\n",
    "        \n",
    "        predicted = torch.argmax(output[4], 1)\n",
    "        correct = (predicted == persons_id_second).sum().item()\n",
    "        acc_second_id_list.append(correct / persons_id_second.size()[0])\n",
    "        \n",
    "    with torch.no_grad():\n",
    "        output = model(images_test, images_test)\n",
    "        \n",
    "        predicted = torch.argmax(output[3], 1)\n",
    "        correct = (predicted == persons_id_test).sum().item()\n",
    "        acc_first_id_val_list.append(correct / persons_id_test.size()[0])\n",
    "        \n",
    "        predicted = torch.argmax(output[4], 1)\n",
    "        correct = (predicted == persons_id_test).sum().item()\n",
    "        acc_second_id_val_list.append(correct / persons_id_test.size()[0])\n",
    "        \n",
    "    print('{}\\'s epoch is over, Loss: {:.4f}, Verification Accuracy: {:.6f}%, First Person ID Accuracy: {:.6f}%, Second Person ID Accuracy: {:.6f}%, First Person ID Val Accuracy: {:.6f}%, Second Person ID Val Accuracy: {:.6f}%\\n'\n",
    "          .format(epoch + 1, sum(loss_list) / float(len(loss_list)), \n",
    "                  sum(acc_verification_list) / float(len(acc_verification_list)), \n",
    "                  sum(acc_first_id_list) / float(len(acc_first_id_list)),\n",
    "                  sum(acc_second_id_list) / float(len(acc_second_id_list)),\n",
    "                  sum(acc_first_id_val_list) / float(len(acc_first_id_val_list)),\n",
    "                  sum(acc_second_id_val_list) / float(len(acc_second_id_val_list))))\n",
    "    result.write('{}\\'s epoch is over, Loss: {:.4f}, Verification Accuracy: {:.6f}%, First Person ID Accuracy: {:.6f}%, Second Person ID Accuracy: {:.6f}%, First Person ID Val Accuracy: {:.6f}%, Second Person ID Val Accuracy: {:.6f}%\\n'\n",
    "          .format(epoch + 1, sum(loss_list) / float(len(loss_list)), \n",
    "                  sum(acc_verification_list) / float(len(acc_verification_list)), \n",
    "                  sum(acc_first_id_list) / float(len(acc_first_id_list)),\n",
    "                  sum(acc_second_id_list) / float(len(acc_second_id_list)),\n",
    "                  sum(acc_first_id_val_list) / float(len(acc_first_id_val_list)),\n",
    "                  sum(acc_second_id_val_list) / float(len(acc_second_id_val_list))))\n",
    "    result.flush()\n",
    "result.close()"
   ]
  },
  {
   "cell_type": "code",
   "execution_count": 17,
   "metadata": {},
   "outputs": [],
   "source": [
    "torch.save(model.state_dict(), './models_weights/re-id-res2net_duke_shared_conv.pth')"
   ]
  },
  {
   "cell_type": "markdown",
   "metadata": {},
   "source": [
    "## Testing"
   ]
  },
  {
   "cell_type": "code",
   "execution_count": 1,
   "metadata": {},
   "outputs": [
    {
     "ename": "NameError",
     "evalue": "name 'model' is not defined",
     "output_type": "error",
     "traceback": [
      "\u001b[0;31m---------------------------------------------------------------------------\u001b[0m",
      "\u001b[0;31mNameError\u001b[0m                                 Traceback (most recent call last)",
      "\u001b[0;32m<ipython-input-1-ac14f7610152>\u001b[0m in \u001b[0;36m<module>\u001b[0;34m\u001b[0m\n\u001b[1;32m      1\u001b[0m \u001b[0mpath\u001b[0m \u001b[0;34m=\u001b[0m \u001b[0;34m'./models_weights/re-id-res2net_duke_shared_conv.pth'\u001b[0m\u001b[0;34m\u001b[0m\u001b[0;34m\u001b[0m\u001b[0m\n\u001b[0;32m----> 2\u001b[0;31m \u001b[0mmodel\u001b[0m\u001b[0;34m.\u001b[0m\u001b[0mload_state_dict\u001b[0m\u001b[0;34m(\u001b[0m\u001b[0mtorch\u001b[0m\u001b[0;34m.\u001b[0m\u001b[0mload\u001b[0m\u001b[0;34m(\u001b[0m\u001b[0mpath\u001b[0m\u001b[0;34m,\u001b[0m \u001b[0mmap_location\u001b[0m\u001b[0;34m=\u001b[0m\u001b[0mtorch\u001b[0m\u001b[0;34m.\u001b[0m\u001b[0mdevice\u001b[0m\u001b[0;34m(\u001b[0m\u001b[0;34m'cuda'\u001b[0m\u001b[0;34m)\u001b[0m\u001b[0;34m)\u001b[0m\u001b[0;34m)\u001b[0m\u001b[0;34m\u001b[0m\u001b[0;34m\u001b[0m\u001b[0m\n\u001b[0m",
      "\u001b[0;31mNameError\u001b[0m: name 'model' is not defined"
     ]
    }
   ],
   "source": [
    "path = './models_weights/re-id-res2net_duke_shared_conv.pth'\n",
    "model.load_state_dict(torch.load(path, map_location=torch.device('cuda')))"
   ]
  },
  {
   "cell_type": "code",
   "execution_count": 12,
   "metadata": {},
   "outputs": [],
   "source": [
    "model_base.parameters = model.module.backbone.parameters\n",
    "model_base = model_base.to(torch.device('cuda'))"
   ]
  },
  {
   "cell_type": "code",
   "execution_count": 13,
   "metadata": {},
   "outputs": [],
   "source": [
    "transform = transforms.Compose([\n",
    "    transforms.Resize((256, 128)),\n",
    "    transforms.ToTensor(),\n",
    "    transforms.Normalize(mean=[0.485, 0.456, 0.406],\n",
    "                         std=[0.229, 0.224, 0.225]),\n",
    "])\n",
    "\n",
    "#market_test = Market1501('./datasets/Market-1501-v15.09.15', dataset_type='Test', transform=transform)\n",
    "duke_test = DukeMTMC('./datasets/DukeMTMC-reID', dataset_type='Test', transform=transform)\n",
    "dataloader_test = DataLoader(duke_test, batch_size=32, shuffle=False)"
   ]
  },
  {
   "cell_type": "markdown",
   "metadata": {},
   "source": [
    "### Creating Gallery Descriptors"
   ]
  },
  {
   "cell_type": "code",
   "execution_count": 14,
   "metadata": {
    "scrolled": false
   },
   "outputs": [
    {
     "data": {
      "application/vnd.jupyter.widget-view+json": {
       "model_id": "171f58ecf0b04edaac90eb73f1279bc5",
       "version_major": 2,
       "version_minor": 0
      },
      "text/plain": [
       "HBox(children=(FloatProgress(value=0.0, max=552.0), HTML(value='')))"
      ]
     },
     "metadata": {},
     "output_type": "display_data"
    },
    {
     "name": "stdout",
     "output_type": "stream",
     "text": [
      "\n"
     ]
    }
   ],
   "source": [
    "from tqdm.notebook import tqdm\n",
    "\n",
    "gallery = []\n",
    "\n",
    "model_base.eval()\n",
    "with torch.no_grad():\n",
    "    for batch in tqdm(dataloader_test):\n",
    "        batch['image'] = batch['image'].to(torch.device('cuda'))\n",
    "        output = model_base(batch['image'])\n",
    "        for i in range(batch['image'].size()[0]):\n",
    "            gallery.append([output[i].view(4096).cpu().numpy(), \n",
    "                            batch['person_id'][i].cpu().numpy(), \n",
    "                            batch['camera_id'][i].cpu().numpy()])\n",
    "            \n",
    "np.save('./datasets/DukeMTMC-reID/gallery_descriptors.npy', np.asarray(gallery))"
   ]
  },
  {
   "cell_type": "code",
   "execution_count": 15,
   "metadata": {},
   "outputs": [],
   "source": [
    "gallery = np.load('./datasets/DukeMTMC-reID/gallery_descriptors.npy', allow_pickle=True)"
   ]
  },
  {
   "cell_type": "markdown",
   "metadata": {},
   "source": [
    "### Testing on Query Images"
   ]
  },
  {
   "cell_type": "code",
   "execution_count": 16,
   "metadata": {},
   "outputs": [],
   "source": [
    "transform = transforms.Compose([\n",
    "    transforms.Resize((256, 128)),\n",
    "    transforms.ToTensor(),\n",
    "    transforms.Normalize(mean=[0.485, 0.456, 0.406],\n",
    "                         std=[0.229, 0.224, 0.225]),\n",
    "])\n",
    "\n",
    "#market_query = Market1501('./datasets/Market-1501-v15.09.15', dataset_type='Query', transform=transform)\n",
    "duke_query = DukeMTMC('./datasets/DukeMTMC-reID', dataset_type='Query', transform=transform)\n",
    "dataloader_query = DataLoader(duke_query, batch_size=1, shuffle=False)"
   ]
  },
  {
   "cell_type": "markdown",
   "metadata": {},
   "source": [
    "#### Define Cos Similarity"
   ]
  },
  {
   "cell_type": "code",
   "execution_count": 17,
   "metadata": {},
   "outputs": [],
   "source": [
    "cos = nn.CosineSimilarity(dim=0, eps=1e-8)"
   ]
  },
  {
   "cell_type": "code",
   "execution_count": 18,
   "metadata": {},
   "outputs": [
    {
     "data": {
      "application/vnd.jupyter.widget-view+json": {
       "model_id": "03f6b26d5de6409b92672cb303eabc9a",
       "version_major": 2,
       "version_minor": 0
      },
      "text/plain": [
       "HBox(children=(FloatProgress(value=0.0, max=2228.0), HTML(value='')))"
      ]
     },
     "metadata": {},
     "output_type": "display_data"
    },
    {
     "name": "stdout",
     "output_type": "stream",
     "text": [
      "\n"
     ]
    }
   ],
   "source": [
    "from tqdm.notebook import tqdm\n",
    "\n",
    "j = 0\n",
    "cos_dist = np.zeros((dataloader_query.__len__(), duke_test.__len__() + 1, 3))\n",
    "\n",
    "model_base.eval()\n",
    "with torch.no_grad():\n",
    "    for i, batch in enumerate(tqdm(dataloader_query)):\n",
    "        batch['image'] = batch['image'].to(torch.device('cuda'))\n",
    "        output = model_base(batch['image'])\n",
    "        output = output.view(1, 4096)\n",
    "        \n",
    "        for j, gallery_descriptor in enumerate(gallery):\n",
    "            cos_dist[i, j, 0], cos_dist[i, j, 1], cos_dist[i, j, 2] = gallery_descriptor[1], gallery_descriptor[2], cos(output[0].to(torch.device('cpu')), \n",
    "                                                                                                       torch.from_numpy(gallery_descriptor[0])).item()\n",
    "        cos_dist[i, j + 1, 0] = batch['person_id'].item()\n",
    "        cos_dist[i, j + 1, 1] = batch['camera_id'].item()\n",
    "        \n",
    "np.save('./datasets/DukeMTMC-reID/cos_dist.npy', np.asarray(cos_dist))"
   ]
  },
  {
   "cell_type": "code",
   "execution_count": 19,
   "metadata": {},
   "outputs": [],
   "source": [
    "cos_dist = np.load('./datasets/DukeMTMC-reID/cos_dist.npy', allow_pickle=True)"
   ]
  },
  {
   "cell_type": "markdown",
   "metadata": {},
   "source": [
    "#### Rank-1 Metric"
   ]
  },
  {
   "cell_type": "code",
   "execution_count": 20,
   "metadata": {},
   "outputs": [
    {
     "name": "stdout",
     "output_type": "stream",
     "text": [
      "85.59245960502693\n"
     ]
    }
   ],
   "source": [
    "correct = 0\n",
    "\n",
    "for element in cos_dist:\n",
    "    person_id = element[-1, 0]\n",
    "    camera_id = element[-1, 1]\n",
    "    \n",
    "    element = np.delete(element, np.where(element[:, 1] == camera_id), axis=0)\n",
    "    \n",
    "    if element[element[:,-1].argsort()][-1][0] == person_id:\n",
    "        correct += 1\n",
    "\n",
    "rank_1 = correct / cos_dist.shape[0]\n",
    "print(rank_1 * 100)"
   ]
  },
  {
   "cell_type": "markdown",
   "metadata": {},
   "source": [
    "#### mAP Metric (not interpolated)"
   ]
  },
  {
   "cell_type": "code",
   "execution_count": 21,
   "metadata": {},
   "outputs": [],
   "source": [
    "tp_fn = []\n",
    "\n",
    "for element in cos_dist:\n",
    "    person_id = element[-1, 0]\n",
    "    camera_id = element[-1, 1]\n",
    "    \n",
    "    tp_fn.append(np.where(np.logical_and(element[:, 0] == person_id, element[:, 1] != camera_id))[0].shape[0])"
   ]
  },
  {
   "cell_type": "code",
   "execution_count": 22,
   "metadata": {},
   "outputs": [
    {
     "data": {
      "application/vnd.jupyter.widget-view+json": {
       "model_id": "7af046eec833433ea8cf93e8b9aedc8d",
       "version_major": 2,
       "version_minor": 0
      },
      "text/plain": [
       "HBox(children=(FloatProgress(value=0.0, max=2228.0), HTML(value='')))"
      ]
     },
     "metadata": {},
     "output_type": "display_data"
    },
    {
     "name": "stdout",
     "output_type": "stream",
     "text": [
      "\n"
     ]
    }
   ],
   "source": [
    "from tqdm.notebook import tqdm\n",
    "\n",
    "i = 0\n",
    "p_r_dots = []\n",
    "\n",
    "for element in tqdm(cos_dist):\n",
    "    person_id = element[-1, 0]\n",
    "    camera_id = element[-1, 1]\n",
    "    \n",
    "    element = np.delete(element, np.where(element[:, 1] == camera_id), axis=0)\n",
    "    element = element[element[:,-1].argsort()]\n",
    "    \n",
    "    tmp = np.zeros((element.shape[0], 2))\n",
    "    tmp[np.argwhere(element[:, 0] == person_id), 0] = 1\n",
    "    tmp[:, 1] = element[:, 2]\n",
    "    p_r_dots.append(tmp)\n",
    "    \n",
    "p_r_dots = np.asarray(p_r_dots)"
   ]
  },
  {
   "cell_type": "code",
   "execution_count": 23,
   "metadata": {},
   "outputs": [
    {
     "name": "stdout",
     "output_type": "stream",
     "text": [
      "66.78336917412221\n"
     ]
    }
   ],
   "source": [
    "from sklearn.metrics import average_precision_score\n",
    "\n",
    "map_sum = 0\n",
    "for el in p_r_dots:\n",
    "    y_true, y_score = el[:, 0], el[:, 1]\n",
    "    map_sum += average_precision_score(y_true, y_score)\n",
    "    \n",
    "mAP = map_sum / p_r_dots.shape[0]\n",
    "print(mAP * 100)"
   ]
  },
  {
   "cell_type": "markdown",
   "metadata": {},
   "source": [
    "#### mAP Metric (interpolated)"
   ]
  },
  {
   "cell_type": "code",
   "execution_count": 24,
   "metadata": {},
   "outputs": [
    {
     "data": {
      "application/vnd.jupyter.widget-view+json": {
       "model_id": "51fd2f02d1c94a13ba5b9ad7d5812ede",
       "version_major": 2,
       "version_minor": 0
      },
      "text/plain": [
       "HBox(children=(FloatProgress(value=0.0, max=2228.0), HTML(value='')))"
      ]
     },
     "metadata": {},
     "output_type": "display_data"
    },
    {
     "name": "stdout",
     "output_type": "stream",
     "text": [
      "\n"
     ]
    }
   ],
   "source": [
    "from tqdm.notebook import tqdm\n",
    "\n",
    "i = 0\n",
    "p_r_dots = []\n",
    "\n",
    "for element in tqdm(cos_dist):\n",
    "    person_id = element[-1, 0]\n",
    "    camera_id = element[-1, 1]\n",
    "    \n",
    "    element = np.delete(element, np.where(element[:, 1] == camera_id), axis=0)\n",
    "    element = element[element[:,-1].argsort()]\n",
    "    \n",
    "    tmp = []\n",
    "    old_confidence = 0\n",
    "    step = 1\n",
    "    for j, confidence in enumerate(element[:, 2]):\n",
    "        if j == 0:\n",
    "            tp = np.where(np.logical_and(element[:, 0] == person_id, element[:, 2] >= confidence))[0].shape[0]\n",
    "            fp = np.where(np.logical_and(element[:, 0] != person_id, element[:, 2] >= confidence))[0].shape[0]\n",
    "        else:\n",
    "            if old_confidence < confidence:\n",
    "                if element[j - 1, 0] == person_id:\n",
    "                    tp -= step\n",
    "                else:\n",
    "                    fp -= step\n",
    "                step = 1\n",
    "            else:\n",
    "                step += 1\n",
    "                    \n",
    "        old_confidence = confidence\n",
    "        tmp.append((tp / tp_fn[i], tp / (tp + fp), confidence))\n",
    "        \n",
    "\n",
    "    p_r_dots.append(np.asarray(tmp))\n",
    "    i += 1\n",
    "    \n",
    "p_r_dots = np.asarray(p_r_dots)"
   ]
  },
  {
   "cell_type": "code",
   "execution_count": 25,
   "metadata": {},
   "outputs": [
    {
     "data": {
      "image/png": "[encoded data removed]",
      "text/plain": [
       "<Figure size 432x288 with 1 Axes>"
      ]
     },
     "metadata": {
      "needs_background": "light"
     },
     "output_type": "display_data"
    }
   ],
   "source": [
    "import matplotlib.pyplot as plt\n",
    "for dots in p_r_dots:\n",
    "    plt.plot(dots[:, 0], dots[:, 2])\n",
    "    break"
   ]
  },
  {
   "cell_type": "code",
   "execution_count": 26,
   "metadata": {},
   "outputs": [
    {
     "name": "stdout",
     "output_type": "stream",
     "text": [
      "66.54745978598847\n"
     ]
    }
   ],
   "source": [
    "map_sum = 0\n",
    "\n",
    "for dots in p_r_dots[0:,]:\n",
    "    recallValues = np.arange(0, 1.1, 0.1)\n",
    "    recallValues = list(recallValues[::-1])\n",
    "    precision = []\n",
    "    \n",
    "    dots = sorted(dots, key=lambda x: x[0])\n",
    "    dots_np = np.zeros((len(dots), 2))\n",
    "    \n",
    "    for i, dot in enumerate(dots):\n",
    "        dots_np[i][0], dots_np[i][1] = dot[0], dot[1]\n",
    "        \n",
    "    for r in recallValues:\n",
    "        argGreaterRecalls = np.argwhere(dots_np[:, 0] >= r)\n",
    "        if argGreaterRecalls.size != 0:\n",
    "            precision.append(max(dots_np[argGreaterRecalls.min():, 1]))\n",
    "\n",
    "    map_sum += (sum(precision)) / 11\n",
    "    \n",
    "mAP = map_sum / p_r_dots.shape[0]\n",
    "print(mAP * 100)"
   ]
  },
  {
   "cell_type": "markdown",
   "metadata": {},
   "source": [
    "## Testing for Tracking"
   ]
  },
  {
   "cell_type": "code",
   "execution_count": null,
   "metadata": {},
   "outputs": [],
   "source": [
    "path = './models_weights/re-id-res2net_duke.pth'\n",
    "model.load_state_dict(torch.load(path, map_location=torch.device('cuda')))"
   ]
  },
  {
   "cell_type": "code",
   "execution_count": null,
   "metadata": {},
   "outputs": [],
   "source": [
    "model_base.parameters = model.module.backbone.parameters\n",
    "model_base = model_base.to(torch.device('cuda'))"
   ]
  },
  {
   "cell_type": "code",
   "execution_count": null,
   "metadata": {},
   "outputs": [],
   "source": [
    "transform = transforms.Compose([\n",
    "    transforms.Resize((256, 128)),\n",
    "    transforms.ToTensor(),\n",
    "    transforms.Normalize(mean=[0.485, 0.456, 0.406],\n",
    "                         std=[0.229, 0.224, 0.225]),\n",
    "])\n",
    "\n",
    "#market_test = Market1501('./datasets/Market-1501-v15.09.15', dataset_type='Test', transform=transform)\n",
    "duke_test = DukeMTMC('./datasets/2DMOT2015_re-ID', dataset_type='Test', transform=transform)\n",
    "dataloader_test = DataLoader(duke_test, batch_size=32, shuffle=False)"
   ]
  },
  {
   "cell_type": "markdown",
   "metadata": {},
   "source": [
    "### Creating Gallery Descriptors"
   ]
  },
  {
   "cell_type": "code",
   "execution_count": null,
   "metadata": {},
   "outputs": [],
   "source": [
    "from tqdm.notebook import tqdm\n",
    "\n",
    "gallery = np.zeros((tracking_test.shape[0], 3))\n",
    "\n",
    "model_base.eval()\n",
    "with torch.no_grad():\n",
    "    for i, img in enumerate(dataloader_test):\n",
    "        batch['image'] = img['image'].to(torch.device('cuda'))\n",
    "        output = model_base(img['image'])\n",
    "        gallery[i, 0] = output[j].view(4096).cpu().numpy()\n",
    "        gallery[i, 1] = img['person_id'][j].cpu().numpy()\n",
    "        gallery[i, 2] = img['frame_num'][j].cpu().numpy()\n",
    "            \n",
    "np.save('./datasets/2DMOT2015_re-ID/gallery_descriptors.npy', gallery)"
   ]
  },
  {
   "cell_type": "code",
   "execution_count": null,
   "metadata": {},
   "outputs": [],
   "source": [
    "gallery = np.load('./datasets/2DMOT2015_re/gallery_descriptors.npy', allow_pickle=True)"
   ]
  },
  {
   "cell_type": "markdown",
   "metadata": {},
   "source": [
    "#### Define Cos Similarity"
   ]
  },
  {
   "cell_type": "code",
   "execution_count": null,
   "metadata": {},
   "outputs": [],
   "source": [
    "cos = nn.CosineSimilarity(dim=0, eps=1e-8)"
   ]
  },
  {
   "cell_type": "markdown",
   "metadata": {},
   "source": [
    "### Amazing Metric"
   ]
  },
  {
   "cell_type": "code",
   "execution_count": null,
   "metadata": {},
   "outputs": [],
   "source": [
    "from tqdm.notebook import tqdm\n",
    "\n",
    "pos_counter = 0\n",
    "delta_t = 5\n",
    "\n",
    "model_base.eval()\n",
    "with torch.no_grad():\n",
    "    for element in tqdm(gallery):\n",
    "        cos_dist = []\n",
    "        \n",
    "        find_indx = np.where(np.logical_and(gallery[:, 1] == element[1], gallery[:, 2] == element[2] + delta_t))\n",
    "        \n",
    "        if find_indx.shape[0] == 0:\n",
    "            continue\n",
    "            \n",
    "        cos_dist.append([element[1], cos(element[0], gallery[find_indx[0]][0])])\n",
    "        find_indx = np.where(np.logical_and(gallery[:, 1] != element[1]))\n",
    "        \n",
    "        for index in find_indx:\n",
    "            cos_dist.append([gallery[index][1], cos(element[0], gallery[index][0])])\n",
    "            \n",
    "        cos_dist = cos_dist[cos_dist[:,-1].argsort()]\n",
    "        find_indx = np.where(cos_dist[:, 0] == element[1])\n",
    "        \n",
    "        pos_counter += len(cos_dist) - find_indx\n",
    "        \n",
    "print((pos_counter / len(gallery)))"
   ]
  }
 ],
 "metadata": {
  "kernelspec": {
   "display_name": "Python 3",
   "language": "python",
   "name": "python3"
  },
  "language_info": {
   "codemirror_mode": {
    "name": "ipython",
    "version": 3
   },
   "file_extension": ".py",
   "mimetype": "text/x-python",
   "name": "python",
   "nbconvert_exporter": "python",
   "pygments_lexer": "ipython3",
   "version": "3.6.9"
  }
 },
 "nbformat": 4,
 "nbformat_minor": 4
}
