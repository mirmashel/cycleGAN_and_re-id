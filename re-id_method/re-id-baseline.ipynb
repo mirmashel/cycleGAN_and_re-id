{
 "cells": [
  {
   "cell_type": "code",
   "execution_count": 29,
   "metadata": {},
   "outputs": [
    {
     "name": "stdout",
     "output_type": "stream",
     "text": [
      "The autoreload extension is already loaded. To reload it, use:\n",
      "  %reload_ext autoreload\n"
     ]
    }
   ],
   "source": [
    "%load_ext autoreload\n",
    "%autoreload 2\n",
    "%matplotlib notebook"
   ]
  },
  {
   "cell_type": "code",
   "execution_count": 30,
   "metadata": {},
   "outputs": [],
   "source": [
    "import os\n",
    "import torch\n",
    "import numpy as np\n",
    "import torch.nn as nn\n",
    "import torch.nn.functional as F\n",
    "import torch.utils.model_zoo as model_zoo\n",
    "from skimage.io import imread\n",
    "from sklearn.model_selection import train_test_split\n",
    "from PIL import Image\n",
    "from torch.utils.data import Dataset, DataLoader\n",
    "from torchvision import transforms, utils\n",
    "import dataset_utils\n",
    "import matplotlib.pyplot as plt\n",
    "from time import time"
   ]
  },
  {
   "cell_type": "markdown",
   "metadata": {},
   "source": [
    "## Config"
   ]
  },
  {
   "cell_type": "code",
   "execution_count": 40,
   "metadata": {},
   "outputs": [],
   "source": [
    "images_size = (256, 128)\n",
    "normalization_mean = [0.5, 0.5, 0.5]\n",
    "normalization_std = [0.5, 0.5, 0.5]\n",
    "dataset_name = \"duke\" # \"duke\" | \"market\"\n",
    "dataset = dataset_utils.DukeMTMC\n",
    "if dataset_name == \"market\":\n",
    "    data_path = \"../datasets/Market-1501-v15.09.15/\"\n",
    "elif dataset_name == \"duke\":\n",
    "    data_path = \"../datasets/DukeMTMC-reID/\"\n",
    "    \n",
    "load_name = './model_weights/re-id_model/re-id-res2net_' + dataset_name + '_shared_conv_250_epochs.pth'\n",
    "load_name = ''\n",
    "save_name = './model_weights/re-id_model/re-id-res2net_' + dataset_name + '_check_metrics'\n",
    "checkpoint_every = 5\n",
    "batch_size = 16\n",
    "dataloader_workers = 4\n",
    "device = torch.device(\"cuda\" if torch.cuda.device_count() > 1 else \"cuda\") if torch.cuda.is_available() else torch.device(\"cpu\")\n",
    "num_epochs = 31"
   ]
  },
  {
   "cell_type": "markdown",
   "metadata": {},
   "source": [
    "## Res2Net"
   ]
  },
  {
   "cell_type": "code",
   "execution_count": 32,
   "metadata": {},
   "outputs": [],
   "source": [
    "import math\n",
    "\n",
    "class Bottle2neck(nn.Module):\n",
    "    expansion = 4\n",
    "\n",
    "    def __init__(self, inplanes, planes, stride=1, downsample=None, baseWidth=26, scale=4, stype='normal'):\n",
    "        \"\"\" Constructor\n",
    "        Args:\n",
    "            inplanes: input channel dimensionality\n",
    "            planes: output channel dimensionality\n",
    "            stride: conv stride. Replaces pooling layer.\n",
    "            downsample: None when stride = 1\n",
    "            baseWidth: basic width of conv3x3\n",
    "            scale: number of scale.\n",
    "            type: 'normal': normal set. 'stage': first block of a new stage.\n",
    "        \"\"\"\n",
    "        super(Bottle2neck, self).__init__()\n",
    "\n",
    "        width = int(math.floor(planes * (baseWidth / 64.0)))\n",
    "        self.conv1 = nn.Conv2d(inplanes, width * scale, kernel_size=1, bias=False)\n",
    "        self.bn1 = nn.BatchNorm2d(width * scale)\n",
    "\n",
    "        if scale == 1:\n",
    "            self.nums = 1\n",
    "        else:\n",
    "            self.nums = scale - 1\n",
    "        if stype == 'stage':\n",
    "            self.pool = nn.AvgPool2d(kernel_size=3, stride=stride, padding=1)\n",
    "        convs = []\n",
    "        bns = []\n",
    "        for i in range(self.nums):\n",
    "            convs.append(nn.Conv2d(width, width, kernel_size=3, stride=stride, padding=1, bias=False))\n",
    "            bns.append(nn.BatchNorm2d(width))\n",
    "        self.convs = nn.ModuleList(convs)\n",
    "        self.bns = nn.ModuleList(bns)\n",
    "\n",
    "        self.conv3 = nn.Conv2d(width * scale, planes * self.expansion, kernel_size=1, bias=False)\n",
    "        self.bn3 = nn.BatchNorm2d(planes * self.expansion)\n",
    "\n",
    "        self.relu = nn.ReLU(inplace=True)\n",
    "        self.downsample = downsample\n",
    "        self.stype = stype\n",
    "        self.scale = scale\n",
    "        self.width = width\n",
    "\n",
    "    def forward(self, x):\n",
    "        residual = x\n",
    "\n",
    "        out = self.conv1(x)\n",
    "        out = self.bn1(out)\n",
    "        out = self.relu(out)\n",
    "\n",
    "        spx = torch.split(out, self.width, 1)\n",
    "        for i in range(self.nums):\n",
    "            if i == 0 or self.stype == 'stage':\n",
    "                sp = spx[i]\n",
    "            else:\n",
    "                sp = sp + spx[i]\n",
    "            sp = self.convs[i](sp)\n",
    "            sp = self.relu(self.bns[i](sp))\n",
    "            if i == 0:\n",
    "                out = sp\n",
    "            else:\n",
    "                out = torch.cat((out, sp), 1)\n",
    "        if self.scale != 1 and self.stype == 'normal':\n",
    "            out = torch.cat((out, spx[self.nums]), 1)\n",
    "        elif self.scale != 1 and self.stype == 'stage':\n",
    "            out = torch.cat((out, self.pool(spx[self.nums])), 1)\n",
    "\n",
    "        out = self.conv3(out)\n",
    "        out = self.bn3(out)\n",
    "\n",
    "        if self.downsample is not None:\n",
    "            residual = self.downsample(x)\n",
    "\n",
    "        out += residual\n",
    "        out = self.relu(out)\n",
    "\n",
    "        return out\n",
    "\n",
    "\n",
    "class Res2Net(nn.Module):\n",
    "\n",
    "    def __init__(self, block, layers, baseWidth=26, scale=4, num_classes=1000):\n",
    "        self.inplanes = 64\n",
    "        super(Res2Net, self).__init__()\n",
    "        self.baseWidth = baseWidth\n",
    "        self.scale = scale\n",
    "        self.conv1 = nn.Conv2d(3, 64, kernel_size=7, stride=2, padding=3,\n",
    "                               bias=False)\n",
    "        self.bn1 = nn.BatchNorm2d(64)\n",
    "        self.relu = nn.ReLU(inplace=True)\n",
    "        self.maxpool = nn.MaxPool2d(kernel_size=3, stride=2, padding=1)\n",
    "        self.layer1 = self._make_layer(block, 64, layers[0])\n",
    "        self.layer2 = self._make_layer(block, 128, layers[1], stride=2)\n",
    "        self.layer3 = self._make_layer(block, 256, layers[2], stride=2)\n",
    "        self.layer4 = self._make_layer(block, 512, layers[3], stride=2)\n",
    "        self.avgpool = nn.AvgPool2d((7, 4), stride=1)\n",
    "        self.fc = nn.Linear(512 * block.expansion, num_classes)\n",
    "\n",
    "        for m in self.modules():\n",
    "            if isinstance(m, nn.Conv2d):\n",
    "                nn.init.kaiming_normal_(m.weight, mode='fan_out', nonlinearity='relu')\n",
    "            elif isinstance(m, nn.BatchNorm2d):\n",
    "                nn.init.constant_(m.weight, 1)\n",
    "                nn.init.constant_(m.bias, 0)\n",
    "\n",
    "    def _make_layer(self, block, planes, blocks, stride=1):\n",
    "        downsample = None\n",
    "        if stride != 1 or self.inplanes != planes * block.expansion:\n",
    "            downsample = nn.Sequential(\n",
    "                nn.Conv2d(self.inplanes, planes * block.expansion,\n",
    "                          kernel_size=1, stride=stride, bias=False),\n",
    "                nn.BatchNorm2d(planes * block.expansion),\n",
    "            )\n",
    "\n",
    "        layers = []\n",
    "        layers.append(block(self.inplanes, planes, stride, downsample=downsample,\n",
    "                            stype='stage', baseWidth=self.baseWidth, scale=self.scale))\n",
    "        self.inplanes = planes * block.expansion\n",
    "        for i in range(1, blocks):\n",
    "            layers.append(block(self.inplanes, planes, baseWidth=self.baseWidth, scale=self.scale))\n",
    "\n",
    "        return nn.Sequential(*layers)\n",
    "\n",
    "    def forward(self, x):\n",
    "        x = self.conv1(x)\n",
    "        x = self.bn1(x)\n",
    "        x = self.relu(x)\n",
    "        x = self.maxpool(x)\n",
    "\n",
    "        x = self.layer1(x)\n",
    "        x = self.layer2(x)\n",
    "        x = self.layer3(x)\n",
    "        x = self.layer4(x)\n",
    "        \n",
    "        x = self.avgpool(x)\n",
    "        x = x.view(x.size(0), x.size(1) * x.size(2), 1, 1) \n",
    "\n",
    "        return x"
   ]
  },
  {
   "cell_type": "markdown",
   "metadata": {},
   "source": [
    "## Re-ID model"
   ]
  },
  {
   "cell_type": "code",
   "execution_count": 41,
   "metadata": {},
   "outputs": [],
   "source": [
    "class ReIDModel(nn.Module):\n",
    "    \"\"\"Basic neural network model for reidentification. Based on Res2Net\"\"\"\n",
    "    \n",
    "    def __init__(self, Res2Net_model, person_number=751):\n",
    "        super(ReIDModel, self).__init__()\n",
    "        self.backbone = Res2Net_model\n",
    "        self.conv_ident1 = nn.Conv2d(4096, person_number, 1)\n",
    "        self.conv_ident2 = nn.Conv2d(4096, person_number, 1)\n",
    "        self.conv_verif = nn.Conv2d(4096, person_number, 1)\n",
    "        \n",
    "        self.fc1 = nn.Linear(person_number, out_features=person_number)\n",
    "        self.fc2 = nn.Linear(person_number, out_features=person_number)\n",
    "        self.fc3 = nn.Linear(person_number, out_features=2)\n",
    "        \n",
    "    def forward(self, x, y):\n",
    "        f1 = self.backbone(x)\n",
    "        f2 = self.backbone(y)\n",
    "        \n",
    "        x = self.fc1(self.conv_ident1(f1).view(x.size(0), -1))\n",
    "        y = self.fc2(self.conv_ident2(f2).view(y.size(0), -1))\n",
    "    \n",
    "        z = (f1 - f2) ** 2\n",
    "        z = self.fc3(self.conv_verif(z).view(z.size(0), -1))\n",
    "        \n",
    "        return z, x, y\n",
    "        "
   ]
  },
  {
   "cell_type": "markdown",
   "metadata": {},
   "source": [
    "## Augmentations"
   ]
  },
  {
   "cell_type": "code",
   "execution_count": 42,
   "metadata": {},
   "outputs": [],
   "source": [
    "from random import uniform, randint \n",
    "from math import sqrt\n",
    "class RandomErasing(object):\n",
    "    \"\"\"Random Erasing\"\"\"\n",
    "    \n",
    "    def __init__(self, probability=0.4, er_area_min=0.02, er_area_max=0.4, asp_ratio=0.3,er_color=[150, 142, 129]):\n",
    "        self.probability = probability\n",
    "        self.erasing_area_min = er_area_min\n",
    "        self.erasing_area_max = er_area_max\n",
    "        self.aspect_ratio = asp_ratio\n",
    "        self.erasing_color = er_color\n",
    "        \n",
    "    def __call__(self, img):\n",
    "        if uniform(0, 1) <= self.probability:\n",
    "            target_area = uniform(self.erasing_area_min, self.erasing_area_max) * img.shape[1] * img.shape[2]\n",
    "            aspect_ratio = uniform(self.aspect_ratio, 1 / self.aspect_ratio)\n",
    "            \n",
    "            h = round(sqrt(target_area * aspect_ratio))\n",
    "            w = round(sqrt(target_area / aspect_ratio))\n",
    "            \n",
    "            if h < img.shape[1] and w < img.shape[2]:\n",
    "                top_left = (randint(0, img.shape[1] - h), randint(0, img.shape[2] - w))\n",
    "                for i in range(3):\n",
    "                    img[i, top_left[0]:top_left[0] + h, top_left[1]:top_left[1] + w] = self.erasing_color[i] / 255\n",
    "        return img"
   ]
  },
  {
   "cell_type": "code",
   "execution_count": 43,
   "metadata": {},
   "outputs": [],
   "source": [
    "transform_train = transforms.Compose([\n",
    "    transforms.Resize(images_size),\n",
    "    transforms.RandomCrop((246, 128)),\n",
    "    transforms.RandomRotation(15),\n",
    "    transforms.ToTensor(),\n",
    "    transforms.Normalize(mean=[0.485, 0.456, 0.406],\n",
    "                         std=[0.229, 0.224, 0.225]),\n",
    "    RandomErasing()\n",
    "])\n",
    "\n",
    "transform_val = transforms.Compose([\n",
    "    transforms.Resize(images_size),\n",
    "    transforms.ToTensor(),\n",
    "    transforms.Normalize(mean=[0.485, 0.456, 0.406],\n",
    "                         std=[0.229, 0.224, 0.225]),\n",
    "])"
   ]
  },
  {
   "cell_type": "markdown",
   "metadata": {},
   "source": [
    "## Load data"
   ]
  },
  {
   "cell_type": "code",
   "execution_count": 44,
   "metadata": {},
   "outputs": [],
   "source": [
    "train_data = dataset(data_path, \"Train\", transform_train)"
   ]
  },
  {
   "cell_type": "code",
   "execution_count": 49,
   "metadata": {
    "scrolled": true
   },
   "outputs": [
    {
     "data": {
      "application/javascript": [
       "/* Put everything inside the global mpl namespace */\n",
       "window.mpl = {};\n",
       "\n",
       "\n",
       "mpl.get_websocket_type = function() {\n",
       "    if (typeof(WebSocket) !== 'undefined') {\n",
       "        return WebSocket;\n",
       "    } else if (typeof(MozWebSocket) !== 'undefined') {\n",
       "        return MozWebSocket;\n",
       "    } else {\n",
       "        alert('Your browser does not have WebSocket support. ' +\n",
       "              'Please try Chrome, Safari or Firefox ≥ 6. ' +\n",
       "              'Firefox 4 and 5 are also supported but you ' +\n",
       "              'have to enable WebSockets in about:config.');\n",
       "    };\n",
       "}\n",
       "\n",
       "mpl.figure = function(figure_id, websocket, ondownload, parent_element) {\n",
       "    this.id = figure_id;\n",
       "\n",
       "    this.ws = websocket;\n",
       "\n",
       "    this.supports_binary = (this.ws.binaryType != undefined);\n",
       "\n",
       "    if (!this.supports_binary) {\n",
       "        var warnings = document.getElementById(\"mpl-warnings\");\n",
       "        if (warnings) {\n",
       "            warnings.style.display = 'block';\n",
       "            warnings.textContent = (\n",
       "                \"This browser does not support binary websocket messages. \" +\n",
       "                    \"Performance may be slow.\");\n",
       "        }\n",
       "    }\n",
       "\n",
       "    this.imageObj = new Image();\n",
       "\n",
       "    this.context = undefined;\n",
       "    this.message = undefined;\n",
       "    this.canvas = undefined;\n",
       "    this.rubberband_canvas = undefined;\n",
       "    this.rubberband_context = undefined;\n",
       "    this.format_dropdown = undefined;\n",
       "\n",
       "    this.image_mode = 'full';\n",
       "\n",
       "    this.root = $('<div/>');\n",
       "    this._root_extra_style(this.root)\n",
       "    this.root.attr('style', 'display: inline-block');\n",
       "\n",
       "    $(parent_element).append(this.root);\n",
       "\n",
       "    this._init_header(this);\n",
       "    this._init_canvas(this);\n",
       "    this._init_toolbar(this);\n",
       "\n",
       "    var fig = this;\n",
       "\n",
       "    this.waiting = false;\n",
       "\n",
       "    this.ws.onopen =  function () {\n",
       "            fig.send_message(\"supports_binary\", {value: fig.supports_binary});\n",
       "            fig.send_message(\"send_image_mode\", {});\n",
       "            if (mpl.ratio != 1) {\n",
       "                fig.send_message(\"set_dpi_ratio\", {'dpi_ratio': mpl.ratio});\n",
       "            }\n",
       "            fig.send_message(\"refresh\", {});\n",
       "        }\n",
       "\n",
       "    this.imageObj.onload = function() {\n",
       "            if (fig.image_mode == 'full') {\n",
       "                // Full images could contain transparency (where diff images\n",
       "                // almost always do), so we need to clear the canvas so that\n",
       "                // there is no ghosting.\n",
       "                fig.context.clearRect(0, 0, fig.canvas.width, fig.canvas.height);\n",
       "            }\n",
       "            fig.context.drawImage(fig.imageObj, 0, 0);\n",
       "        };\n",
       "\n",
       "    this.imageObj.onunload = function() {\n",
       "        fig.ws.close();\n",
       "    }\n",
       "\n",
       "    this.ws.onmessage = this._make_on_message_function(this);\n",
       "\n",
       "    this.ondownload = ondownload;\n",
       "}\n",
       "\n",
       "mpl.figure.prototype._init_header = function() {\n",
       "    var titlebar = $(\n",
       "        '<div class=\"ui-dialog-titlebar ui-widget-header ui-corner-all ' +\n",
       "        'ui-helper-clearfix\"/>');\n",
       "    var titletext = $(\n",
       "        '<div class=\"ui-dialog-title\" style=\"width: 100%; ' +\n",
       "        'text-align: center; padding: 3px;\"/>');\n",
       "    titlebar.append(titletext)\n",
       "    this.root.append(titlebar);\n",
       "    this.header = titletext[0];\n",
       "}\n",
       "\n",
       "\n",
       "\n",
       "mpl.figure.prototype._canvas_extra_style = function(canvas_div) {\n",
       "\n",
       "}\n",
       "\n",
       "\n",
       "mpl.figure.prototype._root_extra_style = function(canvas_div) {\n",
       "\n",
       "}\n",
       "\n",
       "mpl.figure.prototype._init_canvas = function() {\n",
       "    var fig = this;\n",
       "\n",
       "    var canvas_div = $('<div/>');\n",
       "\n",
       "    canvas_div.attr('style', 'position: relative; clear: both; outline: 0');\n",
       "\n",
       "    function canvas_keyboard_event(event) {\n",
       "        return fig.key_event(event, event['data']);\n",
       "    }\n",
       "\n",
       "    canvas_div.keydown('key_press', canvas_keyboard_event);\n",
       "    canvas_div.keyup('key_release', canvas_keyboard_event);\n",
       "    this.canvas_div = canvas_div\n",
       "    this._canvas_extra_style(canvas_div)\n",
       "    this.root.append(canvas_div);\n",
       "\n",
       "    var canvas = $('<canvas/>');\n",
       "    canvas.addClass('mpl-canvas');\n",
       "    canvas.attr('style', \"left: 0; top: 0; z-index: 0; outline: 0\")\n",
       "\n",
       "    this.canvas = canvas[0];\n",
       "    this.context = canvas[0].getContext(\"2d\");\n",
       "\n",
       "    var backingStore = this.context.backingStorePixelRatio ||\n",
       "\tthis.context.webkitBackingStorePixelRatio ||\n",
       "\tthis.context.mozBackingStorePixelRatio ||\n",
       "\tthis.context.msBackingStorePixelRatio ||\n",
       "\tthis.context.oBackingStorePixelRatio ||\n",
       "\tthis.context.backingStorePixelRatio || 1;\n",
       "\n",
       "    mpl.ratio = (window.devicePixelRatio || 1) / backingStore;\n",
       "\n",
       "    var rubberband = $('<canvas/>');\n",
       "    rubberband.attr('style', \"position: absolute; left: 0; top: 0; z-index: 1;\")\n",
       "\n",
       "    var pass_mouse_events = true;\n",
       "\n",
       "    canvas_div.resizable({\n",
       "        start: function(event, ui) {\n",
       "            pass_mouse_events = false;\n",
       "        },\n",
       "        resize: function(event, ui) {\n",
       "            fig.request_resize(ui.size.width, ui.size.height);\n",
       "        },\n",
       "        stop: function(event, ui) {\n",
       "            pass_mouse_events = true;\n",
       "            fig.request_resize(ui.size.width, ui.size.height);\n",
       "        },\n",
       "    });\n",
       "\n",
       "    function mouse_event_fn(event) {\n",
       "        if (pass_mouse_events)\n",
       "            return fig.mouse_event(event, event['data']);\n",
       "    }\n",
       "\n",
       "    rubberband.mousedown('button_press', mouse_event_fn);\n",
       "    rubberband.mouseup('button_release', mouse_event_fn);\n",
       "    // Throttle sequential mouse events to 1 every 20ms.\n",
       "    rubberband.mousemove('motion_notify', mouse_event_fn);\n",
       "\n",
       "    rubberband.mouseenter('figure_enter', mouse_event_fn);\n",
       "    rubberband.mouseleave('figure_leave', mouse_event_fn);\n",
       "\n",
       "    canvas_div.on(\"wheel\", function (event) {\n",
       "        event = event.originalEvent;\n",
       "        event['data'] = 'scroll'\n",
       "        if (event.deltaY < 0) {\n",
       "            event.step = 1;\n",
       "        } else {\n",
       "            event.step = -1;\n",
       "        }\n",
       "        mouse_event_fn(event);\n",
       "    });\n",
       "\n",
       "    canvas_div.append(canvas);\n",
       "    canvas_div.append(rubberband);\n",
       "\n",
       "    this.rubberband = rubberband;\n",
       "    this.rubberband_canvas = rubberband[0];\n",
       "    this.rubberband_context = rubberband[0].getContext(\"2d\");\n",
       "    this.rubberband_context.strokeStyle = \"#000000\";\n",
       "\n",
       "    this._resize_canvas = function(width, height) {\n",
       "        // Keep the size of the canvas, canvas container, and rubber band\n",
       "        // canvas in synch.\n",
       "        canvas_div.css('width', width)\n",
       "        canvas_div.css('height', height)\n",
       "\n",
       "        canvas.attr('width', width * mpl.ratio);\n",
       "        canvas.attr('height', height * mpl.ratio);\n",
       "        canvas.attr('style', 'width: ' + width + 'px; height: ' + height + 'px;');\n",
       "\n",
       "        rubberband.attr('width', width);\n",
       "        rubberband.attr('height', height);\n",
       "    }\n",
       "\n",
       "    // Set the figure to an initial 600x600px, this will subsequently be updated\n",
       "    // upon first draw.\n",
       "    this._resize_canvas(600, 600);\n",
       "\n",
       "    // Disable right mouse context menu.\n",
       "    $(this.rubberband_canvas).bind(\"contextmenu\",function(e){\n",
       "        return false;\n",
       "    });\n",
       "\n",
       "    function set_focus () {\n",
       "        canvas.focus();\n",
       "        canvas_div.focus();\n",
       "    }\n",
       "\n",
       "    window.setTimeout(set_focus, 100);\n",
       "}\n",
       "\n",
       "mpl.figure.prototype._init_toolbar = function() {\n",
       "    var fig = this;\n",
       "\n",
       "    var nav_element = $('<div/>');\n",
       "    nav_element.attr('style', 'width: 100%');\n",
       "    this.root.append(nav_element);\n",
       "\n",
       "    // Define a callback function for later on.\n",
       "    function toolbar_event(event) {\n",
       "        return fig.toolbar_button_onclick(event['data']);\n",
       "    }\n",
       "    function toolbar_mouse_event(event) {\n",
       "        return fig.toolbar_button_onmouseover(event['data']);\n",
       "    }\n",
       "\n",
       "    for(var toolbar_ind in mpl.toolbar_items) {\n",
       "        var name = mpl.toolbar_items[toolbar_ind][0];\n",
       "        var tooltip = mpl.toolbar_items[toolbar_ind][1];\n",
       "        var image = mpl.toolbar_items[toolbar_ind][2];\n",
       "        var method_name = mpl.toolbar_items[toolbar_ind][3];\n",
       "\n",
       "        if (!name) {\n",
       "            // put a spacer in here.\n",
       "            continue;\n",
       "        }\n",
       "        var button = $('<button/>');\n",
       "        button.addClass('ui-button ui-widget ui-state-default ui-corner-all ' +\n",
       "                        'ui-button-icon-only');\n",
       "        button.attr('role', 'button');\n",
       "        button.attr('aria-disabled', 'false');\n",
       "        button.click(method_name, toolbar_event);\n",
       "        button.mouseover(tooltip, toolbar_mouse_event);\n",
       "\n",
       "        var icon_img = $('<span/>');\n",
       "        icon_img.addClass('ui-button-icon-primary ui-icon');\n",
       "        icon_img.addClass(image);\n",
       "        icon_img.addClass('ui-corner-all');\n",
       "\n",
       "        var tooltip_span = $('<span/>');\n",
       "        tooltip_span.addClass('ui-button-text');\n",
       "        tooltip_span.html(tooltip);\n",
       "\n",
       "        button.append(icon_img);\n",
       "        button.append(tooltip_span);\n",
       "\n",
       "        nav_element.append(button);\n",
       "    }\n",
       "\n",
       "    var fmt_picker_span = $('<span/>');\n",
       "\n",
       "    var fmt_picker = $('<select/>');\n",
       "    fmt_picker.addClass('mpl-toolbar-option ui-widget ui-widget-content');\n",
       "    fmt_picker_span.append(fmt_picker);\n",
       "    nav_element.append(fmt_picker_span);\n",
       "    this.format_dropdown = fmt_picker[0];\n",
       "\n",
       "    for (var ind in mpl.extensions) {\n",
       "        var fmt = mpl.extensions[ind];\n",
       "        var option = $(\n",
       "            '<option/>', {selected: fmt === mpl.default_extension}).html(fmt);\n",
       "        fmt_picker.append(option);\n",
       "    }\n",
       "\n",
       "    // Add hover states to the ui-buttons\n",
       "    $( \".ui-button\" ).hover(\n",
       "        function() { $(this).addClass(\"ui-state-hover\");},\n",
       "        function() { $(this).removeClass(\"ui-state-hover\");}\n",
       "    );\n",
       "\n",
       "    var status_bar = $('<span class=\"mpl-message\"/>');\n",
       "    nav_element.append(status_bar);\n",
       "    this.message = status_bar[0];\n",
       "}\n",
       "\n",
       "mpl.figure.prototype.request_resize = function(x_pixels, y_pixels) {\n",
       "    // Request matplotlib to resize the figure. Matplotlib will then trigger a resize in the client,\n",
       "    // which will in turn request a refresh of the image.\n",
       "    this.send_message('resize', {'width': x_pixels, 'height': y_pixels});\n",
       "}\n",
       "\n",
       "mpl.figure.prototype.send_message = function(type, properties) {\n",
       "    properties['type'] = type;\n",
       "    properties['figure_id'] = this.id;\n",
       "    this.ws.send(JSON.stringify(properties));\n",
       "}\n",
       "\n",
       "mpl.figure.prototype.send_draw_message = function() {\n",
       "    if (!this.waiting) {\n",
       "        this.waiting = true;\n",
       "        this.ws.send(JSON.stringify({type: \"draw\", figure_id: this.id}));\n",
       "    }\n",
       "}\n",
       "\n",
       "\n",
       "mpl.figure.prototype.handle_save = function(fig, msg) {\n",
       "    var format_dropdown = fig.format_dropdown;\n",
       "    var format = format_dropdown.options[format_dropdown.selectedIndex].value;\n",
       "    fig.ondownload(fig, format);\n",
       "}\n",
       "\n",
       "\n",
       "mpl.figure.prototype.handle_resize = function(fig, msg) {\n",
       "    var size = msg['size'];\n",
       "    if (size[0] != fig.canvas.width || size[1] != fig.canvas.height) {\n",
       "        fig._resize_canvas(size[0], size[1]);\n",
       "        fig.send_message(\"refresh\", {});\n",
       "    };\n",
       "}\n",
       "\n",
       "mpl.figure.prototype.handle_rubberband = function(fig, msg) {\n",
       "    var x0 = msg['x0'] / mpl.ratio;\n",
       "    var y0 = (fig.canvas.height - msg['y0']) / mpl.ratio;\n",
       "    var x1 = msg['x1'] / mpl.ratio;\n",
       "    var y1 = (fig.canvas.height - msg['y1']) / mpl.ratio;\n",
       "    x0 = Math.floor(x0) + 0.5;\n",
       "    y0 = Math.floor(y0) + 0.5;\n",
       "    x1 = Math.floor(x1) + 0.5;\n",
       "    y1 = Math.floor(y1) + 0.5;\n",
       "    var min_x = Math.min(x0, x1);\n",
       "    var min_y = Math.min(y0, y1);\n",
       "    var width = Math.abs(x1 - x0);\n",
       "    var height = Math.abs(y1 - y0);\n",
       "\n",
       "    fig.rubberband_context.clearRect(\n",
       "        0, 0, fig.canvas.width / mpl.ratio, fig.canvas.height / mpl.ratio);\n",
       "\n",
       "    fig.rubberband_context.strokeRect(min_x, min_y, width, height);\n",
       "}\n",
       "\n",
       "mpl.figure.prototype.handle_figure_label = function(fig, msg) {\n",
       "    // Updates the figure title.\n",
       "    fig.header.textContent = msg['label'];\n",
       "}\n",
       "\n",
       "mpl.figure.prototype.handle_cursor = function(fig, msg) {\n",
       "    var cursor = msg['cursor'];\n",
       "    switch(cursor)\n",
       "    {\n",
       "    case 0:\n",
       "        cursor = 'pointer';\n",
       "        break;\n",
       "    case 1:\n",
       "        cursor = 'default';\n",
       "        break;\n",
       "    case 2:\n",
       "        cursor = 'crosshair';\n",
       "        break;\n",
       "    case 3:\n",
       "        cursor = 'move';\n",
       "        break;\n",
       "    }\n",
       "    fig.rubberband_canvas.style.cursor = cursor;\n",
       "}\n",
       "\n",
       "mpl.figure.prototype.handle_message = function(fig, msg) {\n",
       "    fig.message.textContent = msg['message'];\n",
       "}\n",
       "\n",
       "mpl.figure.prototype.handle_draw = function(fig, msg) {\n",
       "    // Request the server to send over a new figure.\n",
       "    fig.send_draw_message();\n",
       "}\n",
       "\n",
       "mpl.figure.prototype.handle_image_mode = function(fig, msg) {\n",
       "    fig.image_mode = msg['mode'];\n",
       "}\n",
       "\n",
       "mpl.figure.prototype.updated_canvas_event = function() {\n",
       "    // Called whenever the canvas gets updated.\n",
       "    this.send_message(\"ack\", {});\n",
       "}\n",
       "\n",
       "// A function to construct a web socket function for onmessage handling.\n",
       "// Called in the figure constructor.\n",
       "mpl.figure.prototype._make_on_message_function = function(fig) {\n",
       "    return function socket_on_message(evt) {\n",
       "        if (evt.data instanceof Blob) {\n",
       "            /* FIXME: We get \"Resource interpreted as Image but\n",
       "             * transferred with MIME type text/plain:\" errors on\n",
       "             * Chrome.  But how to set the MIME type?  It doesn't seem\n",
       "             * to be part of the websocket stream */\n",
       "            evt.data.type = \"image/png\";\n",
       "\n",
       "            /* Free the memory for the previous frames */\n",
       "            if (fig.imageObj.src) {\n",
       "                (window.URL || window.webkitURL).revokeObjectURL(\n",
       "                    fig.imageObj.src);\n",
       "            }\n",
       "\n",
       "            fig.imageObj.src = (window.URL || window.webkitURL).createObjectURL(\n",
       "                evt.data);\n",
       "            fig.updated_canvas_event();\n",
       "            fig.waiting = false;\n",
       "            return;\n",
       "        }\n",
       "        else if (typeof evt.data === 'string' && evt.data.slice(0, 21) == \"data:image/png;base64\") {\n",
       "            fig.imageObj.src = evt.data;\n",
       "            fig.updated_canvas_event();\n",
       "            fig.waiting = false;\n",
       "            return;\n",
       "        }\n",
       "\n",
       "        var msg = JSON.parse(evt.data);\n",
       "        var msg_type = msg['type'];\n",
       "\n",
       "        // Call the  \"handle_{type}\" callback, which takes\n",
       "        // the figure and JSON message as its only arguments.\n",
       "        try {\n",
       "            var callback = fig[\"handle_\" + msg_type];\n",
       "        } catch (e) {\n",
       "            console.log(\"No handler for the '\" + msg_type + \"' message type: \", msg);\n",
       "            return;\n",
       "        }\n",
       "\n",
       "        if (callback) {\n",
       "            try {\n",
       "                // console.log(\"Handling '\" + msg_type + \"' message: \", msg);\n",
       "                callback(fig, msg);\n",
       "            } catch (e) {\n",
       "                console.log(\"Exception inside the 'handler_\" + msg_type + \"' callback:\", e, e.stack, msg);\n",
       "            }\n",
       "        }\n",
       "    };\n",
       "}\n",
       "\n",
       "// from http://stackoverflow.com/questions/1114465/getting-mouse-location-in-canvas\n",
       "mpl.findpos = function(e) {\n",
       "    //this section is from http://www.quirksmode.org/js/events_properties.html\n",
       "    var targ;\n",
       "    if (!e)\n",
       "        e = window.event;\n",
       "    if (e.target)\n",
       "        targ = e.target;\n",
       "    else if (e.srcElement)\n",
       "        targ = e.srcElement;\n",
       "    if (targ.nodeType == 3) // defeat Safari bug\n",
       "        targ = targ.parentNode;\n",
       "\n",
       "    // jQuery normalizes the pageX and pageY\n",
       "    // pageX,Y are the mouse positions relative to the document\n",
       "    // offset() returns the position of the element relative to the document\n",
       "    var x = e.pageX - $(targ).offset().left;\n",
       "    var y = e.pageY - $(targ).offset().top;\n",
       "\n",
       "    return {\"x\": x, \"y\": y};\n",
       "};\n",
       "\n",
       "/*\n",
       " * return a copy of an object with only non-object keys\n",
       " * we need this to avoid circular references\n",
       " * http://stackoverflow.com/a/24161582/3208463\n",
       " */\n",
       "function simpleKeys (original) {\n",
       "  return Object.keys(original).reduce(function (obj, key) {\n",
       "    if (typeof original[key] !== 'object')\n",
       "        obj[key] = original[key]\n",
       "    return obj;\n",
       "  }, {});\n",
       "}\n",
       "\n",
       "mpl.figure.prototype.mouse_event = function(event, name) {\n",
       "    var canvas_pos = mpl.findpos(event)\n",
       "\n",
       "    if (name === 'button_press')\n",
       "    {\n",
       "        this.canvas.focus();\n",
       "        this.canvas_div.focus();\n",
       "    }\n",
       "\n",
       "    var x = canvas_pos.x * mpl.ratio;\n",
       "    var y = canvas_pos.y * mpl.ratio;\n",
       "\n",
       "    this.send_message(name, {x: x, y: y, button: event.button,\n",
       "                             step: event.step,\n",
       "                             guiEvent: simpleKeys(event)});\n",
       "\n",
       "    /* This prevents the web browser from automatically changing to\n",
       "     * the text insertion cursor when the button is pressed.  We want\n",
       "     * to control all of the cursor setting manually through the\n",
       "     * 'cursor' event from matplotlib */\n",
       "    event.preventDefault();\n",
       "    return false;\n",
       "}\n",
       "\n",
       "mpl.figure.prototype._key_event_extra = function(event, name) {\n",
       "    // Handle any extra behaviour associated with a key event\n",
       "}\n",
       "\n",
       "mpl.figure.prototype.key_event = function(event, name) {\n",
       "\n",
       "    // Prevent repeat events\n",
       "    if (name == 'key_press')\n",
       "    {\n",
       "        if (event.which === this._key)\n",
       "            return;\n",
       "        else\n",
       "            this._key = event.which;\n",
       "    }\n",
       "    if (name == 'key_release')\n",
       "        this._key = null;\n",
       "\n",
       "    var value = '';\n",
       "    if (event.ctrlKey && event.which != 17)\n",
       "        value += \"ctrl+\";\n",
       "    if (event.altKey && event.which != 18)\n",
       "        value += \"alt+\";\n",
       "    if (event.shiftKey && event.which != 16)\n",
       "        value += \"shift+\";\n",
       "\n",
       "    value += 'k';\n",
       "    value += event.which.toString();\n",
       "\n",
       "    this._key_event_extra(event, name);\n",
       "\n",
       "    this.send_message(name, {key: value,\n",
       "                             guiEvent: simpleKeys(event)});\n",
       "    return false;\n",
       "}\n",
       "\n",
       "mpl.figure.prototype.toolbar_button_onclick = function(name) {\n",
       "    if (name == 'download') {\n",
       "        this.handle_save(this, null);\n",
       "    } else {\n",
       "        this.send_message(\"toolbar_button\", {name: name});\n",
       "    }\n",
       "};\n",
       "\n",
       "mpl.figure.prototype.toolbar_button_onmouseover = function(tooltip) {\n",
       "    this.message.textContent = tooltip;\n",
       "};\n",
       "mpl.toolbar_items = [[\"Home\", \"Reset original view\", \"fa fa-home icon-home\", \"home\"], [\"Back\", \"Back to previous view\", \"fa fa-arrow-left icon-arrow-left\", \"back\"], [\"Forward\", \"Forward to next view\", \"fa fa-arrow-right icon-arrow-right\", \"forward\"], [\"\", \"\", \"\", \"\"], [\"Pan\", \"Pan axes with left mouse, zoom with right\", \"fa fa-arrows icon-move\", \"pan\"], [\"Zoom\", \"Zoom to rectangle\", \"fa fa-square-o icon-check-empty\", \"zoom\"], [\"\", \"\", \"\", \"\"], [\"Download\", \"Download plot\", \"fa fa-floppy-o icon-save\", \"download\"]];\n",
       "\n",
       "mpl.extensions = [\"eps\", \"jpeg\", \"pdf\", \"png\", \"ps\", \"raw\", \"svg\", \"tif\"];\n",
       "\n",
       "mpl.default_extension = \"png\";var comm_websocket_adapter = function(comm) {\n",
       "    // Create a \"websocket\"-like object which calls the given IPython comm\n",
       "    // object with the appropriate methods. Currently this is a non binary\n",
       "    // socket, so there is still some room for performance tuning.\n",
       "    var ws = {};\n",
       "\n",
       "    ws.close = function() {\n",
       "        comm.close()\n",
       "    };\n",
       "    ws.send = function(m) {\n",
       "        //console.log('sending', m);\n",
       "        comm.send(m);\n",
       "    };\n",
       "    // Register the callback with on_msg.\n",
       "    comm.on_msg(function(msg) {\n",
       "        //console.log('receiving', msg['content']['data'], msg);\n",
       "        // Pass the mpl event to the overridden (by mpl) onmessage function.\n",
       "        ws.onmessage(msg['content']['data'])\n",
       "    });\n",
       "    return ws;\n",
       "}\n",
       "\n",
       "mpl.mpl_figure_comm = function(comm, msg) {\n",
       "    // This is the function which gets called when the mpl process\n",
       "    // starts-up an IPython Comm through the \"matplotlib\" channel.\n",
       "\n",
       "    var id = msg.content.data.id;\n",
       "    // Get hold of the div created by the display call when the Comm\n",
       "    // socket was opened in Python.\n",
       "    var element = $(\"#\" + id);\n",
       "    var ws_proxy = comm_websocket_adapter(comm)\n",
       "\n",
       "    function ondownload(figure, format) {\n",
       "        window.open(figure.imageObj.src);\n",
       "    }\n",
       "\n",
       "    var fig = new mpl.figure(id, ws_proxy,\n",
       "                           ondownload,\n",
       "                           element.get(0));\n",
       "\n",
       "    // Call onopen now - mpl needs it, as it is assuming we've passed it a real\n",
       "    // web socket which is closed, not our websocket->open comm proxy.\n",
       "    ws_proxy.onopen();\n",
       "\n",
       "    fig.parent_element = element.get(0);\n",
       "    fig.cell_info = mpl.find_output_cell(\"<div id='\" + id + \"'></div>\");\n",
       "    if (!fig.cell_info) {\n",
       "        console.error(\"Failed to find cell for figure\", id, fig);\n",
       "        return;\n",
       "    }\n",
       "\n",
       "    var output_index = fig.cell_info[2]\n",
       "    var cell = fig.cell_info[0];\n",
       "\n",
       "};\n",
       "\n",
       "mpl.figure.prototype.handle_close = function(fig, msg) {\n",
       "    var width = fig.canvas.width/mpl.ratio\n",
       "    fig.root.unbind('remove')\n",
       "\n",
       "    // Update the output cell to use the data from the current canvas.\n",
       "    fig.push_to_output();\n",
       "    var dataURL = fig.canvas.toDataURL();\n",
       "    // Re-enable the keyboard manager in IPython - without this line, in FF,\n",
       "    // the notebook keyboard shortcuts fail.\n",
       "    IPython.keyboard_manager.enable()\n",
       "    $(fig.parent_element).html('<img src=\"' + dataURL + '\" width=\"' + width + '\">');\n",
       "    fig.close_ws(fig, msg);\n",
       "}\n",
       "\n",
       "mpl.figure.prototype.close_ws = function(fig, msg){\n",
       "    fig.send_message('closing', msg);\n",
       "    // fig.ws.close()\n",
       "}\n",
       "\n",
       "mpl.figure.prototype.push_to_output = function(remove_interactive) {\n",
       "    // Turn the data on the canvas into data in the output cell.\n",
       "    var width = this.canvas.width/mpl.ratio\n",
       "    var dataURL = this.canvas.toDataURL();\n",
       "    this.cell_info[1]['text/html'] = '<img src=\"' + dataURL + '\" width=\"' + width + '\">';\n",
       "}\n",
       "\n",
       "mpl.figure.prototype.updated_canvas_event = function() {\n",
       "    // Tell IPython that the notebook contents must change.\n",
       "    IPython.notebook.set_dirty(true);\n",
       "    this.send_message(\"ack\", {});\n",
       "    var fig = this;\n",
       "    // Wait a second, then push the new image to the DOM so\n",
       "    // that it is saved nicely (might be nice to debounce this).\n",
       "    setTimeout(function () { fig.push_to_output() }, 1000);\n",
       "}\n",
       "\n",
       "mpl.figure.prototype._init_toolbar = function() {\n",
       "    var fig = this;\n",
       "\n",
       "    var nav_element = $('<div/>');\n",
       "    nav_element.attr('style', 'width: 100%');\n",
       "    this.root.append(nav_element);\n",
       "\n",
       "    // Define a callback function for later on.\n",
       "    function toolbar_event(event) {\n",
       "        return fig.toolbar_button_onclick(event['data']);\n",
       "    }\n",
       "    function toolbar_mouse_event(event) {\n",
       "        return fig.toolbar_button_onmouseover(event['data']);\n",
       "    }\n",
       "\n",
       "    for(var toolbar_ind in mpl.toolbar_items){\n",
       "        var name = mpl.toolbar_items[toolbar_ind][0];\n",
       "        var tooltip = mpl.toolbar_items[toolbar_ind][1];\n",
       "        var image = mpl.toolbar_items[toolbar_ind][2];\n",
       "        var method_name = mpl.toolbar_items[toolbar_ind][3];\n",
       "\n",
       "        if (!name) { continue; };\n",
       "\n",
       "        var button = $('<button class=\"btn btn-default\" href=\"#\" title=\"' + name + '\"><i class=\"fa ' + image + ' fa-lg\"></i></button>');\n",
       "        button.click(method_name, toolbar_event);\n",
       "        button.mouseover(tooltip, toolbar_mouse_event);\n",
       "        nav_element.append(button);\n",
       "    }\n",
       "\n",
       "    // Add the status bar.\n",
       "    var status_bar = $('<span class=\"mpl-message\" style=\"text-align:right; float: right;\"/>');\n",
       "    nav_element.append(status_bar);\n",
       "    this.message = status_bar[0];\n",
       "\n",
       "    // Add the close button to the window.\n",
       "    var buttongrp = $('<div class=\"btn-group inline pull-right\"></div>');\n",
       "    var button = $('<button class=\"btn btn-mini btn-primary\" href=\"#\" title=\"Stop Interaction\"><i class=\"fa fa-power-off icon-remove icon-large\"></i></button>');\n",
       "    button.click(function (evt) { fig.handle_close(fig, {}); } );\n",
       "    button.mouseover('Stop Interaction', toolbar_mouse_event);\n",
       "    buttongrp.append(button);\n",
       "    var titlebar = this.root.find($('.ui-dialog-titlebar'));\n",
       "    titlebar.prepend(buttongrp);\n",
       "}\n",
       "\n",
       "mpl.figure.prototype._root_extra_style = function(el){\n",
       "    var fig = this\n",
       "    el.on(\"remove\", function(){\n",
       "\tfig.close_ws(fig, {});\n",
       "    });\n",
       "}\n",
       "\n",
       "mpl.figure.prototype._canvas_extra_style = function(el){\n",
       "    // this is important to make the div 'focusable\n",
       "    el.attr('tabindex', 0)\n",
       "    // reach out to IPython and tell the keyboard manager to turn it's self\n",
       "    // off when our div gets focus\n",
       "\n",
       "    // location in version 3\n",
       "    if (IPython.notebook.keyboard_manager) {\n",
       "        IPython.notebook.keyboard_manager.register_events(el);\n",
       "    }\n",
       "    else {\n",
       "        // location in version 2\n",
       "        IPython.keyboard_manager.register_events(el);\n",
       "    }\n",
       "\n",
       "}\n",
       "\n",
       "mpl.figure.prototype._key_event_extra = function(event, name) {\n",
       "    var manager = IPython.notebook.keyboard_manager;\n",
       "    if (!manager)\n",
       "        manager = IPython.keyboard_manager;\n",
       "\n",
       "    // Check for shift+enter\n",
       "    if (event.shiftKey && event.which == 13) {\n",
       "        this.canvas_div.blur();\n",
       "        // select the cell after this one\n",
       "        var index = IPython.notebook.find_cell_index(this.cell_info[0]);\n",
       "        IPython.notebook.select(index + 1);\n",
       "    }\n",
       "}\n",
       "\n",
       "mpl.figure.prototype.handle_save = function(fig, msg) {\n",
       "    fig.ondownload(fig, null);\n",
       "}\n",
       "\n",
       "\n",
       "mpl.find_output_cell = function(html_output) {\n",
       "    // Return the cell and output element which can be found *uniquely* in the notebook.\n",
       "    // Note - this is a bit hacky, but it is done because the \"notebook_saving.Notebook\"\n",
       "    // IPython event is triggered only after the cells have been serialised, which for\n",
       "    // our purposes (turning an active figure into a static one), is too late.\n",
       "    var cells = IPython.notebook.get_cells();\n",
       "    var ncells = cells.length;\n",
       "    for (var i=0; i<ncells; i++) {\n",
       "        var cell = cells[i];\n",
       "        if (cell.cell_type === 'code'){\n",
       "            for (var j=0; j<cell.output_area.outputs.length; j++) {\n",
       "                var data = cell.output_area.outputs[j];\n",
       "                if (data.data) {\n",
       "                    // IPython >= 3 moved mimebundle to data attribute of output\n",
       "                    data = data.data;\n",
       "                }\n",
       "                if (data['text/html'] == html_output) {\n",
       "                    return [cell, data, j];\n",
       "                }\n",
       "            }\n",
       "        }\n",
       "    }\n",
       "}\n",
       "\n",
       "// Register the function which deals with the matplotlib target/channel.\n",
       "// The kernel may be null if the page has been refreshed.\n",
       "if (IPython.notebook.kernel != null) {\n",
       "    IPython.notebook.kernel.comm_manager.register_target('matplotlib', mpl.mpl_figure_comm);\n",
       "}\n"
      ],
      "text/plain": [
       "<IPython.core.display.Javascript object>"
      ]
     },
     "metadata": {},
     "output_type": "display_data"
    },
    {
     "data": {
      "text/html": [
       "<img src=\"data:image/png;base64,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\" width=\"640\">"
      ],
      "text/plain": [
       "<IPython.core.display.HTML object>"
      ]
     },
     "metadata": {},
     "output_type": "display_data"
    },
    {
     "name": "stderr",
     "output_type": "stream",
     "text": [
      "Clipping input data to the valid range for imshow with RGB data ([0..1] for floats or [0..255] for integers).\n"
     ]
    },
    {
     "data": {
      "text/plain": [
       "<matplotlib.image.AxesImage at 0x7f3d2d688550>"
      ]
     },
     "execution_count": 49,
     "metadata": {},
     "output_type": "execute_result"
    }
   ],
   "source": [
    "\n",
    "plt.imshow(train_data[0]['image'].permute(1, 2, 0))"
   ]
  },
  {
   "cell_type": "markdown",
   "metadata": {},
   "source": [
    "## Load models"
   ]
  },
  {
   "cell_type": "code",
   "execution_count": 50,
   "metadata": {},
   "outputs": [],
   "source": [
    "path = './model_weights/res2net50_26w_4s-06e79181.pth'\n",
    "model_base = Res2Net(Bottle2neck, [3, 4, 6, 3], baseWidth = 26, scale = 4)\n",
    "model_base.load_state_dict(torch.load(path))\n",
    "model = nn.DataParallel(ReIDModel(model_base, train_data.label_count))\n",
    "\n",
    "if load_name != \"\":\n",
    "    model.load_state_dict(torch.load(load_name))\n",
    "model = model.to(device)"
   ]
  },
  {
   "cell_type": "code",
   "execution_count": 51,
   "metadata": {},
   "outputs": [
    {
     "data": {
      "text/plain": [
       "[0]"
      ]
     },
     "execution_count": 51,
     "metadata": {},
     "output_type": "execute_result"
    }
   ],
   "source": [
    "model.device_ids"
   ]
  },
  {
   "cell_type": "markdown",
   "metadata": {},
   "source": [
    "## Loss Function, Optimizer and Warmup Learning Rate"
   ]
  },
  {
   "cell_type": "code",
   "execution_count": 52,
   "metadata": {},
   "outputs": [],
   "source": [
    "from scheduler import GradualWarmupScheduler\n",
    "\n",
    "optimizer = torch.optim.SGD(model.parameters(), lr=0.05)\n",
    "scheduler_lr_red = torch.optim.lr_scheduler.StepLR(optimizer, 40, 0.1)\n",
    "scheduler_warmup = GradualWarmupScheduler(optimizer, multiplier=10, total_epoch=5, after_scheduler=scheduler_lr_red)"
   ]
  },
  {
   "cell_type": "code",
   "execution_count": null,
   "metadata": {},
   "outputs": [],
   "source": []
  },
  {
   "cell_type": "markdown",
   "metadata": {},
   "source": [
    "## Train"
   ]
  },
  {
   "cell_type": "code",
   "execution_count": 53,
   "metadata": {},
   "outputs": [
    {
     "data": {
      "application/vnd.jupyter.widget-view+json": {
       "model_id": "d1d3bbad3b3642a2b51c2536e59e9414",
       "version_major": 2,
       "version_minor": 0
      },
      "text/plain": [
       "HBox(children=(FloatProgress(value=0.0, max=1033.0), HTML(value='')))"
      ]
     },
     "metadata": {},
     "output_type": "display_data"
    },
    {
     "name": "stdout",
     "output_type": "stream",
     "text": [
      "\n",
      "1's epoch is over, Loss: 5.7707, Verification Accuracy: 0.764944%, First Person ID Accuracy: 0.108120%, Second Person ID Accuracy: 0.061048%, First Person ID Val Accuracy: 1.000000%, Second Person ID Val Accuracy: 1.000000%\n",
      "\n"
     ]
    },
    {
     "data": {
      "application/vnd.jupyter.widget-view+json": {
       "model_id": "a63d32a843174cfbafd87fa17355b378",
       "version_major": 2,
       "version_minor": 0
      },
      "text/plain": [
       "HBox(children=(FloatProgress(value=0.0, max=1033.0), HTML(value='')))"
      ]
     },
     "metadata": {},
     "output_type": "display_data"
    },
    {
     "name": "stdout",
     "output_type": "stream",
     "text": [
      "\n",
      "2's epoch is over, Loss: 3.5264, Verification Accuracy: 0.866953%, First Person ID Accuracy: 0.311229%, Second Person ID Accuracy: 0.269603%, First Person ID Val Accuracy: 1.000000%, Second Person ID Val Accuracy: 1.000000%\n",
      "\n"
     ]
    },
    {
     "data": {
      "application/vnd.jupyter.widget-view+json": {
       "model_id": "e2c4960db6114d75aa0143fd49c5d5b0",
       "version_major": 2,
       "version_minor": 0
      },
      "text/plain": [
       "HBox(children=(FloatProgress(value=0.0, max=1033.0), HTML(value='')))"
      ]
     },
     "metadata": {},
     "output_type": "display_data"
    },
    {
     "name": "stdout",
     "output_type": "stream",
     "text": [
      "\n",
      "4's epoch is over, Loss: 1.5568, Verification Accuracy: 0.922132%, First Person ID Accuracy: 0.660636%, Second Person ID Accuracy: 0.650048%, First Person ID Val Accuracy: 1.000000%, Second Person ID Val Accuracy: 1.000000%\n",
      "\n"
     ]
    },
    {
     "data": {
      "application/vnd.jupyter.widget-view+json": {
       "model_id": "dfa57ce34f0a467682dbb28b1a6870f9",
       "version_major": 2,
       "version_minor": 0
      },
      "text/plain": [
       "HBox(children=(FloatProgress(value=0.0, max=1033.0), HTML(value='')))"
      ]
     },
     "metadata": {},
     "output_type": "display_data"
    },
    {
     "name": "stderr",
     "output_type": "stream",
     "text": [
      "IOPub message rate exceeded.\n",
      "The notebook server will temporarily stop sending output\n",
      "to the client in order to avoid crashing it.\n",
      "To change this limit, set the config variable\n",
      "`--NotebookApp.iopub_msg_rate_limit`.\n",
      "\n",
      "Current values:\n",
      "NotebookApp.iopub_msg_rate_limit=1000.0 (msgs/sec)\n",
      "NotebookApp.rate_limit_window=3.0 (secs)\n",
      "\n"
     ]
    },
    {
     "name": "stdout",
     "output_type": "stream",
     "text": [
      "\n",
      "8's epoch is over, Loss: 0.5293, Verification Accuracy: 0.955046%, First Person ID Accuracy: 0.884862%, Second Person ID Accuracy: 0.890912%, First Person ID Val Accuracy: 1.000000%, Second Person ID Val Accuracy: 1.000000%\n",
      "\n"
     ]
    },
    {
     "data": {
      "application/vnd.jupyter.widget-view+json": {
       "model_id": "56f3437fefe14b5da4321a5b5ffdc885",
       "version_major": 2,
       "version_minor": 0
      },
      "text/plain": [
       "HBox(children=(FloatProgress(value=0.0, max=1033.0), HTML(value='')))"
      ]
     },
     "metadata": {},
     "output_type": "display_data"
    },
    {
     "name": "stderr",
     "output_type": "stream",
     "text": [
      "IOPub message rate exceeded.\n",
      "The notebook server will temporarily stop sending output\n",
      "to the client in order to avoid crashing it.\n",
      "To change this limit, set the config variable\n",
      "`--NotebookApp.iopub_msg_rate_limit`.\n",
      "\n",
      "Current values:\n",
      "NotebookApp.iopub_msg_rate_limit=1000.0 (msgs/sec)\n",
      "NotebookApp.rate_limit_window=3.0 (secs)\n",
      "\n"
     ]
    },
    {
     "name": "stdout",
     "output_type": "stream",
     "text": [
      "\n",
      "12's epoch is over, Loss: 0.2921, Verification Accuracy: 0.966602%, First Person ID Accuracy: 0.943792%, Second Person ID Accuracy: 0.940525%, First Person ID Val Accuracy: 1.000000%, Second Person ID Val Accuracy: 1.000000%\n",
      "\n"
     ]
    },
    {
     "data": {
      "application/vnd.jupyter.widget-view+json": {
       "model_id": "8f72509f7cbd4569881fa7c2890a1a61",
       "version_major": 2,
       "version_minor": 0
      },
      "text/plain": [
       "HBox(children=(FloatProgress(value=0.0, max=1033.0), HTML(value='')))"
      ]
     },
     "metadata": {},
     "output_type": "display_data"
    },
    {
     "name": "stdout",
     "output_type": "stream",
     "text": [
      "\n",
      "13's epoch is over, Loss: 0.2640, Verification Accuracy: 0.967389%, First Person ID Accuracy: 0.949238%, Second Person ID Accuracy: 0.952021%, First Person ID Val Accuracy: 1.000000%, Second Person ID Val Accuracy: 1.000000%\n",
      "\n"
     ]
    },
    {
     "data": {
      "application/vnd.jupyter.widget-view+json": {
       "model_id": "3ad346605669415b870d843fbe9eb1f3",
       "version_major": 2,
       "version_minor": 0
      },
      "text/plain": [
       "HBox(children=(FloatProgress(value=0.0, max=1033.0), HTML(value='')))"
      ]
     },
     "metadata": {},
     "output_type": "display_data"
    },
    {
     "name": "stderr",
     "output_type": "stream",
     "text": [
      "IOPub message rate exceeded.\n",
      "The notebook server will temporarily stop sending output\n",
      "to the client in order to avoid crashing it.\n",
      "To change this limit, set the config variable\n",
      "`--NotebookApp.iopub_msg_rate_limit`.\n",
      "\n",
      "Current values:\n",
      "NotebookApp.iopub_msg_rate_limit=1000.0 (msgs/sec)\n",
      "NotebookApp.rate_limit_window=3.0 (secs)\n",
      "\n"
     ]
    },
    {
     "name": "stdout",
     "output_type": "stream",
     "text": [
      "\n",
      "16's epoch is over, Loss: 0.2186, Verification Accuracy: 0.971684%, First Person ID Accuracy: 0.960370%, Second Person ID Accuracy: 0.960249%, First Person ID Val Accuracy: 1.000000%, Second Person ID Val Accuracy: 1.000000%\n",
      "\n"
     ]
    },
    {
     "data": {
      "application/vnd.jupyter.widget-view+json": {
       "model_id": "4c0f7a5e19c2472facc98e1a1bb82302",
       "version_major": 2,
       "version_minor": 0
      },
      "text/plain": [
       "HBox(children=(FloatProgress(value=0.0, max=1033.0), HTML(value='')))"
      ]
     },
     "metadata": {},
     "output_type": "display_data"
    },
    {
     "name": "stdout",
     "output_type": "stream",
     "text": [
      "\n",
      "17's epoch is over, Loss: 0.1993, Verification Accuracy: 0.972592%, First Person ID Accuracy: 0.961762%, Second Person ID Accuracy: 0.966179%, First Person ID Val Accuracy: 1.000000%, Second Person ID Val Accuracy: 1.000000%\n",
      "\n"
     ]
    },
    {
     "data": {
      "application/vnd.jupyter.widget-view+json": {
       "model_id": "06fc064f6ec94c2aa912f6b2dc7dc902",
       "version_major": 2,
       "version_minor": 0
      },
      "text/plain": [
       "HBox(children=(FloatProgress(value=0.0, max=1033.0), HTML(value='')))"
      ]
     },
     "metadata": {},
     "output_type": "display_data"
    },
    {
     "name": "stderr",
     "output_type": "stream",
     "text": [
      "IOPub message rate exceeded.\n",
      "The notebook server will temporarily stop sending output\n",
      "to the client in order to avoid crashing it.\n",
      "To change this limit, set the config variable\n",
      "`--NotebookApp.iopub_msg_rate_limit`.\n",
      "\n",
      "Current values:\n",
      "NotebookApp.iopub_msg_rate_limit=1000.0 (msgs/sec)\n",
      "NotebookApp.rate_limit_window=3.0 (secs)\n",
      "\n"
     ]
    },
    {
     "name": "stdout",
     "output_type": "stream",
     "text": [
      "\n",
      "20's epoch is over, Loss: 0.1655, Verification Accuracy: 0.974528%, First Person ID Accuracy: 0.969869%, Second Person ID Accuracy: 0.972229%, First Person ID Val Accuracy: 1.000000%, Second Person ID Val Accuracy: 1.000000%\n",
      "\n"
     ]
    },
    {
     "data": {
      "application/vnd.jupyter.widget-view+json": {
       "model_id": "4045daa464ad476f89d63aa3bc0d4606",
       "version_major": 2,
       "version_minor": 0
      },
      "text/plain": [
       "HBox(children=(FloatProgress(value=0.0, max=1033.0), HTML(value='')))"
      ]
     },
     "metadata": {},
     "output_type": "display_data"
    },
    {
     "name": "stdout",
     "output_type": "stream",
     "text": [
      "\n",
      "21's epoch is over, Loss: 0.1571, Verification Accuracy: 0.978703%, First Person ID Accuracy: 0.974528%, Second Person ID Accuracy: 0.969809%, First Person ID Val Accuracy: 1.000000%, Second Person ID Val Accuracy: 1.000000%\n",
      "\n"
     ]
    },
    {
     "data": {
      "application/vnd.jupyter.widget-view+json": {
       "model_id": "853c51ea7f8644be833ded081a738ed7",
       "version_major": 2,
       "version_minor": 0
      },
      "text/plain": [
       "HBox(children=(FloatProgress(value=0.0, max=1033.0), HTML(value='')))"
      ]
     },
     "metadata": {},
     "output_type": "display_data"
    },
    {
     "name": "stderr",
     "output_type": "stream",
     "text": [
      "IOPub message rate exceeded.\n",
      "The notebook server will temporarily stop sending output\n",
      "to the client in order to avoid crashing it.\n",
      "To change this limit, set the config variable\n",
      "`--NotebookApp.iopub_msg_rate_limit`.\n",
      "\n",
      "Current values:\n",
      "NotebookApp.iopub_msg_rate_limit=1000.0 (msgs/sec)\n",
      "NotebookApp.rate_limit_window=3.0 (secs)\n",
      "\n"
     ]
    },
    {
     "name": "stdout",
     "output_type": "stream",
     "text": [
      "\n",
      "24's epoch is over, Loss: 0.1362, Verification Accuracy: 0.978521%, First Person ID Accuracy: 0.977674%, Second Person ID Accuracy: 0.976646%, First Person ID Val Accuracy: 1.000000%, Second Person ID Val Accuracy: 1.000000%\n",
      "\n"
     ]
    },
    {
     "data": {
      "application/vnd.jupyter.widget-view+json": {
       "model_id": "54b63da13fc84ac0b6f1f54f0c0097c1",
       "version_major": 2,
       "version_minor": 0
      },
      "text/plain": [
       "HBox(children=(FloatProgress(value=0.0, max=1033.0), HTML(value='')))"
      ]
     },
     "metadata": {},
     "output_type": "display_data"
    },
    {
     "name": "stdout",
     "output_type": "stream",
     "text": [
      "\n",
      "25's epoch is over, Loss: 0.1346, Verification Accuracy: 0.981546%, First Person ID Accuracy: 0.976948%, Second Person ID Accuracy: 0.976041%, First Person ID Val Accuracy: 1.000000%, Second Person ID Val Accuracy: 1.000000%\n",
      "\n"
     ]
    },
    {
     "data": {
      "application/vnd.jupyter.widget-view+json": {
       "model_id": "a9d53167ccbe48e5abb37b7f740daa6c",
       "version_major": 2,
       "version_minor": 0
      },
      "text/plain": [
       "HBox(children=(FloatProgress(value=0.0, max=1033.0), HTML(value='')))"
      ]
     },
     "metadata": {},
     "output_type": "display_data"
    },
    {
     "name": "stderr",
     "output_type": "stream",
     "text": [
      "IOPub message rate exceeded.\n",
      "The notebook server will temporarily stop sending output\n",
      "to the client in order to avoid crashing it.\n",
      "To change this limit, set the config variable\n",
      "`--NotebookApp.iopub_msg_rate_limit`.\n",
      "\n",
      "Current values:\n",
      "NotebookApp.iopub_msg_rate_limit=1000.0 (msgs/sec)\n",
      "NotebookApp.rate_limit_window=3.0 (secs)\n",
      "\n"
     ]
    },
    {
     "name": "stdout",
     "output_type": "stream",
     "text": [
      "\n",
      "29's epoch is over, Loss: 0.1134, Verification Accuracy: 0.981244%, First Person ID Accuracy: 0.983241%, Second Person ID Accuracy: 0.982394%, First Person ID Val Accuracy: 1.000000%, Second Person ID Val Accuracy: 1.000000%\n",
      "\n"
     ]
    },
    {
     "data": {
      "application/vnd.jupyter.widget-view+json": {
       "model_id": "7d99309c1aae4709bf08bd50b3e684c1",
       "version_major": 2,
       "version_minor": 0
      },
      "text/plain": [
       "HBox(children=(FloatProgress(value=0.0, max=1033.0), HTML(value='')))"
      ]
     },
     "metadata": {},
     "output_type": "display_data"
    },
    {
     "name": "stderr",
     "output_type": "stream",
     "text": [
      "IOPub message rate exceeded.\n",
      "The notebook server will temporarily stop sending output\n",
      "to the client in order to avoid crashing it.\n",
      "To change this limit, set the config variable\n",
      "`--NotebookApp.iopub_msg_rate_limit`.\n",
      "\n",
      "Current values:\n",
      "NotebookApp.iopub_msg_rate_limit=1000.0 (msgs/sec)\n",
      "NotebookApp.rate_limit_window=3.0 (secs)\n",
      "\n"
     ]
    }
   ],
   "source": [
    "\n",
    "\n",
    "from tqdm.notebook import tqdm\n",
    "\n",
    "for epoch in range(num_epochs):\n",
    "    \n",
    "    loss_list = []\n",
    "    acc_verification_list = []\n",
    "    acc_first_id_list = []\n",
    "    acc_second_id_list = []\n",
    "    acc_first_id_val_list = [1]\n",
    "    acc_second_id_val_list = [1]\n",
    "    \n",
    "    for i in tqdm(range(0, len(train_data), batch_size)):\n",
    "        optimizer.zero_grad()\n",
    "        \n",
    "        images_first = torch.zeros((batch_size, 3, 246, 128), dtype = torch.float32, device = device)\n",
    "        images_second = torch.zeros((batch_size, 3, 246, 128), dtype = torch.float32, device = device)\n",
    "        persons_id_first = torch.zeros((batch_size, ), dtype = torch.long, device = device)\n",
    "        persons_id_second = torch.zeros((batch_size, ), dtype = torch.long, device = device)\n",
    "        verification = torch.zeros(batch_size, dtype=torch.long, device=device)\n",
    "        \n",
    "        for j, k in enumerate(range(i, i + batch_size)):\n",
    "            k = torch.randint(0, len(train_data), (1,)).item()\n",
    "            first_image = train_data[k]\n",
    "            \n",
    "            images_first[j] = first_image[\"image\"]\n",
    "            persons_id_first[j] = first_image[\"person_id\"]\n",
    "            \n",
    "            r = torch.rand((1, )).item()\n",
    "\n",
    "            if r <= 0.4:\n",
    "                verification[j] = 1\n",
    "                idx = train_data.get_random_class_image_idx(persons_id_first[j].item(), True)\n",
    "            else:\n",
    "                idx = train_data.get_random_class_image_idx(persons_id_first[j].item(), False)\n",
    "                \n",
    "            second_image = train_data[idx]\n",
    "            images_second[j] = second_image[\"image\"]\n",
    "            persons_id_second[j] = second_image[\"person_id\"]\n",
    "            \n",
    "            \n",
    "        output = model(images_first, images_second)\n",
    "\n",
    "        loss_verification = F.cross_entropy(output[0], verification)\n",
    "        loss_first_id = F.cross_entropy(output[1], persons_id_first)\n",
    "        loss_second_id = F.cross_entropy(output[2], persons_id_second)\n",
    "        \n",
    "        loss = loss_verification + 0.5 * (loss_first_id + loss_second_id)\n",
    "\n",
    "        loss.backward()\n",
    "        optimizer.step()\n",
    "\n",
    "        loss_list.append(loss)\n",
    "        \n",
    "        predicted = torch.argmax(output[0], 1)\n",
    "        correct = (predicted == verification).sum().item()\n",
    "        acc_verification_list.append(correct / verification.size()[0])\n",
    "        \n",
    "        predicted = torch.argmax(output[1], 1)\n",
    "        correct = (predicted == persons_id_first).sum().item()\n",
    "        acc_first_id_list.append(correct / persons_id_first.size()[0])\n",
    "        \n",
    "        predicted = torch.argmax(output[2], 1)\n",
    "        correct = (predicted == persons_id_second).sum().item()\n",
    "        acc_second_id_list.append(correct / persons_id_second.size()[0])\n",
    "        \n",
    "    scheduler_warmup.step()\n",
    "        \n",
    "    if epoch % checkpoint_every == 0 and epoch != 0:\n",
    "        torch.save(model.state_dict(), save_name + \"_\" + str(epoch) + \"_epochs.pth\")\n",
    "    print('{}\\'s epoch is over, Loss: {:.4f}, Verification Accuracy: {:.6f}%, First Person ID Accuracy: {:.6f}%, Second Person ID Accuracy: {:.6f}%, First Person ID Val Accuracy: {:.6f}%, Second Person ID Val Accuracy: {:.6f}%\\n'\n",
    "          .format(epoch + 1, sum(loss_list) / float(len(loss_list)), \n",
    "                  sum(acc_verification_list) / float(len(acc_verification_list)), \n",
    "                  sum(acc_first_id_list) / float(len(acc_first_id_list)),\n",
    "                  sum(acc_second_id_list) / float(len(acc_second_id_list)),\n",
    "                  sum(acc_first_id_val_list) / float(len(acc_first_id_val_list)),\n",
    "                  sum(acc_second_id_val_list) / float(len(acc_second_id_val_list))))"
   ]
  },
  {
   "cell_type": "code",
   "execution_count": null,
   "metadata": {},
   "outputs": [],
   "source": [
    "torch.save(model.state_dict(), save_name)"
   ]
  },
  {
   "cell_type": "markdown",
   "metadata": {},
   "source": [
    "## Testing"
   ]
  },
  {
   "cell_type": "code",
   "execution_count": 68,
   "metadata": {},
   "outputs": [
    {
     "data": {
      "text/plain": [
       "<All keys matched successfully>"
      ]
     },
     "execution_count": 68,
     "metadata": {},
     "output_type": "execute_result"
    }
   ],
   "source": [
    "load_name = './model_weights/re-id_model/re-id-res2net_' + dataset_name + '_check_metrics_5_epochs.pth'\n",
    "path = load_name\n",
    "model.load_state_dict(torch.load(path, map_location=torch.device('cuda')))"
   ]
  },
  {
   "cell_type": "code",
   "execution_count": 69,
   "metadata": {},
   "outputs": [],
   "source": [
    "model_base.parameters = model.module.backbone.parameters\n",
    "model_base = model_base.to(torch.device('cuda'))"
   ]
  },
  {
   "cell_type": "code",
   "execution_count": 70,
   "metadata": {},
   "outputs": [],
   "source": [
    "transform = transforms.Compose([\n",
    "    transforms.Resize((256, 128)),\n",
    "    transforms.ToTensor(),\n",
    "    transforms.Normalize(mean=[0.485, 0.456, 0.406],\n",
    "                         std=[0.229, 0.224, 0.225]),\n",
    "])\n",
    "\n",
    "#market_test = Market1501('./datasets/Market-1501-v15.09.15', dataset_type='Test', transform=transform)\n",
    "duke_test = dataset(data_path, dataset_type='Test', transform=transform)\n",
    "dataloader_test = DataLoader(duke_test, batch_size=32, shuffle=False)"
   ]
  },
  {
   "cell_type": "markdown",
   "metadata": {},
   "source": [
    "### Creating Gallery Descriptors"
   ]
  },
  {
   "cell_type": "code",
   "execution_count": 71,
   "metadata": {},
   "outputs": [
    {
     "data": {
      "application/vnd.jupyter.widget-view+json": {
       "model_id": "8e9e230d9d4a41a6a577b97a8a0e440d",
       "version_major": 2,
       "version_minor": 0
      },
      "text/plain": [
       "HBox(children=(FloatProgress(value=0.0, max=552.0), HTML(value='')))"
      ]
     },
     "metadata": {},
     "output_type": "display_data"
    },
    {
     "name": "stdout",
     "output_type": "stream",
     "text": [
      "\n"
     ]
    }
   ],
   "source": [
    "from tqdm.notebook import tqdm\n",
    "\n",
    "gallery = []\n",
    "\n",
    "model_base.eval()\n",
    "with torch.no_grad():\n",
    "    for batch in tqdm(dataloader_test):\n",
    "        batch['image'] = batch['image'].to(torch.device('cuda'))\n",
    "        output = model_base(batch['image'])\n",
    "        for i in range(batch['image'].size()[0]):\n",
    "            gallery.append([output[i].view(4096).cpu().numpy(), \n",
    "                            batch['person_id'][i].cpu().numpy(), \n",
    "                            batch['camera_id'][i].cpu().numpy()])\n",
    "            \n",
    "np.save(data_path + 'gallery_descriptors.npy', np.asarray(gallery))"
   ]
  },
  {
   "cell_type": "code",
   "execution_count": 72,
   "metadata": {},
   "outputs": [],
   "source": [
    "gallery = np.load(data_path + 'gallery_descriptors.npy', allow_pickle=True)"
   ]
  },
  {
   "cell_type": "markdown",
   "metadata": {},
   "source": [
    "### Testing on Query Images"
   ]
  },
  {
   "cell_type": "code",
   "execution_count": 73,
   "metadata": {},
   "outputs": [],
   "source": [
    "transform = transforms.Compose([\n",
    "    transforms.Resize((256, 128)),\n",
    "    transforms.ToTensor(),\n",
    "    transforms.Normalize(mean=[0.485, 0.456, 0.406],\n",
    "                         std=[0.229, 0.224, 0.225]),\n",
    "])\n",
    "\n",
    "#market_query = Market1501('./datasets/Market-1501-v15.09.15', dataset_type='Query', transform=transform)\n",
    "duke_query = dataset(data_path, dataset_type='Query', transform=transform)\n",
    "dataloader_query = DataLoader(duke_query, batch_size=1, shuffle=False)"
   ]
  },
  {
   "cell_type": "code",
   "execution_count": 74,
   "metadata": {},
   "outputs": [
    {
     "data": {
      "text/plain": [
       "702"
      ]
     },
     "execution_count": 74,
     "metadata": {},
     "output_type": "execute_result"
    }
   ],
   "source": [
    "duke_query.label_count"
   ]
  },
  {
   "cell_type": "markdown",
   "metadata": {},
   "source": [
    "#### Define Cos Similarity"
   ]
  },
  {
   "cell_type": "code",
   "execution_count": 75,
   "metadata": {},
   "outputs": [],
   "source": [
    "cos = nn.CosineSimilarity(dim=0, eps=1e-8)"
   ]
  },
  {
   "cell_type": "code",
   "execution_count": 76,
   "metadata": {},
   "outputs": [
    {
     "data": {
      "application/vnd.jupyter.widget-view+json": {
       "model_id": "c71f781acb4b4e89b2e2cad4d730efd5",
       "version_major": 2,
       "version_minor": 0
      },
      "text/plain": [
       "HBox(children=(FloatProgress(value=0.0, max=2228.0), HTML(value='')))"
      ]
     },
     "metadata": {},
     "output_type": "display_data"
    },
    {
     "name": "stdout",
     "output_type": "stream",
     "text": [
      "\n"
     ]
    }
   ],
   "source": [
    "from tqdm.notebook import tqdm\n",
    "\n",
    "j = 0\n",
    "cos_dist = np.zeros((dataloader_query.__len__(), duke_test.__len__() + 1, 3))\n",
    "\n",
    "model_base.eval()\n",
    "with torch.no_grad():\n",
    "    for i, batch in enumerate(tqdm(dataloader_query)):\n",
    "        batch['image'] = batch['image'].to(torch.device('cuda'))\n",
    "        output = model_base(batch['image'])\n",
    "        output = output.view(1, 4096)\n",
    "        \n",
    "        for j, gallery_descriptor in enumerate(gallery):\n",
    "            cos_dist[i, j, 0], cos_dist[i, j, 1], cos_dist[i, j, 2] = gallery_descriptor[1], gallery_descriptor[2], cos(output[0].to(torch.device('cpu')), \n",
    "                                                                                                       torch.from_numpy(gallery_descriptor[0])).item()\n",
    "        cos_dist[i, j + 1, 0] = batch['person_id'].item()\n",
    "        cos_dist[i, j + 1, 1] = batch['camera_id'].item()\n",
    "        \n",
    "np.save(data_path + 'cos_dist.npy', np.asarray(cos_dist))"
   ]
  },
  {
   "cell_type": "code",
   "execution_count": 77,
   "metadata": {},
   "outputs": [],
   "source": [
    "cos_dist = np.load(data_path + 'cos_dist.npy', allow_pickle=True)"
   ]
  },
  {
   "cell_type": "markdown",
   "metadata": {},
   "source": [
    "#### Rank-1 Metric"
   ]
  },
  {
   "cell_type": "code",
   "execution_count": 78,
   "metadata": {},
   "outputs": [
    {
     "name": "stdout",
     "output_type": "stream",
     "text": [
      "68.35727109515261\n"
     ]
    }
   ],
   "source": [
    "correct = 0\n",
    "\n",
    "for element in cos_dist:\n",
    "    person_id = element[-1, 0]\n",
    "    camera_id = element[-1, 1]\n",
    "    \n",
    "    element = np.delete(element, np.where(element[:, 1] == camera_id), axis=0)\n",
    "    \n",
    "    if element[element[:,-1].argsort()][-1][0] == person_id:\n",
    "        correct += 1\n",
    "\n",
    "rank_1 = correct / cos_dist.shape[0]\n",
    "print(rank_1 * 100)"
   ]
  },
  {
   "cell_type": "markdown",
   "metadata": {},
   "source": [
    "#### mAP Metric (not interpolated)"
   ]
  },
  {
   "cell_type": "code",
   "execution_count": 79,
   "metadata": {},
   "outputs": [],
   "source": [
    "tp_fn = []\n",
    "\n",
    "for element in cos_dist:\n",
    "    person_id = element[-1, 0]\n",
    "    camera_id = element[-1, 1]\n",
    "    \n",
    "    tp_fn.append(np.where(np.logical_and(element[:, 0] == person_id, element[:, 1] != camera_id))[0].shape[0])"
   ]
  },
  {
   "cell_type": "code",
   "execution_count": 80,
   "metadata": {},
   "outputs": [
    {
     "data": {
      "application/vnd.jupyter.widget-view+json": {
       "model_id": "8ff5ddb49c744745b764a77ac5406f83",
       "version_major": 2,
       "version_minor": 0
      },
      "text/plain": [
       "HBox(children=(FloatProgress(value=0.0, max=2228.0), HTML(value='')))"
      ]
     },
     "metadata": {},
     "output_type": "display_data"
    },
    {
     "name": "stdout",
     "output_type": "stream",
     "text": [
      "\n"
     ]
    }
   ],
   "source": [
    "from tqdm.notebook import tqdm\n",
    "\n",
    "i = 0\n",
    "p_r_dots = []\n",
    "\n",
    "for element in tqdm(cos_dist):\n",
    "    person_id = element[-1, 0]\n",
    "    camera_id = element[-1, 1]\n",
    "    \n",
    "    element = np.delete(element, np.where(element[:, 1] == camera_id), axis=0)\n",
    "    element = element[element[:,-1].argsort()]\n",
    "    \n",
    "    tmp = np.zeros((element.shape[0], 2))\n",
    "    tmp[np.argwhere(element[:, 0] == person_id), 0] = 1\n",
    "    tmp[:, 1] = element[:, 2]\n",
    "    p_r_dots.append(tmp)\n",
    "    \n",
    "p_r_dots = np.asarray(p_r_dots)"
   ]
  },
  {
   "cell_type": "code",
   "execution_count": 81,
   "metadata": {},
   "outputs": [
    {
     "name": "stdout",
     "output_type": "stream",
     "text": [
      "45.565970756527264\n"
     ]
    }
   ],
   "source": [
    "from sklearn.metrics import average_precision_score\n",
    "\n",
    "map_sum = 0\n",
    "for el in p_r_dots:\n",
    "    y_true, y_score = el[:, 0], el[:, 1]\n",
    "    map_sum += average_precision_score(y_true, y_score)\n",
    "    \n",
    "mAP = map_sum / p_r_dots.shape[0]\n",
    "print(mAP * 100)"
   ]
  },
  {
   "cell_type": "markdown",
   "metadata": {},
   "source": [
    "#### mAP Metric (interpolated)"
   ]
  },
  {
   "cell_type": "code",
   "execution_count": null,
   "metadata": {},
   "outputs": [
    {
     "data": {
      "application/vnd.jupyter.widget-view+json": {
       "model_id": "d64ea0fa2f5c46d8b8ddbd882e823a29",
       "version_major": 2,
       "version_minor": 0
      },
      "text/plain": [
       "HBox(children=(FloatProgress(value=0.0, max=3368.0), HTML(value='')))"
      ]
     },
     "metadata": {},
     "output_type": "display_data"
    }
   ],
   "source": [
    "from tqdm.notebook import tqdm\n",
    "\n",
    "i = 0\n",
    "p_r_dots = []\n",
    "\n",
    "for element in tqdm(cos_dist):\n",
    "    person_id = element[-1, 0]\n",
    "    camera_id = element[-1, 1]\n",
    "    \n",
    "    element = np.delete(element, np.where(element[:, 1] == camera_id), axis=0)\n",
    "    element = element[element[:,-1].argsort()]\n",
    "    \n",
    "    tmp = []\n",
    "    old_confidence = 0\n",
    "    step = 1\n",
    "    for j, confidence in enumerate(element[:, 2]):\n",
    "        if j == 0:\n",
    "            tp = np.where(np.logical_and(element[:, 0] == person_id, element[:, 2] >= confidence))[0].shape[0]\n",
    "            fp = np.where(np.logical_and(element[:, 0] != person_id, element[:, 2] >= confidence))[0].shape[0]\n",
    "        else:\n",
    "            if old_confidence < confidence:\n",
    "                if element[j - 1, 0] == person_id:\n",
    "                    tp -= step\n",
    "                else:\n",
    "                    fp -= step\n",
    "                step = 1\n",
    "            else:\n",
    "                step += 1\n",
    "                    \n",
    "        old_confidence = confidence\n",
    "        tmp.append((tp / tp_fn[i], tp / (tp + fp), confidence))\n",
    "        \n",
    "\n",
    "    p_r_dots.append(np.asarray(tmp))\n",
    "    i += 1\n",
    "    \n",
    "p_r_dots = np.asarray(p_r_dots)"
   ]
  },
  {
   "cell_type": "code",
   "execution_count": null,
   "metadata": {},
   "outputs": [],
   "source": [
    "import matplotlib.pyplot as plt\n",
    "for dots in p_r_dots:\n",
    "    plt.plot(dots[:, 0], dots[:, 2])\n",
    "    break"
   ]
  },
  {
   "cell_type": "code",
   "execution_count": null,
   "metadata": {},
   "outputs": [],
   "source": [
    "map_sum = 0\n",
    "\n",
    "for dots in p_r_dots[0:,]:\n",
    "    recallValues = np.arange(0, 1.1, 0.1)\n",
    "    recallValues = list(recallValues[::-1])\n",
    "    precision = []\n",
    "    \n",
    "    dots = sorted(dots, key=lambda x: x[0])\n",
    "    dots_np = np.zeros((len(dots), 2))\n",
    "    \n",
    "    for i, dot in enumerate(dots):\n",
    "        dots_np[i][0], dots_np[i][1] = dot[0], dot[1]\n",
    "        \n",
    "    for r in recallValues:\n",
    "        argGreaterRecalls = np.argwhere(dots_np[:, 0] >= r)\n",
    "        if argGreaterRecalls.size != 0:\n",
    "            precision.append(max(dots_np[argGreaterRecalls.min():, 1]))\n",
    "\n",
    "    map_sum += (sum(precision)) / 11\n",
    "    \n",
    "mAP = map_sum / p_r_dots.shape[0]\n",
    "print(mAP * 100)"
   ]
  },
  {
   "cell_type": "code",
   "execution_count": null,
   "metadata": {},
   "outputs": [],
   "source": []
  }
 ],
 "metadata": {
  "kernelspec": {
   "display_name": "Python 3",
   "language": "python",
   "name": "python3"
  },
  "language_info": {
   "codemirror_mode": {
    "name": "ipython",
    "version": 3
   },
   "file_extension": ".py",
   "mimetype": "text/x-python",
   "name": "python",
   "nbconvert_exporter": "python",
   "pygments_lexer": "ipython3",
   "version": "3.6.9"
  }
 },
 "nbformat": 4,
 "nbformat_minor": 4
}
