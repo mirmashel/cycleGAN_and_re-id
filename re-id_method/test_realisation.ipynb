{
 "cells": [
  {
   "cell_type": "code",
   "execution_count": 1,
   "metadata": {},
   "outputs": [],
   "source": [
    "%load_ext autoreload\n",
    "%autoreload 2"
   ]
  },
  {
   "cell_type": "code",
   "execution_count": 3,
   "metadata": {},
   "outputs": [],
   "source": [
    "from models.re_id_model import ReIDModel\n",
    "from models.res2net import Res2Net\n",
    "from models.res2net import Bottle2neck\n",
    "from models.scheduler import GradualWarmupScheduler\n",
    "import torch"
   ]
  },
  {
   "cell_type": "code",
   "execution_count": 4,
   "metadata": {},
   "outputs": [],
   "source": [
    "model = ReIDModel(500)"
   ]
  },
  {
   "cell_type": "code",
   "execution_count": 5,
   "metadata": {},
   "outputs": [],
   "source": [
    "optim = torch.optim.SGD(model.parameters(), lr = 0.1)"
   ]
  },
  {
   "cell_type": "code",
   "execution_count": 59,
   "metadata": {},
   "outputs": [],
   "source": [
    "optimizer = torch.optim.SGD(model.parameters(), lr = 0.01) \n",
    "scheduler_lr_red = torch.optim.lr_scheduler.StepLR(optimizer, 10, 0.1) \n",
    "scheduler_warmup = GradualWarmupScheduler(optimizer, multiplier = 10, total_epoch = 0, after_scheduler = scheduler_lr_red) \n"
   ]
  },
  {
   "cell_type": "code",
   "execution_count": 103,
   "metadata": {},
   "outputs": [
    {
     "name": "stdout",
     "output_type": "stream",
     "text": [
      "0.010000000000000002\n"
     ]
    }
   ],
   "source": [
    "print(optimizer.param_groups[0]['lr'])\n",
    "# print(scheduler_warmup.get_lr())\n",
    "scheduler_warmup.step()\n"
   ]
  },
  {
   "cell_type": "code",
   "execution_count": 93,
   "metadata": {},
   "outputs": [],
   "source": [
    "optimizer.param_groups[0]['lr'] = 0.1"
   ]
  },
  {
   "cell_type": "code",
   "execution_count": 5,
   "metadata": {},
   "outputs": [],
   "source": [
    "model.save_model(\"./try_save\")"
   ]
  },
  {
   "cell_type": "code",
   "execution_count": 8,
   "metadata": {},
   "outputs": [],
   "source": [
    "model.load_model(\"./try_save\")"
   ]
  },
  {
   "cell_type": "code",
   "execution_count": 13,
   "metadata": {},
   "outputs": [],
   "source": [
    "model.refresh_number_of_labels(100)"
   ]
  },
  {
   "cell_type": "code",
   "execution_count": 14,
   "metadata": {},
   "outputs": [
    {
     "data": {
      "text/plain": [
       "ReIDModel(\n",
       "  (backbone): Res2Net(\n",
       "    (conv1): Conv2d(3, 64, kernel_size=(7, 7), stride=(2, 2), padding=(3, 3), bias=False)\n",
       "    (bn1): BatchNorm2d(64, eps=1e-05, momentum=0.1, affine=True, track_running_stats=True)\n",
       "    (relu): ReLU(inplace=True)\n",
       "    (maxpool): MaxPool2d(kernel_size=3, stride=2, padding=1, dilation=1, ceil_mode=False)\n",
       "    (layer1): Sequential(\n",
       "      (0): Bottle2neck(\n",
       "        (conv1): Conv2d(64, 104, kernel_size=(1, 1), stride=(1, 1), bias=False)\n",
       "        (bn1): BatchNorm2d(104, eps=1e-05, momentum=0.1, affine=True, track_running_stats=True)\n",
       "        (pool): AvgPool2d(kernel_size=3, stride=1, padding=1)\n",
       "        (convs): ModuleList(\n",
       "          (0): Conv2d(26, 26, kernel_size=(3, 3), stride=(1, 1), padding=(1, 1), bias=False)\n",
       "          (1): Conv2d(26, 26, kernel_size=(3, 3), stride=(1, 1), padding=(1, 1), bias=False)\n",
       "          (2): Conv2d(26, 26, kernel_size=(3, 3), stride=(1, 1), padding=(1, 1), bias=False)\n",
       "        )\n",
       "        (bns): ModuleList(\n",
       "          (0): BatchNorm2d(26, eps=1e-05, momentum=0.1, affine=True, track_running_stats=True)\n",
       "          (1): BatchNorm2d(26, eps=1e-05, momentum=0.1, affine=True, track_running_stats=True)\n",
       "          (2): BatchNorm2d(26, eps=1e-05, momentum=0.1, affine=True, track_running_stats=True)\n",
       "        )\n",
       "        (conv3): Conv2d(104, 256, kernel_size=(1, 1), stride=(1, 1), bias=False)\n",
       "        (bn3): BatchNorm2d(256, eps=1e-05, momentum=0.1, affine=True, track_running_stats=True)\n",
       "        (relu): ReLU(inplace=True)\n",
       "        (downsample): Sequential(\n",
       "          (0): Conv2d(64, 256, kernel_size=(1, 1), stride=(1, 1), bias=False)\n",
       "          (1): BatchNorm2d(256, eps=1e-05, momentum=0.1, affine=True, track_running_stats=True)\n",
       "        )\n",
       "      )\n",
       "      (1): Bottle2neck(\n",
       "        (conv1): Conv2d(256, 104, kernel_size=(1, 1), stride=(1, 1), bias=False)\n",
       "        (bn1): BatchNorm2d(104, eps=1e-05, momentum=0.1, affine=True, track_running_stats=True)\n",
       "        (convs): ModuleList(\n",
       "          (0): Conv2d(26, 26, kernel_size=(3, 3), stride=(1, 1), padding=(1, 1), bias=False)\n",
       "          (1): Conv2d(26, 26, kernel_size=(3, 3), stride=(1, 1), padding=(1, 1), bias=False)\n",
       "          (2): Conv2d(26, 26, kernel_size=(3, 3), stride=(1, 1), padding=(1, 1), bias=False)\n",
       "        )\n",
       "        (bns): ModuleList(\n",
       "          (0): BatchNorm2d(26, eps=1e-05, momentum=0.1, affine=True, track_running_stats=True)\n",
       "          (1): BatchNorm2d(26, eps=1e-05, momentum=0.1, affine=True, track_running_stats=True)\n",
       "          (2): BatchNorm2d(26, eps=1e-05, momentum=0.1, affine=True, track_running_stats=True)\n",
       "        )\n",
       "        (conv3): Conv2d(104, 256, kernel_size=(1, 1), stride=(1, 1), bias=False)\n",
       "        (bn3): BatchNorm2d(256, eps=1e-05, momentum=0.1, affine=True, track_running_stats=True)\n",
       "        (relu): ReLU(inplace=True)\n",
       "      )\n",
       "      (2): Bottle2neck(\n",
       "        (conv1): Conv2d(256, 104, kernel_size=(1, 1), stride=(1, 1), bias=False)\n",
       "        (bn1): BatchNorm2d(104, eps=1e-05, momentum=0.1, affine=True, track_running_stats=True)\n",
       "        (convs): ModuleList(\n",
       "          (0): Conv2d(26, 26, kernel_size=(3, 3), stride=(1, 1), padding=(1, 1), bias=False)\n",
       "          (1): Conv2d(26, 26, kernel_size=(3, 3), stride=(1, 1), padding=(1, 1), bias=False)\n",
       "          (2): Conv2d(26, 26, kernel_size=(3, 3), stride=(1, 1), padding=(1, 1), bias=False)\n",
       "        )\n",
       "        (bns): ModuleList(\n",
       "          (0): BatchNorm2d(26, eps=1e-05, momentum=0.1, affine=True, track_running_stats=True)\n",
       "          (1): BatchNorm2d(26, eps=1e-05, momentum=0.1, affine=True, track_running_stats=True)\n",
       "          (2): BatchNorm2d(26, eps=1e-05, momentum=0.1, affine=True, track_running_stats=True)\n",
       "        )\n",
       "        (conv3): Conv2d(104, 256, kernel_size=(1, 1), stride=(1, 1), bias=False)\n",
       "        (bn3): BatchNorm2d(256, eps=1e-05, momentum=0.1, affine=True, track_running_stats=True)\n",
       "        (relu): ReLU(inplace=True)\n",
       "      )\n",
       "    )\n",
       "    (layer2): Sequential(\n",
       "      (0): Bottle2neck(\n",
       "        (conv1): Conv2d(256, 208, kernel_size=(1, 1), stride=(1, 1), bias=False)\n",
       "        (bn1): BatchNorm2d(208, eps=1e-05, momentum=0.1, affine=True, track_running_stats=True)\n",
       "        (pool): AvgPool2d(kernel_size=3, stride=2, padding=1)\n",
       "        (convs): ModuleList(\n",
       "          (0): Conv2d(52, 52, kernel_size=(3, 3), stride=(2, 2), padding=(1, 1), bias=False)\n",
       "          (1): Conv2d(52, 52, kernel_size=(3, 3), stride=(2, 2), padding=(1, 1), bias=False)\n",
       "          (2): Conv2d(52, 52, kernel_size=(3, 3), stride=(2, 2), padding=(1, 1), bias=False)\n",
       "        )\n",
       "        (bns): ModuleList(\n",
       "          (0): BatchNorm2d(52, eps=1e-05, momentum=0.1, affine=True, track_running_stats=True)\n",
       "          (1): BatchNorm2d(52, eps=1e-05, momentum=0.1, affine=True, track_running_stats=True)\n",
       "          (2): BatchNorm2d(52, eps=1e-05, momentum=0.1, affine=True, track_running_stats=True)\n",
       "        )\n",
       "        (conv3): Conv2d(208, 512, kernel_size=(1, 1), stride=(1, 1), bias=False)\n",
       "        (bn3): BatchNorm2d(512, eps=1e-05, momentum=0.1, affine=True, track_running_stats=True)\n",
       "        (relu): ReLU(inplace=True)\n",
       "        (downsample): Sequential(\n",
       "          (0): Conv2d(256, 512, kernel_size=(1, 1), stride=(2, 2), bias=False)\n",
       "          (1): BatchNorm2d(512, eps=1e-05, momentum=0.1, affine=True, track_running_stats=True)\n",
       "        )\n",
       "      )\n",
       "      (1): Bottle2neck(\n",
       "        (conv1): Conv2d(512, 208, kernel_size=(1, 1), stride=(1, 1), bias=False)\n",
       "        (bn1): BatchNorm2d(208, eps=1e-05, momentum=0.1, affine=True, track_running_stats=True)\n",
       "        (convs): ModuleList(\n",
       "          (0): Conv2d(52, 52, kernel_size=(3, 3), stride=(1, 1), padding=(1, 1), bias=False)\n",
       "          (1): Conv2d(52, 52, kernel_size=(3, 3), stride=(1, 1), padding=(1, 1), bias=False)\n",
       "          (2): Conv2d(52, 52, kernel_size=(3, 3), stride=(1, 1), padding=(1, 1), bias=False)\n",
       "        )\n",
       "        (bns): ModuleList(\n",
       "          (0): BatchNorm2d(52, eps=1e-05, momentum=0.1, affine=True, track_running_stats=True)\n",
       "          (1): BatchNorm2d(52, eps=1e-05, momentum=0.1, affine=True, track_running_stats=True)\n",
       "          (2): BatchNorm2d(52, eps=1e-05, momentum=0.1, affine=True, track_running_stats=True)\n",
       "        )\n",
       "        (conv3): Conv2d(208, 512, kernel_size=(1, 1), stride=(1, 1), bias=False)\n",
       "        (bn3): BatchNorm2d(512, eps=1e-05, momentum=0.1, affine=True, track_running_stats=True)\n",
       "        (relu): ReLU(inplace=True)\n",
       "      )\n",
       "      (2): Bottle2neck(\n",
       "        (conv1): Conv2d(512, 208, kernel_size=(1, 1), stride=(1, 1), bias=False)\n",
       "        (bn1): BatchNorm2d(208, eps=1e-05, momentum=0.1, affine=True, track_running_stats=True)\n",
       "        (convs): ModuleList(\n",
       "          (0): Conv2d(52, 52, kernel_size=(3, 3), stride=(1, 1), padding=(1, 1), bias=False)\n",
       "          (1): Conv2d(52, 52, kernel_size=(3, 3), stride=(1, 1), padding=(1, 1), bias=False)\n",
       "          (2): Conv2d(52, 52, kernel_size=(3, 3), stride=(1, 1), padding=(1, 1), bias=False)\n",
       "        )\n",
       "        (bns): ModuleList(\n",
       "          (0): BatchNorm2d(52, eps=1e-05, momentum=0.1, affine=True, track_running_stats=True)\n",
       "          (1): BatchNorm2d(52, eps=1e-05, momentum=0.1, affine=True, track_running_stats=True)\n",
       "          (2): BatchNorm2d(52, eps=1e-05, momentum=0.1, affine=True, track_running_stats=True)\n",
       "        )\n",
       "        (conv3): Conv2d(208, 512, kernel_size=(1, 1), stride=(1, 1), bias=False)\n",
       "        (bn3): BatchNorm2d(512, eps=1e-05, momentum=0.1, affine=True, track_running_stats=True)\n",
       "        (relu): ReLU(inplace=True)\n",
       "      )\n",
       "      (3): Bottle2neck(\n",
       "        (conv1): Conv2d(512, 208, kernel_size=(1, 1), stride=(1, 1), bias=False)\n",
       "        (bn1): BatchNorm2d(208, eps=1e-05, momentum=0.1, affine=True, track_running_stats=True)\n",
       "        (convs): ModuleList(\n",
       "          (0): Conv2d(52, 52, kernel_size=(3, 3), stride=(1, 1), padding=(1, 1), bias=False)\n",
       "          (1): Conv2d(52, 52, kernel_size=(3, 3), stride=(1, 1), padding=(1, 1), bias=False)\n",
       "          (2): Conv2d(52, 52, kernel_size=(3, 3), stride=(1, 1), padding=(1, 1), bias=False)\n",
       "        )\n",
       "        (bns): ModuleList(\n",
       "          (0): BatchNorm2d(52, eps=1e-05, momentum=0.1, affine=True, track_running_stats=True)\n",
       "          (1): BatchNorm2d(52, eps=1e-05, momentum=0.1, affine=True, track_running_stats=True)\n",
       "          (2): BatchNorm2d(52, eps=1e-05, momentum=0.1, affine=True, track_running_stats=True)\n",
       "        )\n",
       "        (conv3): Conv2d(208, 512, kernel_size=(1, 1), stride=(1, 1), bias=False)\n",
       "        (bn3): BatchNorm2d(512, eps=1e-05, momentum=0.1, affine=True, track_running_stats=True)\n",
       "        (relu): ReLU(inplace=True)\n",
       "      )\n",
       "    )\n",
       "    (layer3): Sequential(\n",
       "      (0): Bottle2neck(\n",
       "        (conv1): Conv2d(512, 416, kernel_size=(1, 1), stride=(1, 1), bias=False)\n",
       "        (bn1): BatchNorm2d(416, eps=1e-05, momentum=0.1, affine=True, track_running_stats=True)\n",
       "        (pool): AvgPool2d(kernel_size=3, stride=2, padding=1)\n",
       "        (convs): ModuleList(\n",
       "          (0): Conv2d(104, 104, kernel_size=(3, 3), stride=(2, 2), padding=(1, 1), bias=False)\n",
       "          (1): Conv2d(104, 104, kernel_size=(3, 3), stride=(2, 2), padding=(1, 1), bias=False)\n",
       "          (2): Conv2d(104, 104, kernel_size=(3, 3), stride=(2, 2), padding=(1, 1), bias=False)\n",
       "        )\n",
       "        (bns): ModuleList(\n",
       "          (0): BatchNorm2d(104, eps=1e-05, momentum=0.1, affine=True, track_running_stats=True)\n",
       "          (1): BatchNorm2d(104, eps=1e-05, momentum=0.1, affine=True, track_running_stats=True)\n",
       "          (2): BatchNorm2d(104, eps=1e-05, momentum=0.1, affine=True, track_running_stats=True)\n",
       "        )\n",
       "        (conv3): Conv2d(416, 1024, kernel_size=(1, 1), stride=(1, 1), bias=False)\n",
       "        (bn3): BatchNorm2d(1024, eps=1e-05, momentum=0.1, affine=True, track_running_stats=True)\n",
       "        (relu): ReLU(inplace=True)\n",
       "        (downsample): Sequential(\n",
       "          (0): Conv2d(512, 1024, kernel_size=(1, 1), stride=(2, 2), bias=False)\n",
       "          (1): BatchNorm2d(1024, eps=1e-05, momentum=0.1, affine=True, track_running_stats=True)\n",
       "        )\n",
       "      )\n",
       "      (1): Bottle2neck(\n",
       "        (conv1): Conv2d(1024, 416, kernel_size=(1, 1), stride=(1, 1), bias=False)\n",
       "        (bn1): BatchNorm2d(416, eps=1e-05, momentum=0.1, affine=True, track_running_stats=True)\n",
       "        (convs): ModuleList(\n",
       "          (0): Conv2d(104, 104, kernel_size=(3, 3), stride=(1, 1), padding=(1, 1), bias=False)\n",
       "          (1): Conv2d(104, 104, kernel_size=(3, 3), stride=(1, 1), padding=(1, 1), bias=False)\n",
       "          (2): Conv2d(104, 104, kernel_size=(3, 3), stride=(1, 1), padding=(1, 1), bias=False)\n",
       "        )\n",
       "        (bns): ModuleList(\n",
       "          (0): BatchNorm2d(104, eps=1e-05, momentum=0.1, affine=True, track_running_stats=True)\n",
       "          (1): BatchNorm2d(104, eps=1e-05, momentum=0.1, affine=True, track_running_stats=True)\n",
       "          (2): BatchNorm2d(104, eps=1e-05, momentum=0.1, affine=True, track_running_stats=True)\n",
       "        )\n",
       "        (conv3): Conv2d(416, 1024, kernel_size=(1, 1), stride=(1, 1), bias=False)\n",
       "        (bn3): BatchNorm2d(1024, eps=1e-05, momentum=0.1, affine=True, track_running_stats=True)\n",
       "        (relu): ReLU(inplace=True)\n",
       "      )\n",
       "      (2): Bottle2neck(\n",
       "        (conv1): Conv2d(1024, 416, kernel_size=(1, 1), stride=(1, 1), bias=False)\n",
       "        (bn1): BatchNorm2d(416, eps=1e-05, momentum=0.1, affine=True, track_running_stats=True)\n",
       "        (convs): ModuleList(\n",
       "          (0): Conv2d(104, 104, kernel_size=(3, 3), stride=(1, 1), padding=(1, 1), bias=False)\n",
       "          (1): Conv2d(104, 104, kernel_size=(3, 3), stride=(1, 1), padding=(1, 1), bias=False)\n",
       "          (2): Conv2d(104, 104, kernel_size=(3, 3), stride=(1, 1), padding=(1, 1), bias=False)\n",
       "        )\n",
       "        (bns): ModuleList(\n",
       "          (0): BatchNorm2d(104, eps=1e-05, momentum=0.1, affine=True, track_running_stats=True)\n",
       "          (1): BatchNorm2d(104, eps=1e-05, momentum=0.1, affine=True, track_running_stats=True)\n",
       "          (2): BatchNorm2d(104, eps=1e-05, momentum=0.1, affine=True, track_running_stats=True)\n",
       "        )\n",
       "        (conv3): Conv2d(416, 1024, kernel_size=(1, 1), stride=(1, 1), bias=False)\n",
       "        (bn3): BatchNorm2d(1024, eps=1e-05, momentum=0.1, affine=True, track_running_stats=True)\n",
       "        (relu): ReLU(inplace=True)\n",
       "      )\n",
       "      (3): Bottle2neck(\n",
       "        (conv1): Conv2d(1024, 416, kernel_size=(1, 1), stride=(1, 1), bias=False)\n",
       "        (bn1): BatchNorm2d(416, eps=1e-05, momentum=0.1, affine=True, track_running_stats=True)\n",
       "        (convs): ModuleList(\n",
       "          (0): Conv2d(104, 104, kernel_size=(3, 3), stride=(1, 1), padding=(1, 1), bias=False)\n",
       "          (1): Conv2d(104, 104, kernel_size=(3, 3), stride=(1, 1), padding=(1, 1), bias=False)\n",
       "          (2): Conv2d(104, 104, kernel_size=(3, 3), stride=(1, 1), padding=(1, 1), bias=False)\n",
       "        )\n",
       "        (bns): ModuleList(\n",
       "          (0): BatchNorm2d(104, eps=1e-05, momentum=0.1, affine=True, track_running_stats=True)\n",
       "          (1): BatchNorm2d(104, eps=1e-05, momentum=0.1, affine=True, track_running_stats=True)\n",
       "          (2): BatchNorm2d(104, eps=1e-05, momentum=0.1, affine=True, track_running_stats=True)\n",
       "        )\n",
       "        (conv3): Conv2d(416, 1024, kernel_size=(1, 1), stride=(1, 1), bias=False)\n",
       "        (bn3): BatchNorm2d(1024, eps=1e-05, momentum=0.1, affine=True, track_running_stats=True)\n",
       "        (relu): ReLU(inplace=True)\n",
       "      )\n",
       "      (4): Bottle2neck(\n",
       "        (conv1): Conv2d(1024, 416, kernel_size=(1, 1), stride=(1, 1), bias=False)\n",
       "        (bn1): BatchNorm2d(416, eps=1e-05, momentum=0.1, affine=True, track_running_stats=True)\n",
       "        (convs): ModuleList(\n",
       "          (0): Conv2d(104, 104, kernel_size=(3, 3), stride=(1, 1), padding=(1, 1), bias=False)\n",
       "          (1): Conv2d(104, 104, kernel_size=(3, 3), stride=(1, 1), padding=(1, 1), bias=False)\n",
       "          (2): Conv2d(104, 104, kernel_size=(3, 3), stride=(1, 1), padding=(1, 1), bias=False)\n",
       "        )\n",
       "        (bns): ModuleList(\n",
       "          (0): BatchNorm2d(104, eps=1e-05, momentum=0.1, affine=True, track_running_stats=True)\n",
       "          (1): BatchNorm2d(104, eps=1e-05, momentum=0.1, affine=True, track_running_stats=True)\n",
       "          (2): BatchNorm2d(104, eps=1e-05, momentum=0.1, affine=True, track_running_stats=True)\n",
       "        )\n",
       "        (conv3): Conv2d(416, 1024, kernel_size=(1, 1), stride=(1, 1), bias=False)\n",
       "        (bn3): BatchNorm2d(1024, eps=1e-05, momentum=0.1, affine=True, track_running_stats=True)\n",
       "        (relu): ReLU(inplace=True)\n",
       "      )\n",
       "      (5): Bottle2neck(\n",
       "        (conv1): Conv2d(1024, 416, kernel_size=(1, 1), stride=(1, 1), bias=False)\n",
       "        (bn1): BatchNorm2d(416, eps=1e-05, momentum=0.1, affine=True, track_running_stats=True)\n",
       "        (convs): ModuleList(\n",
       "          (0): Conv2d(104, 104, kernel_size=(3, 3), stride=(1, 1), padding=(1, 1), bias=False)\n",
       "          (1): Conv2d(104, 104, kernel_size=(3, 3), stride=(1, 1), padding=(1, 1), bias=False)\n",
       "          (2): Conv2d(104, 104, kernel_size=(3, 3), stride=(1, 1), padding=(1, 1), bias=False)\n",
       "        )\n",
       "        (bns): ModuleList(\n",
       "          (0): BatchNorm2d(104, eps=1e-05, momentum=0.1, affine=True, track_running_stats=True)\n",
       "          (1): BatchNorm2d(104, eps=1e-05, momentum=0.1, affine=True, track_running_stats=True)\n",
       "          (2): BatchNorm2d(104, eps=1e-05, momentum=0.1, affine=True, track_running_stats=True)\n",
       "        )\n",
       "        (conv3): Conv2d(416, 1024, kernel_size=(1, 1), stride=(1, 1), bias=False)\n",
       "        (bn3): BatchNorm2d(1024, eps=1e-05, momentum=0.1, affine=True, track_running_stats=True)\n",
       "        (relu): ReLU(inplace=True)\n",
       "      )\n",
       "    )\n",
       "    (layer4): Sequential(\n",
       "      (0): Bottle2neck(\n",
       "        (conv1): Conv2d(1024, 832, kernel_size=(1, 1), stride=(1, 1), bias=False)\n",
       "        (bn1): BatchNorm2d(832, eps=1e-05, momentum=0.1, affine=True, track_running_stats=True)\n",
       "        (pool): AvgPool2d(kernel_size=3, stride=2, padding=1)\n",
       "        (convs): ModuleList(\n",
       "          (0): Conv2d(208, 208, kernel_size=(3, 3), stride=(2, 2), padding=(1, 1), bias=False)\n",
       "          (1): Conv2d(208, 208, kernel_size=(3, 3), stride=(2, 2), padding=(1, 1), bias=False)\n",
       "          (2): Conv2d(208, 208, kernel_size=(3, 3), stride=(2, 2), padding=(1, 1), bias=False)\n",
       "        )\n",
       "        (bns): ModuleList(\n",
       "          (0): BatchNorm2d(208, eps=1e-05, momentum=0.1, affine=True, track_running_stats=True)\n",
       "          (1): BatchNorm2d(208, eps=1e-05, momentum=0.1, affine=True, track_running_stats=True)\n",
       "          (2): BatchNorm2d(208, eps=1e-05, momentum=0.1, affine=True, track_running_stats=True)\n",
       "        )\n",
       "        (conv3): Conv2d(832, 2048, kernel_size=(1, 1), stride=(1, 1), bias=False)\n",
       "        (bn3): BatchNorm2d(2048, eps=1e-05, momentum=0.1, affine=True, track_running_stats=True)\n",
       "        (relu): ReLU(inplace=True)\n",
       "        (downsample): Sequential(\n",
       "          (0): Conv2d(1024, 2048, kernel_size=(1, 1), stride=(2, 2), bias=False)\n",
       "          (1): BatchNorm2d(2048, eps=1e-05, momentum=0.1, affine=True, track_running_stats=True)\n",
       "        )\n",
       "      )\n",
       "      (1): Bottle2neck(\n",
       "        (conv1): Conv2d(2048, 832, kernel_size=(1, 1), stride=(1, 1), bias=False)\n",
       "        (bn1): BatchNorm2d(832, eps=1e-05, momentum=0.1, affine=True, track_running_stats=True)\n",
       "        (convs): ModuleList(\n",
       "          (0): Conv2d(208, 208, kernel_size=(3, 3), stride=(1, 1), padding=(1, 1), bias=False)\n",
       "          (1): Conv2d(208, 208, kernel_size=(3, 3), stride=(1, 1), padding=(1, 1), bias=False)\n",
       "          (2): Conv2d(208, 208, kernel_size=(3, 3), stride=(1, 1), padding=(1, 1), bias=False)\n",
       "        )\n",
       "        (bns): ModuleList(\n",
       "          (0): BatchNorm2d(208, eps=1e-05, momentum=0.1, affine=True, track_running_stats=True)\n",
       "          (1): BatchNorm2d(208, eps=1e-05, momentum=0.1, affine=True, track_running_stats=True)\n",
       "          (2): BatchNorm2d(208, eps=1e-05, momentum=0.1, affine=True, track_running_stats=True)\n",
       "        )\n",
       "        (conv3): Conv2d(832, 2048, kernel_size=(1, 1), stride=(1, 1), bias=False)\n",
       "        (bn3): BatchNorm2d(2048, eps=1e-05, momentum=0.1, affine=True, track_running_stats=True)\n",
       "        (relu): ReLU(inplace=True)\n",
       "      )\n",
       "      (2): Bottle2neck(\n",
       "        (conv1): Conv2d(2048, 832, kernel_size=(1, 1), stride=(1, 1), bias=False)\n",
       "        (bn1): BatchNorm2d(832, eps=1e-05, momentum=0.1, affine=True, track_running_stats=True)\n",
       "        (convs): ModuleList(\n",
       "          (0): Conv2d(208, 208, kernel_size=(3, 3), stride=(1, 1), padding=(1, 1), bias=False)\n",
       "          (1): Conv2d(208, 208, kernel_size=(3, 3), stride=(1, 1), padding=(1, 1), bias=False)\n",
       "          (2): Conv2d(208, 208, kernel_size=(3, 3), stride=(1, 1), padding=(1, 1), bias=False)\n",
       "        )\n",
       "        (bns): ModuleList(\n",
       "          (0): BatchNorm2d(208, eps=1e-05, momentum=0.1, affine=True, track_running_stats=True)\n",
       "          (1): BatchNorm2d(208, eps=1e-05, momentum=0.1, affine=True, track_running_stats=True)\n",
       "          (2): BatchNorm2d(208, eps=1e-05, momentum=0.1, affine=True, track_running_stats=True)\n",
       "        )\n",
       "        (conv3): Conv2d(832, 2048, kernel_size=(1, 1), stride=(1, 1), bias=False)\n",
       "        (bn3): BatchNorm2d(2048, eps=1e-05, momentum=0.1, affine=True, track_running_stats=True)\n",
       "        (relu): ReLU(inplace=True)\n",
       "      )\n",
       "    )\n",
       "    (avgpool): AvgPool2d(kernel_size=(7, 4), stride=1, padding=0)\n",
       "    (fc): Linear(in_features=2048, out_features=1000, bias=True)\n",
       "  )\n",
       "  (conv_ident1): Conv2d(4096, 100, kernel_size=(1, 1), stride=(1, 1))\n",
       "  (conv_ident2): Conv2d(4096, 100, kernel_size=(1, 1), stride=(1, 1))\n",
       "  (conv_verif): Conv2d(4096, 100, kernel_size=(1, 1), stride=(1, 1))\n",
       "  (fc1): Linear(in_features=100, out_features=100, bias=True)\n",
       "  (fc2): Linear(in_features=100, out_features=100, bias=True)\n",
       "  (fc3): Linear(in_features=100, out_features=2, bias=True)\n",
       ")"
      ]
     },
     "execution_count": 14,
     "metadata": {},
     "output_type": "execute_result"
    }
   ],
   "source": [
    "model"
   ]
  },
  {
   "cell_type": "code",
   "execution_count": 13,
   "metadata": {},
   "outputs": [],
   "source": [
    "import os\n",
    "os.makedirs(\"124\")"
   ]
  },
  {
   "cell_type": "code",
   "execution_count": 16,
   "metadata": {},
   "outputs": [
    {
     "data": {
      "text/plain": [
       "True"
      ]
     },
     "execution_count": 16,
     "metadata": {},
     "output_type": "execute_result"
    }
   ],
   "source": [
    "os.path.exists(\"./data\")"
   ]
  },
  {
   "cell_type": "code",
   "execution_count": 18,
   "metadata": {},
   "outputs": [],
   "source": [
    "if not os.path.exists(\"./try_save\"):\n",
    "    os.makedirs(\"./try_save\")"
   ]
  },
  {
   "cell_type": "code",
   "execution_count": 16,
   "metadata": {},
   "outputs": [
    {
     "data": {
      "text/plain": [
       "'asdasd asda ads '"
      ]
     },
     "execution_count": 16,
     "metadata": {},
     "output_type": "execute_result"
    }
   ],
   "source": [
    "\"asdasd {} ads \".format(\"asda\")"
   ]
  },
  {
   "cell_type": "code",
   "execution_count": 19,
   "metadata": {},
   "outputs": [],
   "source": [
    "r = range(10, 1000)"
   ]
  },
  {
   "cell_type": "code",
   "execution_count": 28,
   "metadata": {},
   "outputs": [
    {
     "ename": "NameError",
     "evalue": "name 'X' is not defined",
     "output_type": "error",
     "traceback": [
      "\u001b[0;31m---------------------------------------------------------------------------\u001b[0m",
      "\u001b[0;31mNameError\u001b[0m                                 Traceback (most recent call last)",
      "\u001b[0;32m<ipython-input-28-7b084512e1cf>\u001b[0m in \u001b[0;36m<module>\u001b[0;34m\u001b[0m\n\u001b[1;32m     10\u001b[0m         \u001b[0mX\u001b[0m\u001b[0;34m(\u001b[0m\u001b[0;34m)\u001b[0m\u001b[0;34m.\u001b[0m\u001b[0mcall\u001b[0m\u001b[0;34m(\u001b[0m\u001b[0;34m)\u001b[0m\u001b[0;34m\u001b[0m\u001b[0;34m\u001b[0m\u001b[0m\n\u001b[1;32m     11\u001b[0m \u001b[0;34m\u001b[0m\u001b[0m\n\u001b[0;32m---> 12\u001b[0;31m \u001b[0mDatasets_loaders\u001b[0m\u001b[0;34m(\u001b[0m\u001b[0;34m)\u001b[0m\u001b[0;34m.\u001b[0m\u001b[0mcall\u001b[0m\u001b[0;34m(\u001b[0m\u001b[0;34m)\u001b[0m\u001b[0;34m\u001b[0m\u001b[0;34m\u001b[0m\u001b[0m\n\u001b[0m\u001b[1;32m     13\u001b[0m \u001b[0;34m\u001b[0m\u001b[0m\n\u001b[1;32m     14\u001b[0m \u001b[0;34m\u001b[0m\u001b[0m\n",
      "\u001b[0;32m<ipython-input-28-7b084512e1cf>\u001b[0m in \u001b[0;36mcall\u001b[0;34m(self)\u001b[0m\n\u001b[1;32m      8\u001b[0m \u001b[0;34m\u001b[0m\u001b[0m\n\u001b[1;32m      9\u001b[0m     \u001b[0;32mdef\u001b[0m \u001b[0mcall\u001b[0m\u001b[0;34m(\u001b[0m\u001b[0mself\u001b[0m\u001b[0;34m)\u001b[0m\u001b[0;34m:\u001b[0m\u001b[0;34m\u001b[0m\u001b[0;34m\u001b[0m\u001b[0m\n\u001b[0;32m---> 10\u001b[0;31m         \u001b[0mX\u001b[0m\u001b[0;34m(\u001b[0m\u001b[0;34m)\u001b[0m\u001b[0;34m.\u001b[0m\u001b[0mcall\u001b[0m\u001b[0;34m(\u001b[0m\u001b[0;34m)\u001b[0m\u001b[0;34m\u001b[0m\u001b[0;34m\u001b[0m\u001b[0m\n\u001b[0m\u001b[1;32m     11\u001b[0m \u001b[0;34m\u001b[0m\u001b[0m\n\u001b[1;32m     12\u001b[0m \u001b[0mDatasets_loaders\u001b[0m\u001b[0;34m(\u001b[0m\u001b[0;34m)\u001b[0m\u001b[0;34m.\u001b[0m\u001b[0mcall\u001b[0m\u001b[0;34m(\u001b[0m\u001b[0;34m)\u001b[0m\u001b[0;34m\u001b[0m\u001b[0;34m\u001b[0m\u001b[0m\n",
      "\u001b[0;31mNameError\u001b[0m: name 'X' is not defined"
     ]
    }
   ],
   "source": [
    "class Datasets_loaders:\n",
    "    class X:\n",
    "        def call():\n",
    "            print(\"fAS\")\n",
    "    \n",
    "    def __init__(self):\n",
    "        pass\n",
    "    \n",
    "    def call(self):\n",
    "        X().call()\n",
    "    \n",
    "Datasets_loaders().call()\n",
    "    \n",
    "        "
   ]
  },
  {
   "cell_type": "code",
   "execution_count": null,
   "metadata": {},
   "outputs": [],
   "source": []
  },
  {
   "cell_type": "code",
   "execution_count": null,
   "metadata": {},
   "outputs": [],
   "source": []
  },
  {
   "cell_type": "code",
   "execution_count": 30,
   "metadata": {},
   "outputs": [],
   "source": [
    "from data.dataset import Dataset_aligned_loader"
   ]
  },
  {
   "cell_type": "code",
   "execution_count": 32,
   "metadata": {},
   "outputs": [],
   "source": [
    "dataset = Dataset_aligned_loader(['../../datasets/DukeMTMC/', '../../datasets/JTA_parsed/'], 'Train')"
   ]
  },
  {
   "cell_type": "code",
   "execution_count": 127,
   "metadata": {},
   "outputs": [
    {
     "data": {
      "text/plain": [
       "{'image': <PIL.JpegImagePlugin.JpegImageFile image mode=RGB size=97x181 at 0x7FCF57411320>,\n",
       " 'person_id': 891,\n",
       " 'camera_id': 9}"
      ]
     },
     "execution_count": 127,
     "metadata": {},
     "output_type": "execute_result"
    }
   ],
   "source": [
    "dataset[20000]"
   ]
  },
  {
   "cell_type": "code",
   "execution_count": 134,
   "metadata": {},
   "outputs": [
    {
     "name": "stdout",
     "output_type": "stream",
     "text": [
      "{'image': <PIL.JpegImagePlugin.JpegImageFile image mode=RGB size=68x131 at 0x7FCF57425EF0>, 'person_id': 891, 'camera_id': 9}\n"
     ]
    },
    {
     "data": {
      "image/png": "[encoded data removed]",
      "text/plain": [
       "<PIL.JpegImagePlugin.JpegImageFile image mode=RGB size=68x131 at 0x7FCF57425EF0>"
      ]
     },
     "execution_count": 134,
     "metadata": {},
     "output_type": "execute_result"
    }
   ],
   "source": [
    "res = dataset[dataset.get_random_class_image_idx(891, True)]\n",
    "print(res)\n",
    "res['image']"
   ]
  },
  {
   "cell_type": "code",
   "execution_count": 91,
   "metadata": {},
   "outputs": [],
   "source": [
    "import argparse"
   ]
  },
  {
   "cell_type": "code",
   "execution_count": 141,
   "metadata": {},
   "outputs": [
    {
     "ename": "ZeroDivisionError",
     "evalue": "division by zero",
     "output_type": "error",
     "traceback": [
      "\u001b[0;31m---------------------------------------------------------------------------\u001b[0m",
      "\u001b[0;31mZeroDivisionError\u001b[0m                         Traceback (most recent call last)",
      "\u001b[0;32m<ipython-input-141-1487c3f6c9db>\u001b[0m in \u001b[0;36m<module>\u001b[0;34m\u001b[0m\n\u001b[1;32m      1\u001b[0m \u001b[0;32mtry\u001b[0m\u001b[0;34m:\u001b[0m\u001b[0;34m\u001b[0m\u001b[0;34m\u001b[0m\u001b[0m\n\u001b[1;32m      2\u001b[0m     \u001b[0;32mfor\u001b[0m \u001b[0mi\u001b[0m \u001b[0;32min\u001b[0m \u001b[0mrange\u001b[0m\u001b[0;34m(\u001b[0m\u001b[0;34m-\u001b[0m\u001b[0;36m1000000\u001b[0m\u001b[0;34m,\u001b[0m \u001b[0;36m10\u001b[0m\u001b[0;34m)\u001b[0m\u001b[0;34m:\u001b[0m\u001b[0;34m\u001b[0m\u001b[0;34m\u001b[0m\u001b[0m\n\u001b[0;32m----> 3\u001b[0;31m         \u001b[0mi\u001b[0m \u001b[0;34m/\u001b[0m \u001b[0mi\u001b[0m\u001b[0;34m\u001b[0m\u001b[0;34m\u001b[0m\u001b[0m\n\u001b[0m\u001b[1;32m      4\u001b[0m \u001b[0;32mexcept\u001b[0m \u001b[0mKeyboardInterrupt\u001b[0m\u001b[0;34m:\u001b[0m\u001b[0;34m\u001b[0m\u001b[0;34m\u001b[0m\u001b[0m\n\u001b[1;32m      5\u001b[0m     \u001b[0;32mpass\u001b[0m\u001b[0;34m\u001b[0m\u001b[0;34m\u001b[0m\u001b[0m\n",
      "\u001b[0;31mZeroDivisionError\u001b[0m: division by zero"
     ]
    }
   ],
   "source": [
    "try:\n",
    "    for i in range(-1000000, 10):\n",
    "        i / i\n",
    "except KeyboardInterrupt:\n",
    "    pass\n",
    "\n",
    "print(\"Asdd\")"
   ]
  },
  {
   "cell_type": "code",
   "execution_count": 144,
   "metadata": {},
   "outputs": [
    {
     "data": {
      "text/plain": [
       "'asd 123'"
      ]
     },
     "execution_count": 144,
     "metadata": {},
     "output_type": "execute_result"
    }
   ],
   "source": [
    "\"asd {}\".format(123)"
   ]
  },
  {
   "cell_type": "code",
   "execution_count": null,
   "metadata": {},
   "outputs": [],
   "source": []
  },
  {
   "cell_type": "code",
   "execution_count": 1,
   "metadata": {},
   "outputs": [],
   "source": [
    "import torch\n",
    "from models.re_id_model import ReIDModel\n",
    "model = ReIDModel(702)"
   ]
  },
  {
   "cell_type": "code",
   "execution_count": 2,
   "metadata": {},
   "outputs": [
    {
     "ename": "RuntimeError",
     "evalue": "Error(s) in loading state_dict for ReIDModel:\n\tMissing key(s) in state_dict: \"backbone.conv1.weight\", \"backbone.bn1.weight\", \"backbone.bn1.bias\", \"backbone.bn1.running_mean\", \"backbone.bn1.running_var\", \"backbone.layer1.0.conv1.weight\", \"backbone.layer1.0.bn1.weight\", \"backbone.layer1.0.bn1.bias\", \"backbone.layer1.0.bn1.running_mean\", \"backbone.layer1.0.bn1.running_var\", \"backbone.layer1.0.convs.0.weight\", \"backbone.layer1.0.convs.1.weight\", \"backbone.layer1.0.convs.2.weight\", \"backbone.layer1.0.bns.0.weight\", \"backbone.layer1.0.bns.0.bias\", \"backbone.layer1.0.bns.0.running_mean\", \"backbone.layer1.0.bns.0.running_var\", \"backbone.layer1.0.bns.1.weight\", \"backbone.layer1.0.bns.1.bias\", \"backbone.layer1.0.bns.1.running_mean\", \"backbone.layer1.0.bns.1.running_var\", \"backbone.layer1.0.bns.2.weight\", \"backbone.layer1.0.bns.2.bias\", \"backbone.layer1.0.bns.2.running_mean\", \"backbone.layer1.0.bns.2.running_var\", \"backbone.layer1.0.conv3.weight\", \"backbone.layer1.0.bn3.weight\", \"backbone.layer1.0.bn3.bias\", \"backbone.layer1.0.bn3.running_mean\", \"backbone.layer1.0.bn3.running_var\", \"backbone.layer1.0.downsample.0.weight\", \"backbone.layer1.0.downsample.1.weight\", \"backbone.layer1.0.downsample.1.bias\", \"backbone.layer1.0.downsample.1.running_mean\", \"backbone.layer1.0.downsample.1.running_var\", \"backbone.layer1.1.conv1.weight\", \"backbone.layer1.1.bn1.weight\", \"backbone.layer1.1.bn1.bias\", \"backbone.layer1.1.bn1.running_mean\", \"backbone.layer1.1.bn1.running_var\", \"backbone.layer1.1.convs.0.weight\", \"backbone.layer1.1.convs.1.weight\", \"backbone.layer1.1.convs.2.weight\", \"backbone.layer1.1.bns.0.weight\", \"backbone.layer1.1.bns.0.bias\", \"backbone.layer1.1.bns.0.running_mean\", \"backbone.layer1.1.bns.0.running_var\", \"backbone.layer1.1.bns.1.weight\", \"backbone.layer1.1.bns.1.bias\", \"backbone.layer1.1.bns.1.running_mean\", \"backbone.layer1.1.bns.1.running_var\", \"backbone.layer1.1.bns.2.weight\", \"backbone.layer1.1.bns.2.bias\", \"backbone.layer1.1.bns.2.running_mean\", \"backbone.layer1.1.bns.2.running_var\", \"backbone.layer1.1.conv3.weight\", \"backbone.layer1.1.bn3.weight\", \"backbone.layer1.1.bn3.bias\", \"backbone.layer1.1.bn3.running_mean\", \"backbone.layer1.1.bn3.running_var\", \"backbone.layer1.2.conv1.weight\", \"backbone.layer1.2.bn1.weight\", \"backbone.layer1.2.bn1.bias\", \"backbone.layer1.2.bn1.running_mean\", \"backbone.layer1.2.bn1.running_var\", \"backbone.layer1.2.convs.0.weight\", \"backbone.layer1.2.convs.1.weight\", \"backbone.layer1.2.convs.2.weight\", \"backbone.layer1.2.bns.0.weight\", \"backbone.layer1.2.bns.0.bias\", \"backbone.layer1.2.bns.0.running_mean\", \"backbone.layer1.2.bns.0.running_var\", \"backbone.layer1.2.bns.1.weight\", \"backbone.layer1.2.bns.1.bias\", \"backbone.layer1.2.bns.1.running_mean\", \"backbone.layer1.2.bns.1.running_var\", \"backbone.layer1.2.bns.2.weight\", \"backbone.layer1.2.bns.2.bias\", \"backbone.layer1.2.bns.2.running_mean\", \"backbone.layer1.2.bns.2.running_var\", \"backbone.layer1.2.conv3.weight\", \"backbone.layer1.2.bn3.weight\", \"backbone.layer1.2.bn3.bias\", \"backbone.layer1.2.bn3.running_mean\", \"backbone.layer1.2.bn3.running_var\", \"backbone.layer2.0.conv1.weight\", \"backbone.layer2.0.bn1.weight\", \"backbone.layer2.0.bn1.bias\", \"backbone.layer2.0.bn1.running_mean\", \"backbone.layer2.0.bn1.running_var\", \"backbone.layer2.0.convs.0.weight\", \"backbone.layer2.0.convs.1.weight\", \"backbone.layer2.0.convs.2.weight\", \"backbone.layer2.0.bns.0.weight\", \"backbone.layer2.0.bns.0.bias\", \"backbone.layer2.0.bns.0.running_mean\", \"backbone.layer2.0.bns.0.running_var\", \"backbone.layer2.0.bns.1.weight\", \"backbone.layer2.0.bns.1.bias\", \"backbone.layer2.0.bns.1.running_mean\", \"backbone.layer2.0.bns.1.running_var\", \"backbone.layer2.0.bns.2.weight\", \"backbone.layer2.0.bns.2.bias\", \"backbone.layer2.0.bns.2.running_mean\", \"backbone.layer2.0.bns.2.running_var\", \"backbone.layer2.0.conv3.weight\", \"backbone.layer2.0.bn3.weight\", \"backbone.layer2.0.bn3.bias\", \"backbone.layer2.0.bn3.running_mean\", \"backbone.layer2.0.bn3.running_var\", \"backbone.layer2.0.downsample.0.weight\", \"backbone.layer2.0.downsample.1.weight\", \"backbone.layer2.0.downsample.1.bias\", \"backbone.layer2.0.downsample.1.running_mean\", \"backbone.layer2.0.downsample.1.running_var\", \"backbone.layer2.1.conv1.weight\", \"backbone.layer2.1.bn1.weight\", \"backbone.layer2.1.bn1.bias\", \"backbone.layer2.1.bn1.running_mean\", \"backbone.layer2.1.bn1.running_var\", \"backbone.layer2.1.convs.0.weight\", \"backbone.layer2.1.convs.1.weight\", \"backbone.layer2.1.convs.2.weight\", \"backbone.layer2.1.bns.0.weight\", \"backbone.layer2.1.bns.0.bias\", \"backbone.layer2.1.bns.0.running_mean\", \"backbone.layer2.1.bns.0.running_var\", \"backbone.layer2.1.bns.1.weight\", \"backbone.layer2.1.bns.1.bias\", \"backbone.layer2.1.bns.1.running_mean\", \"backbone.layer2.1.bns.1.running_var\", \"backbone.layer2.1.bns.2.weight\", \"backbone.layer2.1.bns.2.bias\", \"backbone.layer2.1.bns.2.running_mean\", \"backbone.layer2.1.bns.2.running_var\", \"backbone.layer2.1.conv3.weight\", \"backbone.layer2.1.bn3.weight\", \"backbone.layer2.1.bn3.bias\", \"backbone.layer2.1.bn3.running_mean\", \"backbone.layer2.1.bn3.running_var\", \"backbone.layer2.2.conv1.weight\", \"backbone.layer2.2.bn1.weight\", \"backbone.layer2.2.bn1.bias\", \"backbone.layer2.2.bn1.running_mean\", \"backbone.layer2.2.bn1.running_var\", \"backbone.layer2.2.convs.0.weight\", \"backbone.layer2.2.convs.1.weight\", \"backbone.layer2.2.convs.2.weight\", \"backbone.layer2.2.bns.0.weight\", \"backbone.layer2.2.bns.0.bias\", \"backbone.layer2.2.bns.0.running_mean\", \"backbone.layer2.2.bns.0.running_var\", \"backbone.layer2.2.bns.1.weight\", \"backbone.layer2.2.bns.1.bias\", \"backbone.layer2.2.bns.1.running_mean\", \"backbone.layer2.2.bns.1.running_var\", \"backbone.layer2.2.bns.2.weight\", \"backbone.layer2.2.bns.2.bias\", \"backbone.layer2.2.bns.2.running_mean\", \"backbone.layer2.2.bns.2.running_var\", \"backbone.layer2.2.conv3.weight\", \"backbone.layer2.2.bn3.weight\", \"backbone.layer2.2.bn3.bias\", \"backbone.layer2.2.bn3.running_mean\", \"backbone.layer2.2.bn3.running_var\", \"backbone.layer2.3.conv1.weight\", \"backbone.layer2.3.bn1.weight\", \"backbone.layer2.3.bn1.bias\", \"backbone.layer2.3.bn1.running_mean\", \"backbone.layer2.3.bn1.running_var\", \"backbone.layer2.3.convs.0.weight\", \"backbone.layer2.3.convs.1.weight\", \"backbone.layer2.3.convs.2.weight\", \"backbone.layer2.3.bns.0.weight\", \"backbone.layer2.3.bns.0.bias\", \"backbone.layer2.3.bns.0.running_mean\", \"backbone.layer2.3.bns.0.running_var\", \"backbone.layer2.3.bns.1.weight\", \"backbone.layer2.3.bns.1.bias\", \"backbone.layer2.3.bns.1.running_mean\", \"backbone.layer2.3.bns.1.running_var\", \"backbone.layer2.3.bns.2.weight\", \"backbone.layer2.3.bns.2.bias\", \"backbone.layer2.3.bns.2.running_mean\", \"backbone.layer2.3.bns.2.running_var\", \"backbone.layer2.3.conv3.weight\", \"backbone.layer2.3.bn3.weight\", \"backbone.layer2.3.bn3.bias\", \"backbone.layer2.3.bn3.running_mean\", \"backbone.layer2.3.bn3.running_var\", \"backbone.layer3.0.conv1.weight\", \"backbone.layer3.0.bn1.weight\", \"backbone.layer3.0.bn1.bias\", \"backbone.layer3.0.bn1.running_mean\", \"backbone.layer3.0.bn1.running_var\", \"backbone.layer3.0.convs.0.weight\", \"backbone.layer3.0.convs.1.weight\", \"backbone.layer3.0.convs.2.weight\", \"backbone.layer3.0.bns.0.weight\", \"backbone.layer3.0.bns.0.bias\", \"backbone.layer3.0.bns.0.running_mean\", \"backbone.layer3.0.bns.0.running_var\", \"backbone.layer3.0.bns.1.weight\", \"backbone.layer3.0.bns.1.bias\", \"backbone.layer3.0.bns.1.running_mean\", \"backbone.layer3.0.bns.1.running_var\", \"backbone.layer3.0.bns.2.weight\", \"backbone.layer3.0.bns.2.bias\", \"backbone.layer3.0.bns.2.running_mean\", \"backbone.layer3.0.bns.2.running_var\", \"backbone.layer3.0.conv3.weight\", \"backbone.layer3.0.bn3.weight\", \"backbone.layer3.0.bn3.bias\", \"backbone.layer3.0.bn3.running_mean\", \"backbone.layer3.0.bn3.running_var\", \"backbone.layer3.0.downsample.0.weight\", \"backbone.layer3.0.downsample.1.weight\", \"backbone.layer3.0.downsample.1.bias\", \"backbone.layer3.0.downsample.1.running_mean\", \"backbone.layer3.0.downsample.1.running_var\", \"backbone.layer3.1.conv1.weight\", \"backbone.layer3.1.bn1.weight\", \"backbone.layer3.1.bn1.bias\", \"backbone.layer3.1.bn1.running_mean\", \"backbone.layer3.1.bn1.running_var\", \"backbone.layer3.1.convs.0.weight\", \"backbone.layer3.1.convs.1.weight\", \"backbone.layer3.1.convs.2.weight\", \"backbone.layer3.1.bns.0.weight\", \"backbone.layer3.1.bns.0.bias\", \"backbone.layer3.1.bns.0.running_mean\", \"backbone.layer3.1.bns.0.running_var\", \"backbone.layer3.1.bns.1.weight\", \"backbone.layer3.1.bns.1.bias\", \"backbone.layer3.1.bns.1.running_mean\", \"backbone.layer3.1.bns.1.running_var\", \"backbone.layer3.1.bns.2.weight\", \"backbone.layer3.1.bns.2.bias\", \"backbone.layer3.1.bns.2.running_mean\", \"backbone.layer3.1.bns.2.running_var\", \"backbone.layer3.1.conv3.weight\", \"backbone.layer3.1.bn3.weight\", \"backbone.layer3.1.bn3.bias\", \"backbone.layer3.1.bn3.running_mean\", \"backbone.layer3.1.bn3.running_var\", \"backbone.layer3.2.conv1.weight\", \"backbone.layer3.2.bn1.weight\", \"backbone.layer3.2.bn1.bias\", \"backbone.layer3.2.bn1.running_mean\", \"backbone.layer3.2.bn1.running_var\", \"backbone.layer3.2.convs.0.weight\", \"backbone.layer3.2.convs.1.weight\", \"backbone.layer3.2.convs.2.weight\", \"backbone.layer3.2.bns.0.weight\", \"backbone.layer3.2.bns.0.bias\", \"backbone.layer3.2.bns.0.running_mean\", \"backbone.layer3.2.bns.0.running_var\", \"backbone.layer3.2.bns.1.weight\", \"backbone.layer3.2.bns.1.bias\", \"backbone.layer3.2.bns.1.running_mean\", \"backbone.layer3.2.bns.1.running_var\", \"backbone.layer3.2.bns.2.weight\", \"backbone.layer3.2.bns.2.bias\", \"backbone.layer3.2.bns.2.running_mean\", \"backbone.layer3.2.bns.2.running_var\", \"backbone.layer3.2.conv3.weight\", \"backbone.layer3.2.bn3.weight\", \"backbone.layer3.2.bn3.bias\", \"backbone.layer3.2.bn3.running_mean\", \"backbone.layer3.2.bn3.running_var\", \"backbone.layer3.3.conv1.weight\", \"backbone.layer3.3.bn1.weight\", \"backbone.layer3.3.bn1.bias\", \"backbone.layer3.3.bn1.running_mean\", \"backbone.layer3.3.bn1.running_var\", \"backbone.layer3.3.convs.0.weight\", \"backbone.layer3.3.convs.1.weight\", \"backbone.layer3.3.convs.2.weight\", \"backbone.layer3.3.bns.0.weight\", \"backbone.layer3.3.bns.0.bias\", \"backbone.layer3.3.bns.0.running_mean\", \"backbone.layer3.3.bns.0.running_var\", \"backbone.layer3.3.bns.1.weight\", \"backbone.layer3.3.bns.1.bias\", \"backbone.layer3.3.bns.1.running_mean\", \"backbone.layer3.3.bns.1.running_var\", \"backbone.layer3.3.bns.2.weight\", \"backbone.layer3.3.bns.2.bias\", \"backbone.layer3.3.bns.2.running_mean\", \"backbone.layer3.3.bns.2.running_var\", \"backbone.layer3.3.conv3.weight\", \"backbone.layer3.3.bn3.weight\", \"backbone.layer3.3.bn3.bias\", \"backbone.layer3.3.bn3.running_mean\", \"backbone.layer3.3.bn3.running_var\", \"backbone.layer3.4.conv1.weight\", \"backbone.layer3.4.bn1.weight\", \"backbone.layer3.4.bn1.bias\", \"backbone.layer3.4.bn1.running_mean\", \"backbone.layer3.4.bn1.running_var\", \"backbone.layer3.4.convs.0.weight\", \"backbone.layer3.4.convs.1.weight\", \"backbone.layer3.4.convs.2.weight\", \"backbone.layer3.4.bns.0.weight\", \"backbone.layer3.4.bns.0.bias\", \"backbone.layer3.4.bns.0.running_mean\", \"backbone.layer3.4.bns.0.running_var\", \"backbone.layer3.4.bns.1.weight\", \"backbone.layer3.4.bns.1.bias\", \"backbone.layer3.4.bns.1.running_mean\", \"backbone.layer3.4.bns.1.running_var\", \"backbone.layer3.4.bns.2.weight\", \"backbone.layer3.4.bns.2.bias\", \"backbone.layer3.4.bns.2.running_mean\", \"backbone.layer3.4.bns.2.running_var\", \"backbone.layer3.4.conv3.weight\", \"backbone.layer3.4.bn3.weight\", \"backbone.layer3.4.bn3.bias\", \"backbone.layer3.4.bn3.running_mean\", \"backbone.layer3.4.bn3.running_var\", \"backbone.layer3.5.conv1.weight\", \"backbone.layer3.5.bn1.weight\", \"backbone.layer3.5.bn1.bias\", \"backbone.layer3.5.bn1.running_mean\", \"backbone.layer3.5.bn1.running_var\", \"backbone.layer3.5.convs.0.weight\", \"backbone.layer3.5.convs.1.weight\", \"backbone.layer3.5.convs.2.weight\", \"backbone.layer3.5.bns.0.weight\", \"backbone.layer3.5.bns.0.bias\", \"backbone.layer3.5.bns.0.running_mean\", \"backbone.layer3.5.bns.0.running_var\", \"backbone.layer3.5.bns.1.weight\", \"backbone.layer3.5.bns.1.bias\", \"backbone.layer3.5.bns.1.running_mean\", \"backbone.layer3.5.bns.1.running_var\", \"backbone.layer3.5.bns.2.weight\", \"backbone.layer3.5.bns.2.bias\", \"backbone.layer3.5.bns.2.running_mean\", \"backbone.layer3.5.bns.2.running_var\", \"backbone.layer3.5.conv3.weight\", \"backbone.layer3.5.bn3.weight\", \"backbone.layer3.5.bn3.bias\", \"backbone.layer3.5.bn3.running_mean\", \"backbone.layer3.5.bn3.running_var\", \"backbone.layer4.0.conv1.weight\", \"backbone.layer4.0.bn1.weight\", \"backbone.layer4.0.bn1.bias\", \"backbone.layer4.0.bn1.running_mean\", \"backbone.layer4.0.bn1.running_var\", \"backbone.layer4.0.convs.0.weight\", \"backbone.layer4.0.convs.1.weight\", \"backbone.layer4.0.convs.2.weight\", \"backbone.layer4.0.bns.0.weight\", \"backbone.layer4.0.bns.0.bias\", \"backbone.layer4.0.bns.0.running_mean\", \"backbone.layer4.0.bns.0.running_var\", \"backbone.layer4.0.bns.1.weight\", \"backbone.layer4.0.bns.1.bias\", \"backbone.layer4.0.bns.1.running_mean\", \"backbone.layer4.0.bns.1.running_var\", \"backbone.layer4.0.bns.2.weight\", \"backbone.layer4.0.bns.2.bias\", \"backbone.layer4.0.bns.2.running_mean\", \"backbone.layer4.0.bns.2.running_var\", \"backbone.layer4.0.conv3.weight\", \"backbone.layer4.0.bn3.weight\", \"backbone.layer4.0.bn3.bias\", \"backbone.layer4.0.bn3.running_mean\", \"backbone.layer4.0.bn3.running_var\", \"backbone.layer4.0.downsample.0.weight\", \"backbone.layer4.0.downsample.1.weight\", \"backbone.layer4.0.downsample.1.bias\", \"backbone.layer4.0.downsample.1.running_mean\", \"backbone.layer4.0.downsample.1.running_var\", \"backbone.layer4.1.conv1.weight\", \"backbone.layer4.1.bn1.weight\", \"backbone.layer4.1.bn1.bias\", \"backbone.layer4.1.bn1.running_mean\", \"backbone.layer4.1.bn1.running_var\", \"backbone.layer4.1.convs.0.weight\", \"backbone.layer4.1.convs.1.weight\", \"backbone.layer4.1.convs.2.weight\", \"backbone.layer4.1.bns.0.weight\", \"backbone.layer4.1.bns.0.bias\", \"backbone.layer4.1.bns.0.running_mean\", \"backbone.layer4.1.bns.0.running_var\", \"backbone.layer4.1.bns.1.weight\", \"backbone.layer4.1.bns.1.bias\", \"backbone.layer4.1.bns.1.running_mean\", \"backbone.layer4.1.bns.1.running_var\", \"backbone.layer4.1.bns.2.weight\", \"backbone.layer4.1.bns.2.bias\", \"backbone.layer4.1.bns.2.running_mean\", \"backbone.layer4.1.bns.2.running_var\", \"backbone.layer4.1.conv3.weight\", \"backbone.layer4.1.bn3.weight\", \"backbone.layer4.1.bn3.bias\", \"backbone.layer4.1.bn3.running_mean\", \"backbone.layer4.1.bn3.running_var\", \"backbone.layer4.2.conv1.weight\", \"backbone.layer4.2.bn1.weight\", \"backbone.layer4.2.bn1.bias\", \"backbone.layer4.2.bn1.running_mean\", \"backbone.layer4.2.bn1.running_var\", \"backbone.layer4.2.convs.0.weight\", \"backbone.layer4.2.convs.1.weight\", \"backbone.layer4.2.convs.2.weight\", \"backbone.layer4.2.bns.0.weight\", \"backbone.layer4.2.bns.0.bias\", \"backbone.layer4.2.bns.0.running_mean\", \"backbone.layer4.2.bns.0.running_var\", \"backbone.layer4.2.bns.1.weight\", \"backbone.layer4.2.bns.1.bias\", \"backbone.layer4.2.bns.1.running_mean\", \"backbone.layer4.2.bns.1.running_var\", \"backbone.layer4.2.bns.2.weight\", \"backbone.layer4.2.bns.2.bias\", \"backbone.layer4.2.bns.2.running_mean\", \"backbone.layer4.2.bns.2.running_var\", \"backbone.layer4.2.conv3.weight\", \"backbone.layer4.2.bn3.weight\", \"backbone.layer4.2.bn3.bias\", \"backbone.layer4.2.bn3.running_mean\", \"backbone.layer4.2.bn3.running_var\", \"backbone.fc.weight\", \"backbone.fc.bias\", \"conv_ident1.weight\", \"conv_ident1.bias\", \"conv_ident2.weight\", \"conv_ident2.bias\", \"conv_verif.weight\", \"conv_verif.bias\", \"fc1.weight\", \"fc1.bias\", \"fc2.weight\", \"fc2.bias\", \"fc3.weight\", \"fc3.bias\". \n\tUnexpected key(s) in state_dict: \"module.backbone.conv1.weight\", \"module.backbone.bn1.weight\", \"module.backbone.bn1.bias\", \"module.backbone.bn1.running_mean\", \"module.backbone.bn1.running_var\", \"module.backbone.bn1.num_batches_tracked\", \"module.backbone.layer1.0.conv1.weight\", \"module.backbone.layer1.0.bn1.weight\", \"module.backbone.layer1.0.bn1.bias\", \"module.backbone.layer1.0.bn1.running_mean\", \"module.backbone.layer1.0.bn1.running_var\", \"module.backbone.layer1.0.bn1.num_batches_tracked\", \"module.backbone.layer1.0.convs.0.weight\", \"module.backbone.layer1.0.convs.1.weight\", \"module.backbone.layer1.0.convs.2.weight\", \"module.backbone.layer1.0.bns.0.weight\", \"module.backbone.layer1.0.bns.0.bias\", \"module.backbone.layer1.0.bns.0.running_mean\", \"module.backbone.layer1.0.bns.0.running_var\", \"module.backbone.layer1.0.bns.0.num_batches_tracked\", \"module.backbone.layer1.0.bns.1.weight\", \"module.backbone.layer1.0.bns.1.bias\", \"module.backbone.layer1.0.bns.1.running_mean\", \"module.backbone.layer1.0.bns.1.running_var\", \"module.backbone.layer1.0.bns.1.num_batches_tracked\", \"module.backbone.layer1.0.bns.2.weight\", \"module.backbone.layer1.0.bns.2.bias\", \"module.backbone.layer1.0.bns.2.running_mean\", \"module.backbone.layer1.0.bns.2.running_var\", \"module.backbone.layer1.0.bns.2.num_batches_tracked\", \"module.backbone.layer1.0.conv3.weight\", \"module.backbone.layer1.0.bn3.weight\", \"module.backbone.layer1.0.bn3.bias\", \"module.backbone.layer1.0.bn3.running_mean\", \"module.backbone.layer1.0.bn3.running_var\", \"module.backbone.layer1.0.bn3.num_batches_tracked\", \"module.backbone.layer1.0.downsample.0.weight\", \"module.backbone.layer1.0.downsample.1.weight\", \"module.backbone.layer1.0.downsample.1.bias\", \"module.backbone.layer1.0.downsample.1.running_mean\", \"module.backbone.layer1.0.downsample.1.running_var\", \"module.backbone.layer1.0.downsample.1.num_batches_tracked\", \"module.backbone.layer1.1.conv1.weight\", \"module.backbone.layer1.1.bn1.weight\", \"module.backbone.layer1.1.bn1.bias\", \"module.backbone.layer1.1.bn1.running_mean\", \"module.backbone.layer1.1.bn1.running_var\", \"module.backbone.layer1.1.bn1.num_batches_tracked\", \"module.backbone.layer1.1.convs.0.weight\", \"module.backbone.layer1.1.convs.1.weight\", \"module.backbone.layer1.1.convs.2.weight\", \"module.backbone.layer1.1.bns.0.weight\", \"module.backbone.layer1.1.bns.0.bias\", \"module.backbone.layer1.1.bns.0.running_mean\", \"module.backbone.layer1.1.bns.0.running_var\", \"module.backbone.layer1.1.bns.0.num_batches_tracked\", \"module.backbone.layer1.1.bns.1.weight\", \"module.backbone.layer1.1.bns.1.bias\", \"module.backbone.layer1.1.bns.1.running_mean\", \"module.backbone.layer1.1.bns.1.running_var\", \"module.backbone.layer1.1.bns.1.num_batches_tracked\", \"module.backbone.layer1.1.bns.2.weight\", \"module.backbone.layer1.1.bns.2.bias\", \"module.backbone.layer1.1.bns.2.running_mean\", \"module.backbone.layer1.1.bns.2.running_var\", \"module.backbone.layer1.1.bns.2.num_batches_tracked\", \"module.backbone.layer1.1.conv3.weight\", \"module.backbone.layer1.1.bn3.weight\", \"module.backbone.layer1.1.bn3.bias\", \"module.backbone.layer1.1.bn3.running_mean\", \"module.backbone.layer1.1.bn3.running_var\", \"module.backbone.layer1.1.bn3.num_batches_tracked\", \"module.backbone.layer1.2.conv1.weight\", \"module.backbone.layer1.2.bn1.weight\", \"module.backbone.layer1.2.bn1.bias\", \"module.backbone.layer1.2.bn1.running_mean\", \"module.backbone.layer1.2.bn1.running_var\", \"module.backbone.layer1.2.bn1.num_batches_tracked\", \"module.backbone.layer1.2.convs.0.weight\", \"module.backbone.layer1.2.convs.1.weight\", \"module.backbone.layer1.2.convs.2.weight\", \"module.backbone.layer1.2.bns.0.weight\", \"module.backbone.layer1.2.bns.0.bias\", \"module.backbone.layer1.2.bns.0.running_mean\", \"module.backbone.layer1.2.bns.0.running_var\", \"module.backbone.layer1.2.bns.0.num_batches_tracked\", \"module.backbone.layer1.2.bns.1.weight\", \"module.backbone.layer1.2.bns.1.bias\", \"module.backbone.layer1.2.bns.1.running_mean\", \"module.backbone.layer1.2.bns.1.running_var\", \"module.backbone.layer1.2.bns.1.num_batches_tracked\", \"module.backbone.layer1.2.bns.2.weight\", \"module.backbone.layer1.2.bns.2.bias\", \"module.backbone.layer1.2.bns.2.running_mean\", \"module.backbone.layer1.2.bns.2.running_var\", \"module.backbone.layer1.2.bns.2.num_batches_tracked\", \"module.backbone.layer1.2.conv3.weight\", \"module.backbone.layer1.2.bn3.weight\", \"module.backbone.layer1.2.bn3.bias\", \"module.backbone.layer1.2.bn3.running_mean\", \"module.backbone.layer1.2.bn3.running_var\", \"module.backbone.layer1.2.bn3.num_batches_tracked\", \"module.backbone.layer2.0.conv1.weight\", \"module.backbone.layer2.0.bn1.weight\", \"module.backbone.layer2.0.bn1.bias\", \"module.backbone.layer2.0.bn1.running_mean\", \"module.backbone.layer2.0.bn1.running_var\", \"module.backbone.layer2.0.bn1.num_batches_tracked\", \"module.backbone.layer2.0.convs.0.weight\", \"module.backbone.layer2.0.convs.1.weight\", \"module.backbone.layer2.0.convs.2.weight\", \"module.backbone.layer2.0.bns.0.weight\", \"module.backbone.layer2.0.bns.0.bias\", \"module.backbone.layer2.0.bns.0.running_mean\", \"module.backbone.layer2.0.bns.0.running_var\", \"module.backbone.layer2.0.bns.0.num_batches_tracked\", \"module.backbone.layer2.0.bns.1.weight\", \"module.backbone.layer2.0.bns.1.bias\", \"module.backbone.layer2.0.bns.1.running_mean\", \"module.backbone.layer2.0.bns.1.running_var\", \"module.backbone.layer2.0.bns.1.num_batches_tracked\", \"module.backbone.layer2.0.bns.2.weight\", \"module.backbone.layer2.0.bns.2.bias\", \"module.backbone.layer2.0.bns.2.running_mean\", \"module.backbone.layer2.0.bns.2.running_var\", \"module.backbone.layer2.0.bns.2.num_batches_tracked\", \"module.backbone.layer2.0.conv3.weight\", \"module.backbone.layer2.0.bn3.weight\", \"module.backbone.layer2.0.bn3.bias\", \"module.backbone.layer2.0.bn3.running_mean\", \"module.backbone.layer2.0.bn3.running_var\", \"module.backbone.layer2.0.bn3.num_batches_tracked\", \"module.backbone.layer2.0.downsample.0.weight\", \"module.backbone.layer2.0.downsample.1.weight\", \"module.backbone.layer2.0.downsample.1.bias\", \"module.backbone.layer2.0.downsample.1.running_mean\", \"module.backbone.layer2.0.downsample.1.running_var\", \"module.backbone.layer2.0.downsample.1.num_batches_tracked\", \"module.backbone.layer2.1.conv1.weight\", \"module.backbone.layer2.1.bn1.weight\", \"module.backbone.layer2.1.bn1.bias\", \"module.backbone.layer2.1.bn1.running_mean\", \"module.backbone.layer2.1.bn1.running_var\", \"module.backbone.layer2.1.bn1.num_batches_tracked\", \"module.backbone.layer2.1.convs.0.weight\", \"module.backbone.layer2.1.convs.1.weight\", \"module.backbone.layer2.1.convs.2.weight\", \"module.backbone.layer2.1.bns.0.weight\", \"module.backbone.layer2.1.bns.0.bias\", \"module.backbone.layer2.1.bns.0.running_mean\", \"module.backbone.layer2.1.bns.0.running_var\", \"module.backbone.layer2.1.bns.0.num_batches_tracked\", \"module.backbone.layer2.1.bns.1.weight\", \"module.backbone.layer2.1.bns.1.bias\", \"module.backbone.layer2.1.bns.1.running_mean\", \"module.backbone.layer2.1.bns.1.running_var\", \"module.backbone.layer2.1.bns.1.num_batches_tracked\", \"module.backbone.layer2.1.bns.2.weight\", \"module.backbone.layer2.1.bns.2.bias\", \"module.backbone.layer2.1.bns.2.running_mean\", \"module.backbone.layer2.1.bns.2.running_var\", \"module.backbone.layer2.1.bns.2.num_batches_tracked\", \"module.backbone.layer2.1.conv3.weight\", \"module.backbone.layer2.1.bn3.weight\", \"module.backbone.layer2.1.bn3.bias\", \"module.backbone.layer2.1.bn3.running_mean\", \"module.backbone.layer2.1.bn3.running_var\", \"module.backbone.layer2.1.bn3.num_batches_tracked\", \"module.backbone.layer2.2.conv1.weight\", \"module.backbone.layer2.2.bn1.weight\", \"module.backbone.layer2.2.bn1.bias\", \"module.backbone.layer2.2.bn1.running_mean\", \"module.backbone.layer2.2.bn1.running_var\", \"module.backbone.layer2.2.bn1.num_batches_tracked\", \"module.backbone.layer2.2.convs.0.weight\", \"module.backbone.layer2.2.convs.1.weight\", \"module.backbone.layer2.2.convs.2.weight\", \"module.backbone.layer2.2.bns.0.weight\", \"module.backbone.layer2.2.bns.0.bias\", \"module.backbone.layer2.2.bns.0.running_mean\", \"module.backbone.layer2.2.bns.0.running_var\", \"module.backbone.layer2.2.bns.0.num_batches_tracked\", \"module.backbone.layer2.2.bns.1.weight\", \"module.backbone.layer2.2.bns.1.bias\", \"module.backbone.layer2.2.bns.1.running_mean\", \"module.backbone.layer2.2.bns.1.running_var\", \"module.backbone.layer2.2.bns.1.num_batches_tracked\", \"module.backbone.layer2.2.bns.2.weight\", \"module.backbone.layer2.2.bns.2.bias\", \"module.backbone.layer2.2.bns.2.running_mean\", \"module.backbone.layer2.2.bns.2.running_var\", \"module.backbone.layer2.2.bns.2.num_batches_tracked\", \"module.backbone.layer2.2.conv3.weight\", \"module.backbone.layer2.2.bn3.weight\", \"module.backbone.layer2.2.bn3.bias\", \"module.backbone.layer2.2.bn3.running_mean\", \"module.backbone.layer2.2.bn3.running_var\", \"module.backbone.layer2.2.bn3.num_batches_tracked\", \"module.backbone.layer2.3.conv1.weight\", \"module.backbone.layer2.3.bn1.weight\", \"module.backbone.layer2.3.bn1.bias\", \"module.backbone.layer2.3.bn1.running_mean\", \"module.backbone.layer2.3.bn1.running_var\", \"module.backbone.layer2.3.bn1.num_batches_tracked\", \"module.backbone.layer2.3.convs.0.weight\", \"module.backbone.layer2.3.convs.1.weight\", \"module.backbone.layer2.3.convs.2.weight\", \"module.backbone.layer2.3.bns.0.weight\", \"module.backbone.layer2.3.bns.0.bias\", \"module.backbone.layer2.3.bns.0.running_mean\", \"module.backbone.layer2.3.bns.0.running_var\", \"module.backbone.layer2.3.bns.0.num_batches_tracked\", \"module.backbone.layer2.3.bns.1.weight\", \"module.backbone.layer2.3.bns.1.bias\", \"module.backbone.layer2.3.bns.1.running_mean\", \"module.backbone.layer2.3.bns.1.running_var\", \"module.backbone.layer2.3.bns.1.num_batches_tracked\", \"module.backbone.layer2.3.bns.2.weight\", \"module.backbone.layer2.3.bns.2.bias\", \"module.backbone.layer2.3.bns.2.running_mean\", \"module.backbone.layer2.3.bns.2.running_var\", \"module.backbone.layer2.3.bns.2.num_batches_tracked\", \"module.backbone.layer2.3.conv3.weight\", \"module.backbone.layer2.3.bn3.weight\", \"module.backbone.layer2.3.bn3.bias\", \"module.backbone.layer2.3.bn3.running_mean\", \"module.backbone.layer2.3.bn3.running_var\", \"module.backbone.layer2.3.bn3.num_batches_tracked\", \"module.backbone.layer3.0.conv1.weight\", \"module.backbone.layer3.0.bn1.weight\", \"module.backbone.layer3.0.bn1.bias\", \"module.backbone.layer3.0.bn1.running_mean\", \"module.backbone.layer3.0.bn1.running_var\", \"module.backbone.layer3.0.bn1.num_batches_tracked\", \"module.backbone.layer3.0.convs.0.weight\", \"module.backbone.layer3.0.convs.1.weight\", \"module.backbone.layer3.0.convs.2.weight\", \"module.backbone.layer3.0.bns.0.weight\", \"module.backbone.layer3.0.bns.0.bias\", \"module.backbone.layer3.0.bns.0.running_mean\", \"module.backbone.layer3.0.bns.0.running_var\", \"module.backbone.layer3.0.bns.0.num_batches_tracked\", \"module.backbone.layer3.0.bns.1.weight\", \"module.backbone.layer3.0.bns.1.bias\", \"module.backbone.layer3.0.bns.1.running_mean\", \"module.backbone.layer3.0.bns.1.running_var\", \"module.backbone.layer3.0.bns.1.num_batches_tracked\", \"module.backbone.layer3.0.bns.2.weight\", \"module.backbone.layer3.0.bns.2.bias\", \"module.backbone.layer3.0.bns.2.running_mean\", \"module.backbone.layer3.0.bns.2.running_var\", \"module.backbone.layer3.0.bns.2.num_batches_tracked\", \"module.backbone.layer3.0.conv3.weight\", \"module.backbone.layer3.0.bn3.weight\", \"module.backbone.layer3.0.bn3.bias\", \"module.backbone.layer3.0.bn3.running_mean\", \"module.backbone.layer3.0.bn3.running_var\", \"module.backbone.layer3.0.bn3.num_batches_tracked\", \"module.backbone.layer3.0.downsample.0.weight\", \"module.backbone.layer3.0.downsample.1.weight\", \"module.backbone.layer3.0.downsample.1.bias\", \"module.backbone.layer3.0.downsample.1.running_mean\", \"module.backbone.layer3.0.downsample.1.running_var\", \"module.backbone.layer3.0.downsample.1.num_batches_tracked\", \"module.backbone.layer3.1.conv1.weight\", \"module.backbone.layer3.1.bn1.weight\", \"module.backbone.layer3.1.bn1.bias\", \"module.backbone.layer3.1.bn1.running_mean\", \"module.backbone.layer3.1.bn1.running_var\", \"module.backbone.layer3.1.bn1.num_batches_tracked\", \"module.backbone.layer3.1.convs.0.weight\", \"module.backbone.layer3.1.convs.1.weight\", \"module.backbone.layer3.1.convs.2.weight\", \"module.backbone.layer3.1.bns.0.weight\", \"module.backbone.layer3.1.bns.0.bias\", \"module.backbone.layer3.1.bns.0.running_mean\", \"module.backbone.layer3.1.bns.0.running_var\", \"module.backbone.layer3.1.bns.0.num_batches_tracked\", \"module.backbone.layer3.1.bns.1.weight\", \"module.backbone.layer3.1.bns.1.bias\", \"module.backbone.layer3.1.bns.1.running_mean\", \"module.backbone.layer3.1.bns.1.running_var\", \"module.backbone.layer3.1.bns.1.num_batches_tracked\", \"module.backbone.layer3.1.bns.2.weight\", \"module.backbone.layer3.1.bns.2.bias\", \"module.backbone.layer3.1.bns.2.running_mean\", \"module.backbone.layer3.1.bns.2.running_var\", \"module.backbone.layer3.1.bns.2.num_batches_tracked\", \"module.backbone.layer3.1.conv3.weight\", \"module.backbone.layer3.1.bn3.weight\", \"module.backbone.layer3.1.bn3.bias\", \"module.backbone.layer3.1.bn3.running_mean\", \"module.backbone.layer3.1.bn3.running_var\", \"module.backbone.layer3.1.bn3.num_batches_tracked\", \"module.backbone.layer3.2.conv1.weight\", \"module.backbone.layer3.2.bn1.weight\", \"module.backbone.layer3.2.bn1.bias\", \"module.backbone.layer3.2.bn1.running_mean\", \"module.backbone.layer3.2.bn1.running_var\", \"module.backbone.layer3.2.bn1.num_batches_tracked\", \"module.backbone.layer3.2.convs.0.weight\", \"module.backbone.layer3.2.convs.1.weight\", \"module.backbone.layer3.2.convs.2.weight\", \"module.backbone.layer3.2.bns.0.weight\", \"module.backbone.layer3.2.bns.0.bias\", \"module.backbone.layer3.2.bns.0.running_mean\", \"module.backbone.layer3.2.bns.0.running_var\", \"module.backbone.layer3.2.bns.0.num_batches_tracked\", \"module.backbone.layer3.2.bns.1.weight\", \"module.backbone.layer3.2.bns.1.bias\", \"module.backbone.layer3.2.bns.1.running_mean\", \"module.backbone.layer3.2.bns.1.running_var\", \"module.backbone.layer3.2.bns.1.num_batches_tracked\", \"module.backbone.layer3.2.bns.2.weight\", \"module.backbone.layer3.2.bns.2.bias\", \"module.backbone.layer3.2.bns.2.running_mean\", \"module.backbone.layer3.2.bns.2.running_var\", \"module.backbone.layer3.2.bns.2.num_batches_tracked\", \"module.backbone.layer3.2.conv3.weight\", \"module.backbone.layer3.2.bn3.weight\", \"module.backbone.layer3.2.bn3.bias\", \"module.backbone.layer3.2.bn3.running_mean\", \"module.backbone.layer3.2.bn3.running_var\", \"module.backbone.layer3.2.bn3.num_batches_tracked\", \"module.backbone.layer3.3.conv1.weight\", \"module.backbone.layer3.3.bn1.weight\", \"module.backbone.layer3.3.bn1.bias\", \"module.backbone.layer3.3.bn1.running_mean\", \"module.backbone.layer3.3.bn1.running_var\", \"module.backbone.layer3.3.bn1.num_batches_tracked\", \"module.backbone.layer3.3.convs.0.weight\", \"module.backbone.layer3.3.convs.1.weight\", \"module.backbone.layer3.3.convs.2.weight\", \"module.backbone.layer3.3.bns.0.weight\", \"module.backbone.layer3.3.bns.0.bias\", \"module.backbone.layer3.3.bns.0.running_mean\", \"module.backbone.layer3.3.bns.0.running_var\", \"module.backbone.layer3.3.bns.0.num_batches_tracked\", \"module.backbone.layer3.3.bns.1.weight\", \"module.backbone.layer3.3.bns.1.bias\", \"module.backbone.layer3.3.bns.1.running_mean\", \"module.backbone.layer3.3.bns.1.running_var\", \"module.backbone.layer3.3.bns.1.num_batches_tracked\", \"module.backbone.layer3.3.bns.2.weight\", \"module.backbone.layer3.3.bns.2.bias\", \"module.backbone.layer3.3.bns.2.running_mean\", \"module.backbone.layer3.3.bns.2.running_var\", \"module.backbone.layer3.3.bns.2.num_batches_tracked\", \"module.backbone.layer3.3.conv3.weight\", \"module.backbone.layer3.3.bn3.weight\", \"module.backbone.layer3.3.bn3.bias\", \"module.backbone.layer3.3.bn3.running_mean\", \"module.backbone.layer3.3.bn3.running_var\", \"module.backbone.layer3.3.bn3.num_batches_tracked\", \"module.backbone.layer3.4.conv1.weight\", \"module.backbone.layer3.4.bn1.weight\", \"module.backbone.layer3.4.bn1.bias\", \"module.backbone.layer3.4.bn1.running_mean\", \"module.backbone.layer3.4.bn1.running_var\", \"module.backbone.layer3.4.bn1.num_batches_tracked\", \"module.backbone.layer3.4.convs.0.weight\", \"module.backbone.layer3.4.convs.1.weight\", \"module.backbone.layer3.4.convs.2.weight\", \"module.backbone.layer3.4.bns.0.weight\", \"module.backbone.layer3.4.bns.0.bias\", \"module.backbone.layer3.4.bns.0.running_mean\", \"module.backbone.layer3.4.bns.0.running_var\", \"module.backbone.layer3.4.bns.0.num_batches_tracked\", \"module.backbone.layer3.4.bns.1.weight\", \"module.backbone.layer3.4.bns.1.bias\", \"module.backbone.layer3.4.bns.1.running_mean\", \"module.backbone.layer3.4.bns.1.running_var\", \"module.backbone.layer3.4.bns.1.num_batches_tracked\", \"module.backbone.layer3.4.bns.2.weight\", \"module.backbone.layer3.4.bns.2.bias\", \"module.backbone.layer3.4.bns.2.running_mean\", \"module.backbone.layer3.4.bns.2.running_var\", \"module.backbone.layer3.4.bns.2.num_batches_tracked\", \"module.backbone.layer3.4.conv3.weight\", \"module.backbone.layer3.4.bn3.weight\", \"module.backbone.layer3.4.bn3.bias\", \"module.backbone.layer3.4.bn3.running_mean\", \"module.backbone.layer3.4.bn3.running_var\", \"module.backbone.layer3.4.bn3.num_batches_tracked\", \"module.backbone.layer3.5.conv1.weight\", \"module.backbone.layer3.5.bn1.weight\", \"module.backbone.layer3.5.bn1.bias\", \"module.backbone.layer3.5.bn1.running_mean\", \"module.backbone.layer3.5.bn1.running_var\", \"module.backbone.layer3.5.bn1.num_batches_tracked\", \"module.backbone.layer3.5.convs.0.weight\", \"module.backbone.layer3.5.convs.1.weight\", \"module.backbone.layer3.5.convs.2.weight\", \"module.backbone.layer3.5.bns.0.weight\", \"module.backbone.layer3.5.bns.0.bias\", \"module.backbone.layer3.5.bns.0.running_mean\", \"module.backbone.layer3.5.bns.0.running_var\", \"module.backbone.layer3.5.bns.0.num_batches_tracked\", \"module.backbone.layer3.5.bns.1.weight\", \"module.backbone.layer3.5.bns.1.bias\", \"module.backbone.layer3.5.bns.1.running_mean\", \"module.backbone.layer3.5.bns.1.running_var\", \"module.backbone.layer3.5.bns.1.num_batches_tracked\", \"module.backbone.layer3.5.bns.2.weight\", \"module.backbone.layer3.5.bns.2.bias\", \"module.backbone.layer3.5.bns.2.running_mean\", \"module.backbone.layer3.5.bns.2.running_var\", \"module.backbone.layer3.5.bns.2.num_batches_tracked\", \"module.backbone.layer3.5.conv3.weight\", \"module.backbone.layer3.5.bn3.weight\", \"module.backbone.layer3.5.bn3.bias\", \"module.backbone.layer3.5.bn3.running_mean\", \"module.backbone.layer3.5.bn3.running_var\", \"module.backbone.layer3.5.bn3.num_batches_tracked\", \"module.backbone.layer4.0.conv1.weight\", \"module.backbone.layer4.0.bn1.weight\", \"module.backbone.layer4.0.bn1.bias\", \"module.backbone.layer4.0.bn1.running_mean\", \"module.backbone.layer4.0.bn1.running_var\", \"module.backbone.layer4.0.bn1.num_batches_tracked\", \"module.backbone.layer4.0.convs.0.weight\", \"module.backbone.layer4.0.convs.1.weight\", \"module.backbone.layer4.0.convs.2.weight\", \"module.backbone.layer4.0.bns.0.weight\", \"module.backbone.layer4.0.bns.0.bias\", \"module.backbone.layer4.0.bns.0.running_mean\", \"module.backbone.layer4.0.bns.0.running_var\", \"module.backbone.layer4.0.bns.0.num_batches_tracked\", \"module.backbone.layer4.0.bns.1.weight\", \"module.backbone.layer4.0.bns.1.bias\", \"module.backbone.layer4.0.bns.1.running_mean\", \"module.backbone.layer4.0.bns.1.running_var\", \"module.backbone.layer4.0.bns.1.num_batches_tracked\", \"module.backbone.layer4.0.bns.2.weight\", \"module.backbone.layer4.0.bns.2.bias\", \"module.backbone.layer4.0.bns.2.running_mean\", \"module.backbone.layer4.0.bns.2.running_var\", \"module.backbone.layer4.0.bns.2.num_batches_tracked\", \"module.backbone.layer4.0.conv3.weight\", \"module.backbone.layer4.0.bn3.weight\", \"module.backbone.layer4.0.bn3.bias\", \"module.backbone.layer4.0.bn3.running_mean\", \"module.backbone.layer4.0.bn3.running_var\", \"module.backbone.layer4.0.bn3.num_batches_tracked\", \"module.backbone.layer4.0.downsample.0.weight\", \"module.backbone.layer4.0.downsample.1.weight\", \"module.backbone.layer4.0.downsample.1.bias\", \"module.backbone.layer4.0.downsample.1.running_mean\", \"module.backbone.layer4.0.downsample.1.running_var\", \"module.backbone.layer4.0.downsample.1.num_batches_tracked\", \"module.backbone.layer4.1.conv1.weight\", \"module.backbone.layer4.1.bn1.weight\", \"module.backbone.layer4.1.bn1.bias\", \"module.backbone.layer4.1.bn1.running_mean\", \"module.backbone.layer4.1.bn1.running_var\", \"module.backbone.layer4.1.bn1.num_batches_tracked\", \"module.backbone.layer4.1.convs.0.weight\", \"module.backbone.layer4.1.convs.1.weight\", \"module.backbone.layer4.1.convs.2.weight\", \"module.backbone.layer4.1.bns.0.weight\", \"module.backbone.layer4.1.bns.0.bias\", \"module.backbone.layer4.1.bns.0.running_mean\", \"module.backbone.layer4.1.bns.0.running_var\", \"module.backbone.layer4.1.bns.0.num_batches_tracked\", \"module.backbone.layer4.1.bns.1.weight\", \"module.backbone.layer4.1.bns.1.bias\", \"module.backbone.layer4.1.bns.1.running_mean\", \"module.backbone.layer4.1.bns.1.running_var\", \"module.backbone.layer4.1.bns.1.num_batches_tracked\", \"module.backbone.layer4.1.bns.2.weight\", \"module.backbone.layer4.1.bns.2.bias\", \"module.backbone.layer4.1.bns.2.running_mean\", \"module.backbone.layer4.1.bns.2.running_var\", \"module.backbone.layer4.1.bns.2.num_batches_tracked\", \"module.backbone.layer4.1.conv3.weight\", \"module.backbone.layer4.1.bn3.weight\", \"module.backbone.layer4.1.bn3.bias\", \"module.backbone.layer4.1.bn3.running_mean\", \"module.backbone.layer4.1.bn3.running_var\", \"module.backbone.layer4.1.bn3.num_batches_tracked\", \"module.backbone.layer4.2.conv1.weight\", \"module.backbone.layer4.2.bn1.weight\", \"module.backbone.layer4.2.bn1.bias\", \"module.backbone.layer4.2.bn1.running_mean\", \"module.backbone.layer4.2.bn1.running_var\", \"module.backbone.layer4.2.bn1.num_batches_tracked\", \"module.backbone.layer4.2.convs.0.weight\", \"module.backbone.layer4.2.convs.1.weight\", \"module.backbone.layer4.2.convs.2.weight\", \"module.backbone.layer4.2.bns.0.weight\", \"module.backbone.layer4.2.bns.0.bias\", \"module.backbone.layer4.2.bns.0.running_mean\", \"module.backbone.layer4.2.bns.0.running_var\", \"module.backbone.layer4.2.bns.0.num_batches_tracked\", \"module.backbone.layer4.2.bns.1.weight\", \"module.backbone.layer4.2.bns.1.bias\", \"module.backbone.layer4.2.bns.1.running_mean\", \"module.backbone.layer4.2.bns.1.running_var\", \"module.backbone.layer4.2.bns.1.num_batches_tracked\", \"module.backbone.layer4.2.bns.2.weight\", \"module.backbone.layer4.2.bns.2.bias\", \"module.backbone.layer4.2.bns.2.running_mean\", \"module.backbone.layer4.2.bns.2.running_var\", \"module.backbone.layer4.2.bns.2.num_batches_tracked\", \"module.backbone.layer4.2.conv3.weight\", \"module.backbone.layer4.2.bn3.weight\", \"module.backbone.layer4.2.bn3.bias\", \"module.backbone.layer4.2.bn3.running_mean\", \"module.backbone.layer4.2.bn3.running_var\", \"module.backbone.layer4.2.bn3.num_batches_tracked\", \"module.backbone.fc.weight\", \"module.backbone.fc.bias\", \"module.conv_ident1.weight\", \"module.conv_ident1.bias\", \"module.conv_ident2.weight\", \"module.conv_ident2.bias\", \"module.conv_verif.weight\", \"module.conv_verif.bias\", \"module.fc1.weight\", \"module.fc1.bias\", \"module.fc2.weight\", \"module.fc2.bias\", \"module.fc3.weight\", \"module.fc3.bias\". ",
     "output_type": "error",
     "traceback": [
      "\u001b[0;31m---------------------------------------------------------------------------\u001b[0m",
      "\u001b[0;31mRuntimeError\u001b[0m                              Traceback (most recent call last)",
      "\u001b[0;32m<ipython-input-2-b26497e5bcbf>\u001b[0m in \u001b[0;36m<module>\u001b[0;34m\u001b[0m\n\u001b[0;32m----> 1\u001b[0;31m \u001b[0mmodel\u001b[0m\u001b[0;34m.\u001b[0m\u001b[0mload_state_dict\u001b[0m\u001b[0;34m(\u001b[0m\u001b[0mtorch\u001b[0m\u001b[0;34m.\u001b[0m\u001b[0mload\u001b[0m\u001b[0;34m(\u001b[0m\u001b[0;34m\"../../re-id-res2net_duke_shared_conv_87_71.pth\"\u001b[0m\u001b[0;34m)\u001b[0m\u001b[0;34m)\u001b[0m\u001b[0;34m\u001b[0m\u001b[0;34m\u001b[0m\u001b[0m\n\u001b[0m",
      "\u001b[0;32m~/.virtualenvs/torch/lib/python3.6/site-packages/torch/nn/modules/module.py\u001b[0m in \u001b[0;36mload_state_dict\u001b[0;34m(self, state_dict, strict)\u001b[0m\n\u001b[1;32m   1043\u001b[0m         \u001b[0;32mif\u001b[0m \u001b[0mlen\u001b[0m\u001b[0;34m(\u001b[0m\u001b[0merror_msgs\u001b[0m\u001b[0;34m)\u001b[0m \u001b[0;34m>\u001b[0m \u001b[0;36m0\u001b[0m\u001b[0;34m:\u001b[0m\u001b[0;34m\u001b[0m\u001b[0;34m\u001b[0m\u001b[0m\n\u001b[1;32m   1044\u001b[0m             raise RuntimeError('Error(s) in loading state_dict for {}:\\n\\t{}'.format(\n\u001b[0;32m-> 1045\u001b[0;31m                                self.__class__.__name__, \"\\n\\t\".join(error_msgs)))\n\u001b[0m\u001b[1;32m   1046\u001b[0m         \u001b[0;32mreturn\u001b[0m \u001b[0m_IncompatibleKeys\u001b[0m\u001b[0;34m(\u001b[0m\u001b[0mmissing_keys\u001b[0m\u001b[0;34m,\u001b[0m \u001b[0munexpected_keys\u001b[0m\u001b[0;34m)\u001b[0m\u001b[0;34m\u001b[0m\u001b[0;34m\u001b[0m\u001b[0m\n\u001b[1;32m   1047\u001b[0m \u001b[0;34m\u001b[0m\u001b[0m\n",
      "\u001b[0;31mRuntimeError\u001b[0m: Error(s) in loading state_dict for ReIDModel:\n\tMissing key(s) in state_dict: \"backbone.conv1.weight\", \"backbone.bn1.weight\", \"backbone.bn1.bias\", \"backbone.bn1.running_mean\", \"backbone.bn1.running_var\", \"backbone.layer1.0.conv1.weight\", \"backbone.layer1.0.bn1.weight\", \"backbone.layer1.0.bn1.bias\", \"backbone.layer1.0.bn1.running_mean\", \"backbone.layer1.0.bn1.running_var\", \"backbone.layer1.0.convs.0.weight\", \"backbone.layer1.0.convs.1.weight\", \"backbone.layer1.0.convs.2.weight\", \"backbone.layer1.0.bns.0.weight\", \"backbone.layer1.0.bns.0.bias\", \"backbone.layer1.0.bns.0.running_mean\", \"backbone.layer1.0.bns.0.running_var\", \"backbone.layer1.0.bns.1.weight\", \"backbone.layer1.0.bns.1.bias\", \"backbone.layer1.0.bns.1.running_mean\", \"backbone.layer1.0.bns.1.running_var\", \"backbone.layer1.0.bns.2.weight\", \"backbone.layer1.0.bns.2.bias\", \"backbone.layer1.0.bns.2.running_mean\", \"backbone.layer1.0.bns.2.running_var\", \"backbone.layer1.0.conv3.weight\", \"backbone.layer1.0.bn3.weight\", \"backbone.layer1.0.bn3.bias\", \"backbone.layer1.0.bn3.running_mean\", \"backbone.layer1.0.bn3.running_var\", \"backbone.layer1.0.downsample.0.weight\", \"backbone.layer1.0.downsample.1.weight\", \"backbone.layer1.0.downsample.1.bias\", \"backbone.layer1.0.downsample.1.running_mean\", \"backbone.layer1.0.downsample.1.running_var\", \"backbone.layer1.1.conv1.weight\", \"backbone.layer1.1.bn1.weight\", \"backbone.layer1.1.bn1.bias\", \"backbone.layer1.1.bn1.running_mean\", \"backbone.layer1.1.bn1.running_var\", \"backbone.layer1.1.convs.0.weight\", \"backbone.layer1.1.convs.1.weight\", \"backbone.layer1.1.convs.2.weight\", \"backbone.layer1.1.bns.0.weight\", \"backbone.layer1.1.bns.0.bias\", \"backbone.layer1.1.bns.0.running_mean\", \"backbone.layer1.1.bns.0.running_var\", \"backbone.layer1.1.bns.1.weight\", \"backbone.layer1.1.bns.1.bias\", \"backbone.layer1.1.bns.1.running_mean\", \"backbone.layer1.1.bns.1.running_var\", \"backbone.layer1.1.bns.2.weight\", \"backbone.layer1.1.bns.2.bias\", \"backbone.layer1.1.bns.2.running_mean\", \"backbone.layer1.1.bns.2.running_var\", \"backbone.layer1.1.conv3.weight\", \"backbone.layer1.1.bn3.weight\", \"backbone.layer1.1.bn3.bias\", \"backbone.layer1.1.bn3.running_mean\", \"backbone.layer1.1.bn3.running_var\", \"backbone.layer1.2.conv1.weight\", \"backbone.layer1.2.bn1.weight\", \"backbone.layer1.2.bn1.bias\", \"backbone.layer1.2.bn1.running_mean\", \"backbone.layer1.2.bn1.running_var\", \"backbone.layer1.2.convs.0.weight\", \"backbone.layer1.2.convs.1.weight\", \"backbone.layer1.2.convs.2.weight\", \"backbone.layer1.2.bns.0.weight\", \"backbone.layer1.2.bns.0.bias\", \"backbone.layer1.2.bns.0.running_mean\", \"backbone.layer1.2.bns.0.running_var\", \"backbone.layer1.2.bns.1.weight\", \"backbone.layer1.2.bns.1.bias\", \"backbone.layer1.2.bns.1.running_mean\", \"backbone.layer1.2.bns.1.running_var\", \"backbone.layer1.2.bns.2.weight\", \"backbone.layer1.2.bns.2.bias\", \"backbone.layer1.2.bns.2.running_mean\", \"backbone.layer1.2.bns.2.running_var\", \"backbone.layer1.2.conv3.weight\", \"backbone.layer1.2.bn3.weight\", \"backbone.layer1.2.bn3.bias\", \"backbone.layer1.2.bn3.running_mean\", \"backbone.layer1.2.bn3.running_var\", \"backbone.layer2.0.conv1.weight\", \"backbone.layer2.0.bn1.weight\", \"backbone.layer2.0.bn1.bias\", \"backbone.layer2.0.bn1.running_mean\", \"backbone.layer2.0.bn1.running_var\", \"backbone.layer2.0.convs.0.weight\", \"backbone.layer2.0.convs.1.weight\", \"backbone.layer2.0.convs.2.weight\", \"backbone.layer2.0.bns.0.weight\", \"backbone.layer2.0.bns.0.bias\", \"backbone.layer2.0.bns.0.running_mean\", \"backbone.layer2.0.bns.0.running_var\", \"backbone.layer2.0.bns.1.weight\", \"backbone.layer2.0.bns.1.bias\", \"backbone.layer2.0.bns.1.running_mean\", \"backbone.layer2.0.bns.1.running_var\", \"backbone.layer2.0.bns.2.weight\", \"backbone.layer2.0.bns.2.bias\", \"backbone.layer2.0.bns.2.running_mean\", \"backbone.layer2.0.bns.2.running_var\", \"backbone.layer2.0.conv3.weight\", \"backbone.layer2.0.bn3.weight\", \"backbone.layer2.0.bn3.bias\", \"backbone.layer2.0.bn3.running_mean\", \"backbone.layer2.0.bn3.running_var\", \"backbone.layer2.0.downsample.0.weight\", \"backbone.layer2.0.downsample.1.weight\", \"backbone.layer2.0.downsample.1.bias\", \"backbone.layer2.0.downsample.1.running_mean\", \"backbone.layer2.0.downsample.1.running_var\", \"backbone.layer2.1.conv1.weight\", \"backbone.layer2.1.bn1.weight\", \"backbone.layer2.1.bn1.bias\", \"backbone.layer2.1.bn1.running_mean\", \"backbone.layer2.1.bn1.running_var\", \"backbone.layer2.1.convs.0.weight\", \"backbone.layer2.1.convs.1.weight\", \"backbone.layer2.1.convs.2.weight\", \"backbone.layer2.1.bns.0.weight\", \"backbone.layer2.1.bns.0.bias\", \"backbone.layer2.1.bns.0.running_mean\", \"backbone.layer2.1.bns.0.running_var\", \"backbone.layer2.1.bns.1.weight\", \"backbone.layer2.1.bns.1.bias\", \"backbone.layer2.1.bns.1.running_mean\", \"backbone.layer2.1.bns.1.running_var\", \"backbone.layer2.1.bns.2.weight\", \"backbone.layer2.1.bns.2.bias\", \"backbone.layer2.1.bns.2.running_mean\", \"backbone.layer2.1.bns.2.running_var\", \"backbone.layer2.1.conv3.weight\", \"backbone.layer2.1.bn3.weight\", \"backbone.layer2.1.bn3.bias\", \"backbone.layer2.1.bn3.running_mean\", \"backbone.layer2.1.bn3.running_var\", \"backbone.layer2.2.conv1.weight\", \"backbone.layer2.2.bn1.weight\", \"backbone.layer2.2.bn1.bias\", \"backbone.layer2.2.bn1.running_mean\", \"backbone.layer2.2.bn1.running_var\", \"backbone.layer2.2.convs.0.weight\", \"backbone.layer2.2.convs.1.weight\", \"backbone.layer2.2.convs.2.weight\", \"backbone.layer2.2.bns.0.weight\", \"backbone.layer2.2.bns.0.bias\", \"backbone.layer2.2.bns.0.running_mean\", \"backbone.layer2.2.bns.0.running_var\", \"backbone.layer2.2.bns.1.weight\", \"backbone.layer2.2.bns.1.bias\", \"backbone.layer2.2.bns.1.running_mean\", \"backbone.layer2.2.bns.1.running_var\", \"backbone.layer2.2.bns.2.weight\", \"backbone.layer2.2.bns.2.bias\", \"backbone.layer2.2.bns.2.running_mean\", \"backbone.layer2.2.bns.2.running_var\", \"backbone.layer2.2.conv3.weight\", \"backbone.layer2.2.bn3.weight\", \"backbone.layer2.2.bn3.bias\", \"backbone.layer2.2.bn3.running_mean\", \"backbone.layer2.2.bn3.running_var\", \"backbone.layer2.3.conv1.weight\", \"backbone.layer2.3.bn1.weight\", \"backbone.layer2.3.bn1.bias\", \"backbone.layer2.3.bn1.running_mean\", \"backbone.layer2.3.bn1.running_var\", \"backbone.layer2.3.convs.0.weight\", \"backbone.layer2.3.convs.1.weight\", \"backbone.layer2.3.convs.2.weight\", \"backbone.layer2.3.bns.0.weight\", \"backbone.layer2.3.bns.0.bias\", \"backbone.layer2.3.bns.0.running_mean\", \"backbone.layer2.3.bns.0.running_var\", \"backbone.layer2.3.bns.1.weight\", \"backbone.layer2.3.bns.1.bias\", \"backbone.layer2.3.bns.1.running_mean\", \"backbone.layer2.3.bns.1.running_var\", \"backbone.layer2.3.bns.2.weight\", \"backbone.layer2.3.bns.2.bias\", \"backbone.layer2.3.bns.2.running_mean\", \"backbone.layer2.3.bns.2.running_var\", \"backbone.layer2.3.conv3.weight\", \"backbone.layer2.3.bn3.weight\", \"backbone.layer2.3.bn3.bias\", \"backbone.layer2.3.bn3.running_mean\", \"backbone.layer2.3.bn3.running_var\", \"backbone.layer3.0.conv1.weight\", \"backbone.layer3.0.bn1.weight\", \"backbone.layer3.0.bn1.bias\", \"backbone.layer3.0.bn1.running_mean\", \"backbone.layer3.0.bn1.running_var\", \"backbone.layer3.0.convs.0.weight\", \"backbone.layer3.0.convs.1.weight\", \"backbone.layer3.0.convs.2.weight\", \"backbone.layer3.0.bns.0.weight\", \"backbone.layer3.0.bns.0.bias\", \"backbone.layer3.0.bns.0.running_mean\", \"backbone.layer3.0.bns.0.running_var\", \"backbone.layer3.0.bns.1.weight\", \"backbone.layer3.0.bns.1.bias\", \"backbone.layer3.0.bns.1.running_mean\", \"backbone.layer3.0.bns.1.running_var\", \"backbone.layer3.0.bns.2.weight\", \"backbone.layer3.0.bns.2.bias\", \"backbone.layer3.0.bns.2.running_mean\", \"backbone.layer3.0.bns.2.running_var\", \"backbone.layer3.0.conv3.weight\", \"backbone.layer3.0.bn3.weight\", \"backbone.layer3.0.bn3.bias\", \"backbone.layer3.0.bn3.running_mean\", \"backbone.layer3.0.bn3.running_var\", \"backbone.layer3.0.downsample.0.weight\", \"backbone.layer3.0.downsample.1.weight\", \"backbone.layer3.0.downsample.1.bias\", \"backbone.layer3.0.downsample.1.running_mean\", \"backbone.layer3.0.downsample.1.running_var\", \"backbone.layer3.1.conv1.weight\", \"backbone.layer3.1.bn1.weight\", \"backbone.layer3.1.bn1.bias\", \"backbone.layer3.1.bn1.running_mean\", \"backbone.layer3.1.bn1.running_var\", \"backbone.layer3.1.convs.0.weight\", \"backbone.layer3.1.convs.1.weight\", \"backbone.layer3.1.convs.2.weight\", \"backbone.layer3.1.bns.0.weight\", \"backbone.layer3.1.bns.0.bias\", \"backbone.layer3.1.bns.0.running_mean\", \"backbone.layer3.1.bns.0.running_var\", \"backbone.layer3.1.bns.1.weight\", \"backbone.layer3.1.bns.1.bias\", \"backbone.layer3.1.bns.1.running_mean\", \"backbone.layer3.1.bns.1.running_var\", \"backbone.layer3.1.bns.2.weight\", \"backbone.layer3.1.bns.2.bias\", \"backbone.layer3.1.bns.2.running_mean\", \"backbone.layer3.1.bns.2.running_var\", \"backbone.layer3.1.conv3.weight\", \"backbone.layer3.1.bn3.weight\", \"backbone.layer3.1.bn3.bias\", \"backbone.layer3.1.bn3.running_mean\", \"backbone.layer3.1.bn3.running_var\", \"backbone.layer3.2.conv1.weight\", \"backbone.layer3.2.bn1.weight\", \"backbone.layer3.2.bn1.bias\", \"backbone.layer3.2.bn1.running_mean\", \"backbone.layer3.2.bn1.running_var\", \"backbone.layer3.2.convs.0.weight\", \"backbone.layer3.2.convs.1.weight\", \"backbone.layer3.2.convs.2.weight\", \"backbone.layer3.2.bns.0.weight\", \"backbone.layer3.2.bns.0.bias\", \"backbone.layer3.2.bns.0.running_mean\", \"backbone.layer3.2.bns.0.running_var\", \"backbone.layer3.2.bns.1.weight\", \"backbone.layer3.2.bns.1.bias\", \"backbone.layer3.2.bns.1.running_mean\", \"backbone.layer3.2.bns.1.running_var\", \"backbone.layer3.2.bns.2.weight\", \"backbone.layer3.2.bns.2.bias\", \"backbone.layer3.2.bns.2.running_mean\", \"backbone.layer3.2.bns.2.running_var\", \"backbone.layer3.2.conv3.weight\", \"backbone.layer3.2.bn3.weight\", \"backbone.layer3.2.bn3.bias\", \"backbone.layer3.2.bn3.running_mean\", \"backbone.layer3.2.bn3.running_var\", \"backbone.layer3.3.conv1.weight\", \"backbone.layer3.3.bn1.weight\", \"backbone.layer3.3.bn1.bias\", \"backbone.layer3.3.bn1.running_mean\", \"backbone.layer3.3.bn1.running_var\", \"backbone.layer3.3.convs.0.weight\", \"backbone.layer3.3.convs.1.weight\", \"backbone.layer3.3.convs.2.weight\", \"backbone.layer3.3.bns.0.weight\", \"backbone.layer3.3.bns.0.bias\", \"backbone.layer3.3.bns.0.running_mean\", \"backbone.layer3.3.bns.0.running_var\", \"backbone.layer3.3.bns.1.weight\", \"backbone.layer3.3.bns.1.bias\", \"backbone.layer3.3.bns.1.running_mean\", \"backbone.layer3.3.bns.1.running_var\", \"backbone.layer3.3.bns.2.weight\", \"backbone.layer3.3.bns.2.bias\", \"backbone.layer3.3.bns.2.running_mean\", \"backbone.layer3.3.bns.2.running_var\", \"backbone.layer3.3.conv3.weight\", \"backbone.layer3.3.bn3.weight\", \"backbone.layer3.3.bn3.bias\", \"backbone.layer3.3.bn3.running_mean\", \"backbone.layer3.3.bn3.running_var\", \"backbone.layer3.4.conv1.weight\", \"backbone.layer3.4.bn1.weight\", \"backbone.layer3.4.bn1.bias\", \"backbone.layer3.4.bn1.running_mean\", \"backbone.layer3.4.bn1.running_var\", \"backbone.layer3.4.convs.0.weight\", \"backbone.layer3.4.convs.1.weight\", \"backbone.layer3.4.convs.2.weight\", \"backbone.layer3.4.bns.0.weight\", \"backbone.layer3.4.bns.0.bias\", \"backbone.layer3.4.bns.0.running_mean\", \"backbone.layer3.4.bns.0.running_var\", \"backbone.layer3.4.bns.1.weight\", \"backbone.layer3.4.bns.1.bias\", \"backbone.layer3.4.bns.1.running_mean\", \"backbone.layer3.4.bns.1.running_var\", \"backbone.layer3.4.bns.2.weight\", \"backbone.layer3.4.bns.2.bias\", \"backbone.layer3.4.bns.2.running_mean\", \"backbone.layer3.4.bns.2.running_var\", \"backbone.layer3.4.conv3.weight\", \"backbone.layer3.4.bn3.weight\", \"backbone.layer3.4.bn3.bias\", \"backbone.layer3.4.bn3.running_mean\", \"backbone.layer3.4.bn3.running_var\", \"backbone.layer3.5.conv1.weight\", \"backbone.layer3.5.bn1.weight\", \"backbone.layer3.5.bn1.bias\", \"backbone.layer3.5.bn1.running_mean\", \"backbone.layer3.5.bn1.running_var\", \"backbone.layer3.5.convs.0.weight\", \"backbone.layer3.5.convs.1.weight\", \"backbone.layer3.5.convs.2.weight\", \"backbone.layer3.5.bns.0.weight\", \"backbone.layer3.5.bns.0.bias\", \"backbone.layer3.5.bns.0.running_mean\", \"backbone.layer3.5.bns.0.running_var\", \"backbone.layer3.5.bns.1.weight\", \"backbone.layer3.5.bns.1.bias\", \"backbone.layer3.5.bns.1.running_mean\", \"backbone.layer3.5.bns.1.running_var\", \"backbone.layer3.5.bns.2.weight\", \"backbone.layer3.5.bns.2.bias\", \"backbone.layer3.5.bns.2.running_mean\", \"backbone.layer3.5.bns.2.running_var\", \"backbone.layer3.5.conv3.weight\", \"backbone.layer3.5.bn3.weight\", \"backbone.layer3.5.bn3.bias\", \"backbone.layer3.5.bn3.running_mean\", \"backbone.layer3.5.bn3.running_var\", \"backbone.layer4.0.conv1.weight\", \"backbone.layer4.0.bn1.weight\", \"backbone.layer4.0.bn1.bias\", \"backbone.layer4.0.bn1.running_mean\", \"backbone.layer4.0.bn1.running_var\", \"backbone.layer4.0.convs.0.weight\", \"backbone.layer4.0.convs.1.weight\", \"backbone.layer4.0.convs.2.weight\", \"backbone.layer4.0.bns.0.weight\", \"backbone.layer4.0.bns.0.bias\", \"backbone.layer4.0.bns.0.running_mean\", \"backbone.layer4.0.bns.0.running_var\", \"backbone.layer4.0.bns.1.weight\", \"backbone.layer4.0.bns.1.bias\", \"backbone.layer4.0.bns.1.running_mean\", \"backbone.layer4.0.bns.1.running_var\", \"backbone.layer4.0.bns.2.weight\", \"backbone.layer4.0.bns.2.bias\", \"backbone.layer4.0.bns.2.running_mean\", \"backbone.layer4.0.bns.2.running_var\", \"backbone.layer4.0.conv3.weight\", \"backbone.layer4.0.bn3.weight\", \"backbone.layer4.0.bn3.bias\", \"backbone.layer4.0.bn3.running_mean\", \"backbone.layer4.0.bn3.running_var\", \"backbone.layer4.0.downsample.0.weight\", \"backbone.layer4.0.downsample.1.weight\", \"backbone.layer4.0.downsample.1.bias\", \"backbone.layer4.0.downsample.1.running_mean\", \"backbone.layer4.0.downsample.1.running_var\", \"backbone.layer4.1.conv1.weight\", \"backbone.layer4.1.bn1.weight\", \"backbone.layer4.1.bn1.bias\", \"backbone.layer4.1.bn1.running_mean\", \"backbone.layer4.1.bn1.running_var\", \"backbone.layer4.1.convs.0.weight\", \"backbone.layer4.1.convs.1.weight\", \"backbone.layer4.1.convs.2.weight\", \"backbone.layer4.1.bns.0.weight\", \"backbone.layer4.1.bns.0.bias\", \"backbone.layer4.1.bns.0.running_mean\", \"backbone.layer4.1.bns.0.running_var\", \"backbone.layer4.1.bns.1.weight\", \"backbone.layer4.1.bns.1.bias\", \"backbone.layer4.1.bns.1.running_mean\", \"backbone.layer4.1.bns.1.running_var\", \"backbone.layer4.1.bns.2.weight\", \"backbone.layer4.1.bns.2.bias\", \"backbone.layer4.1.bns.2.running_mean\", \"backbone.layer4.1.bns.2.running_var\", \"backbone.layer4.1.conv3.weight\", \"backbone.layer4.1.bn3.weight\", \"backbone.layer4.1.bn3.bias\", \"backbone.layer4.1.bn3.running_mean\", \"backbone.layer4.1.bn3.running_var\", \"backbone.layer4.2.conv1.weight\", \"backbone.layer4.2.bn1.weight\", \"backbone.layer4.2.bn1.bias\", \"backbone.layer4.2.bn1.running_mean\", \"backbone.layer4.2.bn1.running_var\", \"backbone.layer4.2.convs.0.weight\", \"backbone.layer4.2.convs.1.weight\", \"backbone.layer4.2.convs.2.weight\", \"backbone.layer4.2.bns.0.weight\", \"backbone.layer4.2.bns.0.bias\", \"backbone.layer4.2.bns.0.running_mean\", \"backbone.layer4.2.bns.0.running_var\", \"backbone.layer4.2.bns.1.weight\", \"backbone.layer4.2.bns.1.bias\", \"backbone.layer4.2.bns.1.running_mean\", \"backbone.layer4.2.bns.1.running_var\", \"backbone.layer4.2.bns.2.weight\", \"backbone.layer4.2.bns.2.bias\", \"backbone.layer4.2.bns.2.running_mean\", \"backbone.layer4.2.bns.2.running_var\", \"backbone.layer4.2.conv3.weight\", \"backbone.layer4.2.bn3.weight\", \"backbone.layer4.2.bn3.bias\", \"backbone.layer4.2.bn3.running_mean\", \"backbone.layer4.2.bn3.running_var\", \"backbone.fc.weight\", \"backbone.fc.bias\", \"conv_ident1.weight\", \"conv_ident1.bias\", \"conv_ident2.weight\", \"conv_ident2.bias\", \"conv_verif.weight\", \"conv_verif.bias\", \"fc1.weight\", \"fc1.bias\", \"fc2.weight\", \"fc2.bias\", \"fc3.weight\", \"fc3.bias\". \n\tUnexpected key(s) in state_dict: \"module.backbone.conv1.weight\", \"module.backbone.bn1.weight\", \"module.backbone.bn1.bias\", \"module.backbone.bn1.running_mean\", \"module.backbone.bn1.running_var\", \"module.backbone.bn1.num_batches_tracked\", \"module.backbone.layer1.0.conv1.weight\", \"module.backbone.layer1.0.bn1.weight\", \"module.backbone.layer1.0.bn1.bias\", \"module.backbone.layer1.0.bn1.running_mean\", \"module.backbone.layer1.0.bn1.running_var\", \"module.backbone.layer1.0.bn1.num_batches_tracked\", \"module.backbone.layer1.0.convs.0.weight\", \"module.backbone.layer1.0.convs.1.weight\", \"module.backbone.layer1.0.convs.2.weight\", \"module.backbone.layer1.0.bns.0.weight\", \"module.backbone.layer1.0.bns.0.bias\", \"module.backbone.layer1.0.bns.0.running_mean\", \"module.backbone.layer1.0.bns.0.running_var\", \"module.backbone.layer1.0.bns.0.num_batches_tracked\", \"module.backbone.layer1.0.bns.1.weight\", \"module.backbone.layer1.0.bns.1.bias\", \"module.backbone.layer1.0.bns.1.running_mean\", \"module.backbone.layer1.0.bns.1.running_var\", \"module.backbone.layer1.0.bns.1.num_batches_tracked\", \"module.backbone.layer1.0.bns.2.weight\", \"module.backbone.layer1.0.bns.2.bias\", \"module.backbone.layer1.0.bns.2.running_mean\", \"module.backbone.layer1.0.bns.2.running_var\", \"module.backbone.layer1.0.bns.2.num_batches_tracked\", \"module.backbone.layer1.0.conv3.weight\", \"module.backbone.layer1.0.bn3.weight\", \"module.backbone.layer1.0.bn3.bias\", \"module.backbone.layer1.0.bn3.running_mean\", \"module.backbone.layer1.0.bn3.running_var\", \"module.backbone.layer1.0.bn3.num_batches_tracked\", \"module.backbone.layer1.0.downsample.0.weight\", \"module.backbone.layer1.0.downsample.1.weight\", \"module.backbone.layer1.0.downsample.1.bias\", \"module.backbone.layer1.0.downsample.1.running_mean\", \"module.backbone.layer1.0.downsample.1.running_var\", \"module.backbone.layer1.0.downsample.1.num_batches_tracked\", \"module.backbone.layer1.1.conv1.weight\", \"module.backbone.layer1.1.bn1.weight\", \"module.backbone.layer1.1.bn1.bias\", \"module.backbone.layer1.1.bn1.running_mean\", \"module.backbone.layer1.1.bn1.running_var\", \"module.backbone.layer1.1.bn1.num_batches_tracked\", \"module.backbone.layer1.1.convs.0.weight\", \"module.backbone.layer1.1.convs.1.weight\", \"module.backbone.layer1.1.convs.2.weight\", \"module.backbone.layer1.1.bns.0.weight\", \"module.backbone.layer1.1.bns.0.bias\", \"module.backbone.layer1.1.bns.0.running_mean\", \"module.backbone.layer1.1.bns.0.running_var\", \"module.backbone.layer1.1.bns.0.num_batches_tracked\", \"module.backbone.layer1.1.bns.1.weight\", \"module.backbone.layer1.1.bns.1.bias\", \"module.backbone.layer1.1.bns.1.running_mean\", \"module.backbone.layer1.1.bns.1.running_var\", \"module.backbone.layer1.1.bns.1.num_batches_tracked\", \"module.backbone.layer1.1.bns.2.weight\", \"module.backbone.layer1.1.bns.2.bias\", \"module.backbone.layer1.1.bns.2.running_mean\", \"module.backbone.layer1.1.bns.2.running_var\", \"module.backbone.layer1.1.bns.2.num_batches_tracked\", \"module.backbone.layer1.1.conv3.weight\", \"module.backbone.layer1.1.bn3.weight\", \"module.backbone.layer1.1.bn3.bias\", \"module.backbone.layer1.1.bn3.running_mean\", \"module.backbone.layer1.1.bn3.running_var\", \"module.backbone.layer1.1.bn3.num_batches_tracked\", \"module.backbone.layer1.2.conv1.weight\", \"module.backbone.layer1.2.bn1.weight\", \"module.backbone.layer1.2.bn1.bias\", \"module.backbone.layer1.2.bn1.running_mean\", \"module.backbone.layer1.2.bn1.running_var\", \"module.backbone.layer1.2.bn1.num_batches_tracked\", \"module.backbone.layer1.2.convs.0.weight\", \"module.backbone.layer1.2.convs.1.weight\", \"module.backbone.layer1.2.convs.2.weight\", \"module.backbone.layer1.2.bns.0.weight\", \"module.backbone.layer1.2.bns.0.bias\", \"module.backbone.layer1.2.bns.0.running_mean\", \"module.backbone.layer1.2.bns.0.running_var\", \"module.backbone.layer1.2.bns.0.num_batches_tracked\", \"module.backbone.layer1.2.bns.1.weight\", \"module.backbone.layer1.2.bns.1.bias\", \"module.backbone.layer1.2.bns.1.running_mean\", \"module.backbone.layer1.2.bns.1.running_var\", \"module.backbone.layer1.2.bns.1.num_batches_tracked\", \"module.backbone.layer1.2.bns.2.weight\", \"module.backbone.layer1.2.bns.2.bias\", \"module.backbone.layer1.2.bns.2.running_mean\", \"module.backbone.layer1.2.bns.2.running_var\", \"module.backbone.layer1.2.bns.2.num_batches_tracked\", \"module.backbone.layer1.2.conv3.weight\", \"module.backbone.layer1.2.bn3.weight\", \"module.backbone.layer1.2.bn3.bias\", \"module.backbone.layer1.2.bn3.running_mean\", \"module.backbone.layer1.2.bn3.running_var\", \"module.backbone.layer1.2.bn3.num_batches_tracked\", \"module.backbone.layer2.0.conv1.weight\", \"module.backbone.layer2.0.bn1.weight\", \"module.backbone.layer2.0.bn1.bias\", \"module.backbone.layer2.0.bn1.running_mean\", \"module.backbone.layer2.0.bn1.running_var\", \"module.backbone.layer2.0.bn1.num_batches_tracked\", \"module.backbone.layer2.0.convs.0.weight\", \"module.backbone.layer2.0.convs.1.weight\", \"module.backbone.layer2.0.convs.2.weight\", \"module.backbone.layer2.0.bns.0.weight\", \"module.backbone.layer2.0.bns.0.bias\", \"module.backbone.layer2.0.bns.0.running_mean\", \"module.backbone.layer2.0.bns.0.running_var\", \"module.backbone.layer2.0.bns.0.num_batches_tracked\", \"module.backbone.layer2.0.bns.1.weight\", \"module.backbone.layer2.0.bns.1.bias\", \"module.backbone.layer2.0.bns.1.running_mean\", \"module.backbone.layer2.0.bns.1.running_var\", \"module.backbone.layer2.0.bns.1.num_batches_tracked\", \"module.backbone.layer2.0.bns.2.weight\", \"module.backbone.layer2.0.bns.2.bias\", \"module.backbone.layer2.0.bns.2.running_mean\", \"module.backbone.layer2.0.bns.2.running_var\", \"module.backbone.layer2.0.bns.2.num_batches_tracked\", \"module.backbone.layer2.0.conv3.weight\", \"module.backbone.layer2.0.bn3.weight\", \"module.backbone.layer2.0.bn3.bias\", \"module.backbone.layer2.0.bn3.running_mean\", \"module.backbone.layer2.0.bn3.running_var\", \"module.backbone.layer2.0.bn3.num_batches_tracked\", \"module.backbone.layer2.0.downsample.0.weight\", \"module.backbone.layer2.0.downsample.1.weight\", \"module.backbone.layer2.0.downsample.1.bias\", \"module.backbone.layer2.0.downsample.1.running_mean\", \"module.backbone.layer2.0.downsample.1.running_var\", \"module.backbone.layer2.0.downsample.1.num_batches_tracked\", \"module.backbone.layer2.1.conv1.weight\", \"module.backbone.layer2.1.bn1.weight\", \"module.backbone.layer2.1.bn1.bias\", \"module.backbone.layer2.1.bn1.running_mean\", \"module.backbone.layer2.1.bn1.running_var\", \"module.backbone.layer2.1.bn1.num_batches_tracked\", \"module.backbone.layer2.1.convs.0.weight\", \"module.backbone.layer2.1.convs.1.weight\", \"module.backbone.layer2.1.convs.2.weight\", \"module.backbone.layer2.1.bns.0.weight\", \"module.backbone.layer2.1.bns.0.bias\", \"module.backbone.layer2.1.bns.0.running_mean\", \"module.backbone.layer2.1.bns.0.running_var\", \"module.backbone.layer2.1.bns.0.num_batches_tracked\", \"module.backbone.layer2.1.bns.1.weight\", \"module.backbone.layer2.1.bns.1.bias\", \"module.backbone.layer2.1.bns.1.running_mean\", \"module.backbone.layer2.1.bns.1.running_var\", \"module.backbone.layer2.1.bns.1.num_batches_tracked\", \"module.backbone.layer2.1.bns.2.weight\", \"module.backbone.layer2.1.bns.2.bias\", \"module.backbone.layer2.1.bns.2.running_mean\", \"module.backbone.layer2.1.bns.2.running_var\", \"module.backbone.layer2.1.bns.2.num_batches_tracked\", \"module.backbone.layer2.1.conv3.weight\", \"module.backbone.layer2.1.bn3.weight\", \"module.backbone.layer2.1.bn3.bias\", \"module.backbone.layer2.1.bn3.running_mean\", \"module.backbone.layer2.1.bn3.running_var\", \"module.backbone.layer2.1.bn3.num_batches_tracked\", \"module.backbone.layer2.2.conv1.weight\", \"module.backbone.layer2.2.bn1.weight\", \"module.backbone.layer2.2.bn1.bias\", \"module.backbone.layer2.2.bn1.running_mean\", \"module.backbone.layer2.2.bn1.running_var\", \"module.backbone.layer2.2.bn1.num_batches_tracked\", \"module.backbone.layer2.2.convs.0.weight\", \"module.backbone.layer2.2.convs.1.weight\", \"module.backbone.layer2.2.convs.2.weight\", \"module.backbone.layer2.2.bns.0.weight\", \"module.backbone.layer2.2.bns.0.bias\", \"module.backbone.layer2.2.bns.0.running_mean\", \"module.backbone.layer2.2.bns.0.running_var\", \"module.backbone.layer2.2.bns.0.num_batches_tracked\", \"module.backbone.layer2.2.bns.1.weight\", \"module.backbone.layer2.2.bns.1.bias\", \"module.backbone.layer2.2.bns.1.running_mean\", \"module.backbone.layer2.2.bns.1.running_var\", \"module.backbone.layer2.2.bns.1.num_batches_tracked\", \"module.backbone.layer2.2.bns.2.weight\", \"module.backbone.layer2.2.bns.2.bias\", \"module.backbone.layer2.2.bns.2.running_mean\", \"module.backbone.layer2.2.bns.2.running_var\", \"module.backbone.layer2.2.bns.2.num_batches_tracked\", \"module.backbone.layer2.2.conv3.weight\", \"module.backbone.layer2.2.bn3.weight\", \"module.backbone.layer2.2.bn3.bias\", \"module.backbone.layer2.2.bn3.running_mean\", \"module.backbone.layer2.2.bn3.running_var\", \"module.backbone.layer2.2.bn3.num_batches_tracked\", \"module.backbone.layer2.3.conv1.weight\", \"module.backbone.layer2.3.bn1.weight\", \"module.backbone.layer2.3.bn1.bias\", \"module.backbone.layer2.3.bn1.running_mean\", \"module.backbone.layer2.3.bn1.running_var\", \"module.backbone.layer2.3.bn1.num_batches_tracked\", \"module.backbone.layer2.3.convs.0.weight\", \"module.backbone.layer2.3.convs.1.weight\", \"module.backbone.layer2.3.convs.2.weight\", \"module.backbone.layer2.3.bns.0.weight\", \"module.backbone.layer2.3.bns.0.bias\", \"module.backbone.layer2.3.bns.0.running_mean\", \"module.backbone.layer2.3.bns.0.running_var\", \"module.backbone.layer2.3.bns.0.num_batches_tracked\", \"module.backbone.layer2.3.bns.1.weight\", \"module.backbone.layer2.3.bns.1.bias\", \"module.backbone.layer2.3.bns.1.running_mean\", \"module.backbone.layer2.3.bns.1.running_var\", \"module.backbone.layer2.3.bns.1.num_batches_tracked\", \"module.backbone.layer2.3.bns.2.weight\", \"module.backbone.layer2.3.bns.2.bias\", \"module.backbone.layer2.3.bns.2.running_mean\", \"module.backbone.layer2.3.bns.2.running_var\", \"module.backbone.layer2.3.bns.2.num_batches_tracked\", \"module.backbone.layer2.3.conv3.weight\", \"module.backbone.layer2.3.bn3.weight\", \"module.backbone.layer2.3.bn3.bias\", \"module.backbone.layer2.3.bn3.running_mean\", \"module.backbone.layer2.3.bn3.running_var\", \"module.backbone.layer2.3.bn3.num_batches_tracked\", \"module.backbone.layer3.0.conv1.weight\", \"module.backbone.layer3.0.bn1.weight\", \"module.backbone.layer3.0.bn1.bias\", \"module.backbone.layer3.0.bn1.running_mean\", \"module.backbone.layer3.0.bn1.running_var\", \"module.backbone.layer3.0.bn1.num_batches_tracked\", \"module.backbone.layer3.0.convs.0.weight\", \"module.backbone.layer3.0.convs.1.weight\", \"module.backbone.layer3.0.convs.2.weight\", \"module.backbone.layer3.0.bns.0.weight\", \"module.backbone.layer3.0.bns.0.bias\", \"module.backbone.layer3.0.bns.0.running_mean\", \"module.backbone.layer3.0.bns.0.running_var\", \"module.backbone.layer3.0.bns.0.num_batches_tracked\", \"module.backbone.layer3.0.bns.1.weight\", \"module.backbone.layer3.0.bns.1.bias\", \"module.backbone.layer3.0.bns.1.running_mean\", \"module.backbone.layer3.0.bns.1.running_var\", \"module.backbone.layer3.0.bns.1.num_batches_tracked\", \"module.backbone.layer3.0.bns.2.weight\", \"module.backbone.layer3.0.bns.2.bias\", \"module.backbone.layer3.0.bns.2.running_mean\", \"module.backbone.layer3.0.bns.2.running_var\", \"module.backbone.layer3.0.bns.2.num_batches_tracked\", \"module.backbone.layer3.0.conv3.weight\", \"module.backbone.layer3.0.bn3.weight\", \"module.backbone.layer3.0.bn3.bias\", \"module.backbone.layer3.0.bn3.running_mean\", \"module.backbone.layer3.0.bn3.running_var\", \"module.backbone.layer3.0.bn3.num_batches_tracked\", \"module.backbone.layer3.0.downsample.0.weight\", \"module.backbone.layer3.0.downsample.1.weight\", \"module.backbone.layer3.0.downsample.1.bias\", \"module.backbone.layer3.0.downsample.1.running_mean\", \"module.backbone.layer3.0.downsample.1.running_var\", \"module.backbone.layer3.0.downsample.1.num_batches_tracked\", \"module.backbone.layer3.1.conv1.weight\", \"module.backbone.layer3.1.bn1.weight\", \"module.backbone.layer3.1.bn1.bias\", \"module.backbone.layer3.1.bn1.running_mean\", \"module.backbone.layer3.1.bn1.running_var\", \"module.backbone.layer3.1.bn1.num_batches_tracked\", \"module.backbone.layer3.1.convs.0.weight\", \"module.backbone.layer3.1.convs.1.weight\", \"module.backbone.layer3.1.convs.2.weight\", \"module.backbone.layer3.1.bns.0.weight\", \"module.backbone.layer3.1.bns.0.bias\", \"module.backbone.layer3.1.bns.0.running_mean\", \"module.backbone.layer3.1.bns.0.running_var\", \"module.backbone.layer3.1.bns.0.num_batches_tracked\", \"module.backbone.layer3.1.bns.1.weight\", \"module.backbone.layer3.1.bns.1.bias\", \"module.backbone.layer3.1.bns.1.running_mean\", \"module.backbone.layer3.1.bns.1.running_var\", \"module.backbone.layer3.1.bns.1.num_batches_tracked\", \"module.backbone.layer3.1.bns.2.weight\", \"module.backbone.layer3.1.bns.2.bias\", \"module.backbone.layer3.1.bns.2.running_mean\", \"module.backbone.layer3.1.bns.2.running_var\", \"module.backbone.layer3.1.bns.2.num_batches_tracked\", \"module.backbone.layer3.1.conv3.weight\", \"module.backbone.layer3.1.bn3.weight\", \"module.backbone.layer3.1.bn3.bias\", \"module.backbone.layer3.1.bn3.running_mean\", \"module.backbone.layer3.1.bn3.running_var\", \"module.backbone.layer3.1.bn3.num_batches_tracked\", \"module.backbone.layer3.2.conv1.weight\", \"module.backbone.layer3.2.bn1.weight\", \"module.backbone.layer3.2.bn1.bias\", \"module.backbone.layer3.2.bn1.running_mean\", \"module.backbone.layer3.2.bn1.running_var\", \"module.backbone.layer3.2.bn1.num_batches_tracked\", \"module.backbone.layer3.2.convs.0.weight\", \"module.backbone.layer3.2.convs.1.weight\", \"module.backbone.layer3.2.convs.2.weight\", \"module.backbone.layer3.2.bns.0.weight\", \"module.backbone.layer3.2.bns.0.bias\", \"module.backbone.layer3.2.bns.0.running_mean\", \"module.backbone.layer3.2.bns.0.running_var\", \"module.backbone.layer3.2.bns.0.num_batches_tracked\", \"module.backbone.layer3.2.bns.1.weight\", \"module.backbone.layer3.2.bns.1.bias\", \"module.backbone.layer3.2.bns.1.running_mean\", \"module.backbone.layer3.2.bns.1.running_var\", \"module.backbone.layer3.2.bns.1.num_batches_tracked\", \"module.backbone.layer3.2.bns.2.weight\", \"module.backbone.layer3.2.bns.2.bias\", \"module.backbone.layer3.2.bns.2.running_mean\", \"module.backbone.layer3.2.bns.2.running_var\", \"module.backbone.layer3.2.bns.2.num_batches_tracked\", \"module.backbone.layer3.2.conv3.weight\", \"module.backbone.layer3.2.bn3.weight\", \"module.backbone.layer3.2.bn3.bias\", \"module.backbone.layer3.2.bn3.running_mean\", \"module.backbone.layer3.2.bn3.running_var\", \"module.backbone.layer3.2.bn3.num_batches_tracked\", \"module.backbone.layer3.3.conv1.weight\", \"module.backbone.layer3.3.bn1.weight\", \"module.backbone.layer3.3.bn1.bias\", \"module.backbone.layer3.3.bn1.running_mean\", \"module.backbone.layer3.3.bn1.running_var\", \"module.backbone.layer3.3.bn1.num_batches_tracked\", \"module.backbone.layer3.3.convs.0.weight\", \"module.backbone.layer3.3.convs.1.weight\", \"module.backbone.layer3.3.convs.2.weight\", \"module.backbone.layer3.3.bns.0.weight\", \"module.backbone.layer3.3.bns.0.bias\", \"module.backbone.layer3.3.bns.0.running_mean\", \"module.backbone.layer3.3.bns.0.running_var\", \"module.backbone.layer3.3.bns.0.num_batches_tracked\", \"module.backbone.layer3.3.bns.1.weight\", \"module.backbone.layer3.3.bns.1.bias\", \"module.backbone.layer3.3.bns.1.running_mean\", \"module.backbone.layer3.3.bns.1.running_var\", \"module.backbone.layer3.3.bns.1.num_batches_tracked\", \"module.backbone.layer3.3.bns.2.weight\", \"module.backbone.layer3.3.bns.2.bias\", \"module.backbone.layer3.3.bns.2.running_mean\", \"module.backbone.layer3.3.bns.2.running_var\", \"module.backbone.layer3.3.bns.2.num_batches_tracked\", \"module.backbone.layer3.3.conv3.weight\", \"module.backbone.layer3.3.bn3.weight\", \"module.backbone.layer3.3.bn3.bias\", \"module.backbone.layer3.3.bn3.running_mean\", \"module.backbone.layer3.3.bn3.running_var\", \"module.backbone.layer3.3.bn3.num_batches_tracked\", \"module.backbone.layer3.4.conv1.weight\", \"module.backbone.layer3.4.bn1.weight\", \"module.backbone.layer3.4.bn1.bias\", \"module.backbone.layer3.4.bn1.running_mean\", \"module.backbone.layer3.4.bn1.running_var\", \"module.backbone.layer3.4.bn1.num_batches_tracked\", \"module.backbone.layer3.4.convs.0.weight\", \"module.backbone.layer3.4.convs.1.weight\", \"module.backbone.layer3.4.convs.2.weight\", \"module.backbone.layer3.4.bns.0.weight\", \"module.backbone.layer3.4.bns.0.bias\", \"module.backbone.layer3.4.bns.0.running_mean\", \"module.backbone.layer3.4.bns.0.running_var\", \"module.backbone.layer3.4.bns.0.num_batches_tracked\", \"module.backbone.layer3.4.bns.1.weight\", \"module.backbone.layer3.4.bns.1.bias\", \"module.backbone.layer3.4.bns.1.running_mean\", \"module.backbone.layer3.4.bns.1.running_var\", \"module.backbone.layer3.4.bns.1.num_batches_tracked\", \"module.backbone.layer3.4.bns.2.weight\", \"module.backbone.layer3.4.bns.2.bias\", \"module.backbone.layer3.4.bns.2.running_mean\", \"module.backbone.layer3.4.bns.2.running_var\", \"module.backbone.layer3.4.bns.2.num_batches_tracked\", \"module.backbone.layer3.4.conv3.weight\", \"module.backbone.layer3.4.bn3.weight\", \"module.backbone.layer3.4.bn3.bias\", \"module.backbone.layer3.4.bn3.running_mean\", \"module.backbone.layer3.4.bn3.running_var\", \"module.backbone.layer3.4.bn3.num_batches_tracked\", \"module.backbone.layer3.5.conv1.weight\", \"module.backbone.layer3.5.bn1.weight\", \"module.backbone.layer3.5.bn1.bias\", \"module.backbone.layer3.5.bn1.running_mean\", \"module.backbone.layer3.5.bn1.running_var\", \"module.backbone.layer3.5.bn1.num_batches_tracked\", \"module.backbone.layer3.5.convs.0.weight\", \"module.backbone.layer3.5.convs.1.weight\", \"module.backbone.layer3.5.convs.2.weight\", \"module.backbone.layer3.5.bns.0.weight\", \"module.backbone.layer3.5.bns.0.bias\", \"module.backbone.layer3.5.bns.0.running_mean\", \"module.backbone.layer3.5.bns.0.running_var\", \"module.backbone.layer3.5.bns.0.num_batches_tracked\", \"module.backbone.layer3.5.bns.1.weight\", \"module.backbone.layer3.5.bns.1.bias\", \"module.backbone.layer3.5.bns.1.running_mean\", \"module.backbone.layer3.5.bns.1.running_var\", \"module.backbone.layer3.5.bns.1.num_batches_tracked\", \"module.backbone.layer3.5.bns.2.weight\", \"module.backbone.layer3.5.bns.2.bias\", \"module.backbone.layer3.5.bns.2.running_mean\", \"module.backbone.layer3.5.bns.2.running_var\", \"module.backbone.layer3.5.bns.2.num_batches_tracked\", \"module.backbone.layer3.5.conv3.weight\", \"module.backbone.layer3.5.bn3.weight\", \"module.backbone.layer3.5.bn3.bias\", \"module.backbone.layer3.5.bn3.running_mean\", \"module.backbone.layer3.5.bn3.running_var\", \"module.backbone.layer3.5.bn3.num_batches_tracked\", \"module.backbone.layer4.0.conv1.weight\", \"module.backbone.layer4.0.bn1.weight\", \"module.backbone.layer4.0.bn1.bias\", \"module.backbone.layer4.0.bn1.running_mean\", \"module.backbone.layer4.0.bn1.running_var\", \"module.backbone.layer4.0.bn1.num_batches_tracked\", \"module.backbone.layer4.0.convs.0.weight\", \"module.backbone.layer4.0.convs.1.weight\", \"module.backbone.layer4.0.convs.2.weight\", \"module.backbone.layer4.0.bns.0.weight\", \"module.backbone.layer4.0.bns.0.bias\", \"module.backbone.layer4.0.bns.0.running_mean\", \"module.backbone.layer4.0.bns.0.running_var\", \"module.backbone.layer4.0.bns.0.num_batches_tracked\", \"module.backbone.layer4.0.bns.1.weight\", \"module.backbone.layer4.0.bns.1.bias\", \"module.backbone.layer4.0.bns.1.running_mean\", \"module.backbone.layer4.0.bns.1.running_var\", \"module.backbone.layer4.0.bns.1.num_batches_tracked\", \"module.backbone.layer4.0.bns.2.weight\", \"module.backbone.layer4.0.bns.2.bias\", \"module.backbone.layer4.0.bns.2.running_mean\", \"module.backbone.layer4.0.bns.2.running_var\", \"module.backbone.layer4.0.bns.2.num_batches_tracked\", \"module.backbone.layer4.0.conv3.weight\", \"module.backbone.layer4.0.bn3.weight\", \"module.backbone.layer4.0.bn3.bias\", \"module.backbone.layer4.0.bn3.running_mean\", \"module.backbone.layer4.0.bn3.running_var\", \"module.backbone.layer4.0.bn3.num_batches_tracked\", \"module.backbone.layer4.0.downsample.0.weight\", \"module.backbone.layer4.0.downsample.1.weight\", \"module.backbone.layer4.0.downsample.1.bias\", \"module.backbone.layer4.0.downsample.1.running_mean\", \"module.backbone.layer4.0.downsample.1.running_var\", \"module.backbone.layer4.0.downsample.1.num_batches_tracked\", \"module.backbone.layer4.1.conv1.weight\", \"module.backbone.layer4.1.bn1.weight\", \"module.backbone.layer4.1.bn1.bias\", \"module.backbone.layer4.1.bn1.running_mean\", \"module.backbone.layer4.1.bn1.running_var\", \"module.backbone.layer4.1.bn1.num_batches_tracked\", \"module.backbone.layer4.1.convs.0.weight\", \"module.backbone.layer4.1.convs.1.weight\", \"module.backbone.layer4.1.convs.2.weight\", \"module.backbone.layer4.1.bns.0.weight\", \"module.backbone.layer4.1.bns.0.bias\", \"module.backbone.layer4.1.bns.0.running_mean\", \"module.backbone.layer4.1.bns.0.running_var\", \"module.backbone.layer4.1.bns.0.num_batches_tracked\", \"module.backbone.layer4.1.bns.1.weight\", \"module.backbone.layer4.1.bns.1.bias\", \"module.backbone.layer4.1.bns.1.running_mean\", \"module.backbone.layer4.1.bns.1.running_var\", \"module.backbone.layer4.1.bns.1.num_batches_tracked\", \"module.backbone.layer4.1.bns.2.weight\", \"module.backbone.layer4.1.bns.2.bias\", \"module.backbone.layer4.1.bns.2.running_mean\", \"module.backbone.layer4.1.bns.2.running_var\", \"module.backbone.layer4.1.bns.2.num_batches_tracked\", \"module.backbone.layer4.1.conv3.weight\", \"module.backbone.layer4.1.bn3.weight\", \"module.backbone.layer4.1.bn3.bias\", \"module.backbone.layer4.1.bn3.running_mean\", \"module.backbone.layer4.1.bn3.running_var\", \"module.backbone.layer4.1.bn3.num_batches_tracked\", \"module.backbone.layer4.2.conv1.weight\", \"module.backbone.layer4.2.bn1.weight\", \"module.backbone.layer4.2.bn1.bias\", \"module.backbone.layer4.2.bn1.running_mean\", \"module.backbone.layer4.2.bn1.running_var\", \"module.backbone.layer4.2.bn1.num_batches_tracked\", \"module.backbone.layer4.2.convs.0.weight\", \"module.backbone.layer4.2.convs.1.weight\", \"module.backbone.layer4.2.convs.2.weight\", \"module.backbone.layer4.2.bns.0.weight\", \"module.backbone.layer4.2.bns.0.bias\", \"module.backbone.layer4.2.bns.0.running_mean\", \"module.backbone.layer4.2.bns.0.running_var\", \"module.backbone.layer4.2.bns.0.num_batches_tracked\", \"module.backbone.layer4.2.bns.1.weight\", \"module.backbone.layer4.2.bns.1.bias\", \"module.backbone.layer4.2.bns.1.running_mean\", \"module.backbone.layer4.2.bns.1.running_var\", \"module.backbone.layer4.2.bns.1.num_batches_tracked\", \"module.backbone.layer4.2.bns.2.weight\", \"module.backbone.layer4.2.bns.2.bias\", \"module.backbone.layer4.2.bns.2.running_mean\", \"module.backbone.layer4.2.bns.2.running_var\", \"module.backbone.layer4.2.bns.2.num_batches_tracked\", \"module.backbone.layer4.2.conv3.weight\", \"module.backbone.layer4.2.bn3.weight\", \"module.backbone.layer4.2.bn3.bias\", \"module.backbone.layer4.2.bn3.running_mean\", \"module.backbone.layer4.2.bn3.running_var\", \"module.backbone.layer4.2.bn3.num_batches_tracked\", \"module.backbone.fc.weight\", \"module.backbone.fc.bias\", \"module.conv_ident1.weight\", \"module.conv_ident1.bias\", \"module.conv_ident2.weight\", \"module.conv_ident2.bias\", \"module.conv_verif.weight\", \"module.conv_verif.bias\", \"module.fc1.weight\", \"module.fc1.bias\", \"module.fc2.weight\", \"module.fc2.bias\", \"module.fc3.weight\", \"module.fc3.bias\". "
     ]
    }
   ],
   "source": [
    "model.load_state_dict(torch.load(\"../../re-id-res2net_duke_shared_conv_87_71.pth\"))"
   ]
  },
  {
   "cell_type": "code",
   "execution_count": null,
   "metadata": {},
   "outputs": [],
   "source": []
  }
 ],
 "metadata": {
  "kernelspec": {
   "display_name": "Python 3",
   "language": "python",
   "name": "python3"
  },
  "language_info": {
   "codemirror_mode": {
    "name": "ipython",
    "version": 3
   },
   "file_extension": ".py",
   "mimetype": "text/x-python",
   "name": "python",
   "nbconvert_exporter": "python",
   "pygments_lexer": "ipython3",
   "version": "3.6.9"
  }
 },
 "nbformat": 4,
 "nbformat_minor": 4
}
