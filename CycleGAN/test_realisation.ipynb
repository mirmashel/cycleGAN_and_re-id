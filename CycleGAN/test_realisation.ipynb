{
 "cells": [
  {
   "cell_type": "code",
   "execution_count": 1,
   "metadata": {},
   "outputs": [],
   "source": [
    "%load_ext autoreload\n",
    "%autoreload 2\n"
   ]
  },
  {
   "cell_type": "code",
   "execution_count": 2,
   "metadata": {},
   "outputs": [],
   "source": [
    "from models import networks\n",
    "import torch\n",
    "from torchvision import transforms"
   ]
  },
  {
   "cell_type": "code",
   "execution_count": 3,
   "metadata": {},
   "outputs": [],
   "source": [
    "model = networks.PerceptualLoss().cuda()"
   ]
  },
  {
   "cell_type": "code",
   "execution_count": 10,
   "metadata": {},
   "outputs": [],
   "source": [
    "x = (torch.rand(16, 3, 256, 256).cuda() - 0.5) * 2\n",
    "y = (torch.rand(16, 3, 256, 256).cuda() - 0.5) * 2\n",
    "neg = (torch.rand(16, 3, 256, 256).cuda() - 0.5) * 2"
   ]
  },
  {
   "cell_type": "code",
   "execution_count": 29,
   "metadata": {},
   "outputs": [
    {
     "name": "stdout",
     "output_type": "stream",
     "text": [
      "tensor(55.1514, device='cuda:0')\n"
     ]
    }
   ],
   "source": [
    "with torch.no_grad():\n",
    "    x = (torch.rand(16, 3, 256, 256).cuda() - 0.5) * 2\n",
    "    y = (torch.rand(16, 3, 256, 256).cuda() - 0.5) * 2\n",
    "    neg = (torch.rand(16, 3, 256, 256).cuda() - 0.5) * 2\n",
    "    print(model(x, y, neg))"
   ]
  },
  {
   "cell_type": "code",
   "execution_count": 66,
   "metadata": {},
   "outputs": [],
   "source": [
    "input_mean = (0.5, 0.5, 0.5)\n",
    "input_std = (0.5, 0.5, 0.5)\n",
    "imagenet_mean = (0.485, 0.456, 0.406)\n",
    "imagenet_std = (0.229, 0.224, 0.225)"
   ]
  },
  {
   "cell_type": "code",
   "execution_count": 55,
   "metadata": {},
   "outputs": [],
   "source": [
    "class Normalize:\n",
    "    def __init__(self, mean, std, inplace=False, dtype=torch.float, device='cpu'):\n",
    "        self.mean = torch.as_tensor(mean, dtype=dtype, device=device)[None, :, None, None]\n",
    "        self.std = torch.as_tensor(std, dtype=dtype, device=device)[None, :, None, None]\n",
    "        self.inplace = inplace\n",
    "        \n",
    "    def __call__(self, tensor):\n",
    "        if not self.inplace:\n",
    "            tensor = tensor.clone()\n",
    "\n",
    "        tensor.sub_(self.mean).div_(self.std)\n",
    "        return tensor"
   ]
  },
  {
   "cell_type": "code",
   "execution_count": 57,
   "metadata": {},
   "outputs": [],
   "source": [
    "tr = transforms.Compose([\n",
    "    Normalize(mean=[-mean/std for mean, std in zip(input_mean, input_std)], std=[1/std for std in input_std], dtype = x.dtype, device = 'cuda'),\n",
    "    Normalize(mean=imagenet_mean, std=imagenet_std, dtype = x.dtype, device = 'cuda')\n",
    "])"
   ]
  },
  {
   "cell_type": "code",
   "execution_count": 63,
   "metadata": {},
   "outputs": [],
   "source": [
    "y = tr(x)"
   ]
  },
  {
   "cell_type": "code",
   "execution_count": 64,
   "metadata": {},
   "outputs": [
    {
     "data": {
      "text/plain": [
       "torch.Size([16, 3, 256, 256])"
      ]
     },
     "execution_count": 64,
     "metadata": {},
     "output_type": "execute_result"
    }
   ],
   "source": [
    "y.size()"
   ]
  }
 ],
 "metadata": {
  "kernelspec": {
   "display_name": "Python 3",
   "language": "python",
   "name": "python3"
  },
  "language_info": {
   "codemirror_mode": {
    "name": "ipython",
    "version": 3
   },
   "file_extension": ".py",
   "mimetype": "text/x-python",
   "name": "python",
   "nbconvert_exporter": "python",
   "pygments_lexer": "ipython3",
   "version": "3.6.9"
  }
 },
 "nbformat": 4,
 "nbformat_minor": 4
}
